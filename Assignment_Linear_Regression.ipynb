{
  "nbformat": 4,
  "nbformat_minor": 0,
  "metadata": {
    "colab": {
      "provenance": [],
      "authorship_tag": "ABX9TyNVxALDwX9bJ9P2X1H/VXfy",
      "include_colab_link": true
    },
    "kernelspec": {
      "name": "python3",
      "display_name": "Python 3"
    },
    "language_info": {
      "name": "python"
    }
  },
  "cells": [
    {
      "cell_type": "markdown",
      "metadata": {
        "id": "view-in-github",
        "colab_type": "text"
      },
      "source": [
        "<a href=\"https://colab.research.google.com/github/sokhan1/PYTHON/blob/main/Assignment_Linear_Regression.ipynb\" target=\"_parent\"><img src=\"https://colab.research.google.com/assets/colab-badge.svg\" alt=\"Open In Colab\"/></a>"
      ]
    },
    {
      "cell_type": "code",
      "execution_count": 2,
      "metadata": {
        "colab": {
          "base_uri": "https://localhost:8080/"
        },
        "id": "Ikce-aQCRiKz",
        "outputId": "b01cfc9b-cb85-45ac-969b-34e6a81afaf7"
      },
      "outputs": [
        {
          "output_type": "stream",
          "name": "stdout",
          "text": [
            "2.17.0\n"
          ]
        }
      ],
      "source": [
        "import tensorflow as tf\n",
        "print(tf.__version__)"
      ]
    },
    {
      "cell_type": "code",
      "source": [
        "#(1) data\n",
        "X = [1,2,3]\n",
        "Y = [1,2,3]\n",
        "\n",
        "#(2) hypothesis\n",
        "W = tf.Variable(tf.random.normal([1]), name='weight')\n",
        "b = tf.Variable(tf.random.normal([1]), name='bias')\n",
        "\n",
        "def hypothesis(x):\n",
        "    return W*x+b\n",
        "\n",
        "#(3) cost function\n",
        "def cost_function(y_pred, y_true):\n",
        "    return tf.reduce_mean(tf.square(y_pred - y_true))\n",
        "\n",
        "#(4)\n",
        "optimizer = tf.optimizers.SGD(learning_rate=0.01)\n"
      ],
      "metadata": {
        "id": "Z9ffJxWzS2xJ"
      },
      "execution_count": 3,
      "outputs": []
    },
    {
      "cell_type": "code",
      "source": [
        "#(5)\n",
        "def train():\n",
        "    # tf.GradientTape를 사용하여 모델을 훈련, 자동 미분을 윈한 tf.GradientTape\n",
        "    with tf.GradientTape() as g:\n",
        "        pred = hypothesis(X)\n",
        "        cost = cost_function(pred, Y)\n",
        "\n",
        "    #calculation of gradient\n",
        "    gradients = g.gradient(cost, [W,b])\n",
        "    #print(gradients)\n",
        "\n",
        "    #gradients에 따라 W와 b업데이트\n",
        "    optimizer.apply_gradients(zip(gradients,[W,b]))\n"
      ],
      "metadata": {
        "id": "9clKR0NdOnxU"
      },
      "execution_count": 6,
      "outputs": []
    },
    {
      "cell_type": "code",
      "source": [
        "for step in range(2001):\n",
        "    train()\n",
        "\n",
        "    #display\n",
        "    if step % 500 == 0:\n",
        "        pred = hypothesis(X)\n",
        "        cost = cost_function(pred, Y)\n",
        "        print(\"step = {}, cost = {}, W={}, b={}\".format(step+1, cost, W.numpy(), b.numpy()))"
      ],
      "metadata": {
        "colab": {
          "base_uri": "https://localhost:8080/"
        },
        "id": "8fx5xRbMQQUq",
        "outputId": "2eff434c-0376-4e80-da87-47096a76f6be"
      },
      "execution_count": 7,
      "outputs": [
        {
          "output_type": "stream",
          "name": "stdout",
          "text": [
            "step = 1, cost = 3.1297073364257812, W=[-0.32502863], b=[1.2503285]\n",
            "step = 501, cost = 0.030494235455989838, W=[0.7971828], b=[0.4610512]\n",
            "step = 1001, cost = 0.0027475617825984955, W=[0.93912053], b=[0.13839304]\n",
            "step = 1501, cost = 0.0002475579094607383, W=[0.98172605], b=[0.04154107]\n",
            "step = 2001, cost = 2.2304448066279292e-05, W=[0.99451476], b=[0.01246921]\n"
          ]
        }
      ]
    },
    {
      "cell_type": "code",
      "source": [
        "print(X)\n",
        "print(W)\n",
        "print(b)"
      ],
      "metadata": {
        "colab": {
          "base_uri": "https://localhost:8080/"
        },
        "id": "Oc2C7nNeaxri",
        "outputId": "37fde1d2-263c-48cc-c2f9-06effc555966"
      },
      "execution_count": 9,
      "outputs": [
        {
          "output_type": "stream",
          "name": "stdout",
          "text": [
            "[1, 2, 3]\n",
            "<tf.Variable 'weight:0' shape=(1,) dtype=float32, numpy=array([0.99451476], dtype=float32)>\n",
            "<tf.Variable 'bias:0' shape=(1,) dtype=float32, numpy=array([0.01246921], dtype=float32)>\n"
          ]
        }
      ]
    },
    {
      "cell_type": "code",
      "source": [
        "import matplotlib.pyplot as plt\n",
        "import numpy as np\n",
        "\n",
        "#(6) visualization\n",
        "plt.plot(X, Y, 'ro', label='Original Data')\n",
        "plt.plot(X, np.array(W*X+b), label='Fitted Line')\n",
        "plt.legend()\n",
        "plt.title('linear regression')\n",
        "plt.xlabel(\"x\")\n",
        "plt.ylabel(\"y\")\n",
        "plt.show()"
      ],
      "metadata": {
        "colab": {
          "base_uri": "https://localhost:8080/",
          "height": 472
        },
        "id": "U3MMCvh8bdpz",
        "outputId": "8d5b34a6-8f7d-4038-cfb2-f59eb259e82a"
      },
      "execution_count": 10,
      "outputs": [
        {
          "output_type": "display_data",
          "data": {
            "text/plain": [
              "<Figure size 640x480 with 1 Axes>"
            ],
            "image/png": "[encoded data removed]"
          },
          "metadata": {}
        }
      ]
    },
    {
      "cell_type": "code",
      "source": [
        "#(7) prediction\n",
        "x_test = [10]\n",
        "x_test_predict = np.array(x_test*W +b)\n",
        "print(\"If 10 appears, then correct!!!\\n\", x_test_predict)"
      ],
      "metadata": {
        "colab": {
          "base_uri": "https://localhost:8080/"
        },
        "id": "VleCBTVpcXPc",
        "outputId": "ca88ff6d-ecf8-4854-92f6-fa8faccde6d8"
      },
      "execution_count": 12,
      "outputs": [
        {
          "output_type": "stream",
          "name": "stdout",
          "text": [
            "If 10 appears, then correct!!!\n",
            " [9.957617]\n"
          ]
        }
      ]
    },
    {
      "cell_type": "code",
      "source": [],
      "metadata": {
        "id": "4AZNlYUVcuK0"
      },
      "execution_count": null,
      "outputs": []
    }
  ]
}