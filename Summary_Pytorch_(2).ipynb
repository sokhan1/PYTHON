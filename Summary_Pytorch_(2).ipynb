{
  "nbformat": 4,
  "nbformat_minor": 0,
  "metadata": {
    "colab": {
      "provenance": [],
      "authorship_tag": "ABX9TyMVByvsx7IhaXBlfI2TnsYM",
      "include_colab_link": true
    },
    "kernelspec": {
      "name": "python3",
      "display_name": "Python 3"
    },
    "language_info": {
      "name": "python"
    }
  },
  "cells": [
    {
      "cell_type": "markdown",
      "metadata": {
        "id": "view-in-github",
        "colab_type": "text"
      },
      "source": [
        "<a href=\"https://colab.research.google.com/github/sokhan1/PYTHON/blob/main/Summary_Pytorch_(2).ipynb\" target=\"_parent\"><img src=\"https://colab.research.google.com/assets/colab-badge.svg\" alt=\"Open In Colab\"/></a>"
      ]
    },
    {
      "cell_type": "markdown",
      "source": [
        "## Simple ANN design"
      ],
      "metadata": {
        "id": "wbpZ4ntkFKuN"
      }
    },
    {
      "cell_type": "code",
      "source": [
        "import torch\n",
        "from torch import nn\n",
        "\n",
        "x=torch.tensor([1.]) # Integer is not available\n",
        "model = nn.Linear(1,1) #the number of input node is 1  and the number of output node is 1\n",
        "\n",
        "print(model.weight) #randomly set (initailization)\n",
        "print(model.bias) #randomly set\n",
        "\n",
        "y = model(x) # ANN is function\n",
        "print(y)\n",
        "\n",
        "y= x @ model.weight + model.bias\n",
        "print(y)"
      ],
      "metadata": {
        "colab": {
          "base_uri": "https://localhost:8080/"
        },
        "id": "FzuP1OBSFO4d",
        "outputId": "5c338f15-39db-47b1-f763-4eaf91675ce9"
      },
      "execution_count": null,
      "outputs": [
        {
          "output_type": "stream",
          "name": "stdout",
          "text": [
            "Parameter containing:\n",
            "tensor([[0.9354]], requires_grad=True)\n",
            "Parameter containing:\n",
            "tensor([-0.4086], requires_grad=True)\n",
            "tensor([0.5268], grad_fn=<ViewBackward0>)\n",
            "tensor([0.5268], grad_fn=<AddBackward0>)\n"
          ]
        }
      ]
    },
    {
      "cell_type": "code",
      "source": [
        "fc1=nn.Linear(1,3) #the number of input node is 1  and the number of output node is 3\n",
        "fc2=nn.Linear(3,1) #fully connected layer\n",
        "\n",
        "print(fc1.weight)\n",
        "print(fc1.bias)\n",
        "print(fc2.weight)\n",
        "print(fc2.bias)\n",
        "\n",
        "x=torch.tensor([1.])\n",
        "x=fc1(x)\n",
        "print(x)\n",
        "x=fc2(x)\n",
        "print(x)\n",
        "\n",
        "x=torch.tensor([1.])\n",
        "y=(x@fc1.weight.T+fc1.bias)@fc2.weight.T+fc2.bias # weight is needed to be transposed\n",
        "#nn.Linear number x channel x row x column structure\n",
        "# one node means one channel\n",
        "#So, if you want to pass multiple pieces of data , you arrange data as 개x채\n",
        "# Why? > We want to make 'W(weight)' 개x채\n",
        "# In nn.Linear(2,3)"
      ],
      "metadata": {
        "colab": {
          "base_uri": "https://localhost:8080/"
        },
        "id": "EQE_DxZaF6zM",
        "outputId": "71f0758b-c37a-4530-a9bc-a8bc79f7f4ad"
      },
      "execution_count": null,
      "outputs": [
        {
          "output_type": "stream",
          "name": "stdout",
          "text": [
            "Parameter containing:\n",
            "tensor([[-0.8625],\n",
            "        [-0.1058],\n",
            "        [-0.3274]], requires_grad=True)\n",
            "Parameter containing:\n",
            "tensor([ 0.6143,  0.2319, -0.5113], requires_grad=True)\n",
            "Parameter containing:\n",
            "tensor([[-0.5512,  0.3204, -0.4715]], requires_grad=True)\n",
            "Parameter containing:\n",
            "tensor([-0.1284], requires_grad=True)\n",
            "tensor([-0.2482,  0.1261, -0.8387], grad_fn=<ViewBackward0>)\n",
            "tensor([0.4442], grad_fn=<ViewBackward0>)\n"
          ]
        }
      ]
    },
    {
      "cell_type": "code",
      "source": [
        "fc1= nn.Linear(1,3)\n",
        "fc2= nn.Linear(3,1)\n",
        "\n",
        "model = nn.Sequential(fc1,fc2) #Combine layers(fc1,fc2)\n",
        "x=torch.tensor([1.])\n",
        "print(model(x))"
      ],
      "metadata": {
        "colab": {
          "base_uri": "https://localhost:8080/"
        },
        "id": "ECW3tvkcHWas",
        "outputId": "b64d808d-7c6d-421a-c45c-39a80f73c095"
      },
      "execution_count": null,
      "outputs": [
        {
          "output_type": "stream",
          "name": "stdout",
          "text": [
            "tensor([-0.6754], grad_fn=<ViewBackward0>)\n"
          ]
        }
      ]
    },
    {
      "cell_type": "code",
      "source": [
        "model=nn.Sequential(nn.Linear(2,5),\n",
        "              nn.Linear(5,10),\n",
        "              nn.Linear(10,3))\n",
        "\n",
        "x=torch.randn(2)\n",
        "print(x)\n",
        "print(model(x))\n",
        "\n",
        "x=torch.randn(5,2) # number and channel(human and attribute)\n",
        "print(x)\n",
        "print(model(x))"
      ],
      "metadata": {
        "colab": {
          "base_uri": "https://localhost:8080/"
        },
        "id": "oJOZSCRyRKX7",
        "outputId": "844127f9-5726-406c-f173-f320b9b15a88"
      },
      "execution_count": null,
      "outputs": [
        {
          "output_type": "stream",
          "name": "stdout",
          "text": [
            "tensor([-0.3111,  1.6899])\n",
            "tensor([0.3624, 0.1591, 0.0616], grad_fn=<ViewBackward0>)\n",
            "tensor([[-0.8134,  0.5658],\n",
            "        [-0.8865,  1.8012],\n",
            "        [ 0.0473, -1.5728],\n",
            "        [-0.1315,  0.3152],\n",
            "        [ 0.7159, -1.1441]])\n",
            "tensor([[ 0.1978,  0.0533,  0.1814],\n",
            "        [ 0.3234,  0.1543,  0.0905],\n",
            "        [ 0.0453, -0.1036,  0.2908],\n",
            "        [ 0.2313,  0.0492,  0.1563],\n",
            "        [ 0.1503, -0.0514,  0.2140]], grad_fn=<AddmmBackward0>)\n"
          ]
        }
      ]
    },
    {
      "cell_type": "code",
      "source": [
        "class MyModel(nn.Module):\n",
        "    def __init__(self):\n",
        "        super().__init__()\n",
        "        self.fc1=nn.Linear(2,5)\n",
        "        self.fc2=nn.Linear(5,10)\n",
        "        self.fc3=nn.Linear(10,3)\n",
        "        self.sig1 = nn.Sigmoid()\n",
        "        self.sig2 = nn.Sigmoid()\n",
        "        self.sig3 = nn.Sigmoid()\n",
        "    def forward(self, x):\n",
        "        x=self.fc1(x)\n",
        "        x=self.sig1(x)\n",
        "        x=self.fc2(x)\n",
        "        x=self.sig2(x)\n",
        "        x=self.fc3(x)\n",
        "        x=self.sig3(x)\n",
        "        return x\n",
        "\n",
        "model = MyModel()\n",
        "x= torch.randn(5,2)\n",
        "y= model(x)\n",
        "print(y)"
      ],
      "metadata": {
        "colab": {
          "base_uri": "https://localhost:8080/"
        },
        "id": "VxCPA9H7R9JZ",
        "outputId": "c11154d5-d7ad-42d5-c49b-dcf2630579b1"
      },
      "execution_count": null,
      "outputs": [
        {
          "output_type": "stream",
          "name": "stdout",
          "text": [
            "tensor([[0.7035, 0.6382, 0.5230],\n",
            "        [0.6982, 0.6360, 0.5332],\n",
            "        [0.7023, 0.6376, 0.5251],\n",
            "        [0.7002, 0.6375, 0.5298],\n",
            "        [0.7038, 0.6399, 0.5233]], grad_fn=<SigmoidBackward0>)\n"
          ]
        }
      ]
    },
    {
      "cell_type": "code",
      "source": [
        "print(model)\n",
        "print(model.fc1.weight) # See weights\n",
        "print(model.fc1.bias) # See biases"
      ],
      "metadata": {
        "colab": {
          "base_uri": "https://localhost:8080/"
        },
        "id": "1K7cDrmuZWEM",
        "outputId": "f3f7f35b-9dfe-42ae-b91e-8966abb68af0"
      },
      "execution_count": null,
      "outputs": [
        {
          "output_type": "stream",
          "name": "stdout",
          "text": [
            "MyModel(\n",
            "  (fc1): Linear(in_features=2, out_features=5, bias=True)\n",
            "  (fc2): Linear(in_features=5, out_features=10, bias=True)\n",
            "  (fc3): Linear(in_features=10, out_features=3, bias=True)\n",
            "  (sig1): Sigmoid()\n",
            "  (sig2): Sigmoid()\n",
            "  (sig3): Sigmoid()\n",
            ")\n",
            "Parameter containing:\n",
            "tensor([[-0.4925,  0.6604],\n",
            "        [ 0.0425,  0.0037],\n",
            "        [ 0.0042,  0.4552],\n",
            "        [ 0.2691,  0.3812],\n",
            "        [-0.6589,  0.2528]], requires_grad=True)\n",
            "Parameter containing:\n",
            "tensor([-0.4362, -0.1811, -0.1945, -0.4412, -0.1912], requires_grad=True)\n"
          ]
        }
      ]
    },
    {
      "cell_type": "code",
      "source": [
        "class MyModel2(nn.Module):\n",
        "    def __init__(self):\n",
        "        super().__init__()\n",
        "        self.linear=nn.Sequential(\n",
        "            nn.Linear(2,5),\n",
        "            nn.Sigmoid(),\n",
        "            nn.Linear(5,10),\n",
        "            nn.Sigmoid(),\n",
        "            nn.Linear(10,3),\n",
        "            nn.Sigmoid()\n",
        "        )\n",
        "    def forward(self, x):\n",
        "        x=self.linear(x)\n",
        "        return x\n",
        "\n",
        "model2 = MyModel2()\n",
        "x= torch.randn(5,2)\n",
        "y= model2(x)\n",
        "print(y)"
      ],
      "metadata": {
        "colab": {
          "base_uri": "https://localhost:8080/"
        },
        "id": "b4LtpGAxZcdc",
        "outputId": "73bd46ef-6155-4618-da67-aebd5b57c7d2"
      },
      "execution_count": null,
      "outputs": [
        {
          "output_type": "stream",
          "name": "stdout",
          "text": [
            "tensor([[0.4793, 0.5111, 0.4691],\n",
            "        [0.4796, 0.5134, 0.4691],\n",
            "        [0.4794, 0.5114, 0.4700],\n",
            "        [0.4794, 0.5124, 0.4685],\n",
            "        [0.4794, 0.5113, 0.4697]], grad_fn=<SigmoidBackward0>)\n"
          ]
        }
      ]
    },
    {
      "cell_type": "code",
      "source": [
        "print(model2)\n",
        "print(model2.linear)\n",
        "print(model2.linear[0])\n",
        "print(model2.linear[1])\n",
        "print(model2.linear[2])"
      ],
      "metadata": {
        "colab": {
          "base_uri": "https://localhost:8080/"
        },
        "id": "_ZAfKvqFbKHU",
        "outputId": "44636361-a8cc-4896-fcf5-72ff712cf78a"
      },
      "execution_count": null,
      "outputs": [
        {
          "output_type": "stream",
          "name": "stdout",
          "text": [
            "MyModel2(\n",
            "  (linear): Sequential(\n",
            "    (0): Linear(in_features=2, out_features=5, bias=True)\n",
            "    (1): Sigmoid()\n",
            "    (2): Linear(in_features=5, out_features=10, bias=True)\n",
            "    (3): Sigmoid()\n",
            "    (4): Linear(in_features=10, out_features=3, bias=True)\n",
            "    (5): Sigmoid()\n",
            "  )\n",
            ")\n",
            "Sequential(\n",
            "  (0): Linear(in_features=2, out_features=5, bias=True)\n",
            "  (1): Sigmoid()\n",
            "  (2): Linear(in_features=5, out_features=10, bias=True)\n",
            "  (3): Sigmoid()\n",
            "  (4): Linear(in_features=10, out_features=3, bias=True)\n",
            "  (5): Sigmoid()\n",
            ")\n",
            "Linear(in_features=2, out_features=5, bias=True)\n",
            "Sigmoid()\n",
            "Linear(in_features=5, out_features=10, bias=True)\n"
          ]
        }
      ]
    },
    {
      "cell_type": "code",
      "source": [
        "list(model.parameters())"
      ],
      "metadata": {
        "colab": {
          "base_uri": "https://localhost:8080/"
        },
        "id": "KPE_q5s4bWCl",
        "outputId": "51031b4f-5468-43bd-d951-ea6afffbb4dd"
      },
      "execution_count": null,
      "outputs": [
        {
          "output_type": "execute_result",
          "data": {
            "text/plain": [
              "[Parameter containing:\n",
              " tensor([[-0.2668,  0.4528],\n",
              "         [-0.0248, -0.0416],\n",
              "         [ 0.2409,  0.0687],\n",
              "         [-0.2019, -0.0400],\n",
              "         [-0.4205, -0.2866]], requires_grad=True),\n",
              " Parameter containing:\n",
              " tensor([0.3972, 0.3566, 0.1112, 0.3657, 0.1818], requires_grad=True),\n",
              " Parameter containing:\n",
              " tensor([[-0.1643, -0.3019, -0.0097, -0.0201, -0.2843],\n",
              "         [ 0.2599, -0.1076, -0.1175, -0.3714,  0.3312],\n",
              "         [ 0.2843, -0.0513, -0.2641,  0.2006,  0.3257],\n",
              "         [-0.3541,  0.4018,  0.0270,  0.1535, -0.4008],\n",
              "         [-0.0430,  0.0533,  0.2453, -0.2566, -0.1694],\n",
              "         [-0.4339,  0.2084, -0.2180,  0.0534,  0.2528],\n",
              "         [ 0.1238,  0.2439, -0.4328,  0.1623, -0.1073],\n",
              "         [ 0.3011,  0.1690, -0.0266, -0.1168, -0.3447],\n",
              "         [-0.0943, -0.3550, -0.0401,  0.0936,  0.0517],\n",
              "         [ 0.0243,  0.0120, -0.1972, -0.3773, -0.0253]], requires_grad=True),\n",
              " Parameter containing:\n",
              " tensor([-0.0799,  0.1542, -0.2812,  0.0175,  0.2532, -0.0866, -0.0645, -0.3803,\n",
              "         -0.0881,  0.2846], requires_grad=True),\n",
              " Parameter containing:\n",
              " tensor([[ 0.2521, -0.0043,  0.0486,  0.0027,  0.2794, -0.2241,  0.0595,  0.0872,\n",
              "          -0.0535, -0.2403],\n",
              "         [ 0.0084,  0.0955,  0.1182,  0.0237,  0.2140, -0.2000, -0.1074,  0.0673,\n",
              "           0.0121, -0.0555],\n",
              "         [ 0.2627, -0.0276,  0.1372, -0.0513, -0.2552,  0.2903,  0.0335, -0.0232,\n",
              "          -0.2355,  0.2653]], requires_grad=True),\n",
              " Parameter containing:\n",
              " tensor([0.2605, 0.0012, 0.2566], requires_grad=True)]"
            ]
          },
          "metadata": {},
          "execution_count": 44
        }
      ]
    },
    {
      "cell_type": "code",
      "source": [
        "[p for p in model.parameters()]\n",
        "[p.numel() for p in model.parameters()]\n",
        "sum([p.numel() for p in model.parameters()]) # the number of parameters\n",
        "sum([p.numel() for p in model.parameters() if p.requires_grad]) #the number of training parameters (except for hyperparameter)"
      ],
      "metadata": {
        "colab": {
          "base_uri": "https://localhost:8080/"
        },
        "id": "CWvgdvxQcDD0",
        "outputId": "998ff54e-72f7-442b-d2d6-497cf51a477f"
      },
      "execution_count": null,
      "outputs": [
        {
          "output_type": "execute_result",
          "data": {
            "text/plain": [
              "108"
            ]
          },
          "metadata": {},
          "execution_count": 51
        }
      ]
    },
    {
      "cell_type": "code",
      "source": [],
      "metadata": {
        "id": "26g0BNLacPUF"
      },
      "execution_count": null,
      "outputs": []
    }
  ]
}