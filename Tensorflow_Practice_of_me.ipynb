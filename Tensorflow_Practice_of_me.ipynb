{
  "nbformat": 4,
  "nbformat_minor": 0,
  "metadata": {
    "colab": {
      "provenance": [],
      "authorship_tag": "ABX9TyMdS00DvScGg9avq1P/Zr4B",
      "include_colab_link": true
    },
    "kernelspec": {
      "name": "python3",
      "display_name": "Python 3"
    },
    "language_info": {
      "name": "python"
    }
  },
  "cells": [
    {
      "cell_type": "markdown",
      "metadata": {
        "id": "view-in-github",
        "colab_type": "text"
      },
      "source": [
        "<a href=\"https://colab.research.google.com/github/sokhan1/PYTHON/blob/main/Tensorflow_Practice_of_me.ipynb\" target=\"_parent\"><img src=\"https://colab.research.google.com/assets/colab-badge.svg\" alt=\"Open In Colab\"/></a>"
      ]
    },
    {
      "cell_type": "markdown",
      "source": [
        "#Start of Tensorflow\n"
      ],
      "metadata": {
        "id": "OuEIsAe26zeo"
      }
    },
    {
      "cell_type": "code",
      "source": [
        "import numpy as np\n",
        "import tensorflow as tf"
      ],
      "metadata": {
        "id": "SiH-NO8n6zCN"
      },
      "execution_count": 1,
      "outputs": []
    },
    {
      "cell_type": "code",
      "source": [
        "print(tf.__version__)"
      ],
      "metadata": {
        "colab": {
          "base_uri": "https://localhost:8080/"
        },
        "id": "P6oRDhAF7CWJ",
        "outputId": "4fc2e611-ec56-4c2c-f9c6-201515bc3b2c"
      },
      "execution_count": 2,
      "outputs": [
        {
          "output_type": "stream",
          "name": "stdout",
          "text": [
            "2.17.0\n"
          ]
        }
      ]
    },
    {
      "cell_type": "markdown",
      "source": [
        "##텐서(Tensor)의 객체\n",
        "\n",
        "\n",
        "*   Type: string, float32, float16, int32, int8 등\n",
        "*   Shape: 0,1,2차원 등의 데이터 차원\n",
        "*   Rank: 차원의 갯수\n",
        "\n",
        "\n",
        "\n"
      ],
      "metadata": {
        "id": "asoi8I32CpnW"
      }
    },
    {
      "cell_type": "code",
      "source": [
        "a = tf.constant(2)\n",
        "print(tf.rank(a))\n",
        "print(a)"
      ],
      "metadata": {
        "colab": {
          "base_uri": "https://localhost:8080/"
        },
        "id": "Ek2G5nuEDRAc",
        "outputId": "4ec2c98c-845c-40c3-c0c1-d880d3fba7ec"
      },
      "execution_count": 3,
      "outputs": [
        {
          "output_type": "stream",
          "name": "stdout",
          "text": [
            "tf.Tensor(0, shape=(), dtype=int32)\n",
            "tf.Tensor(2, shape=(), dtype=int32)\n"
          ]
        }
      ]
    },
    {
      "cell_type": "code",
      "source": [
        "b = tf.constant([2,3])\n",
        "print(tf.rank(b))\n",
        "print(b)"
      ],
      "metadata": {
        "colab": {
          "base_uri": "https://localhost:8080/"
        },
        "id": "T5I0TmkiDaUv",
        "outputId": "ed6859f1-805d-4da8-f580-f7a7ba0eed08"
      },
      "execution_count": 4,
      "outputs": [
        {
          "output_type": "stream",
          "name": "stdout",
          "text": [
            "tf.Tensor(1, shape=(), dtype=int32)\n",
            "tf.Tensor([2 3], shape=(2,), dtype=int32)\n"
          ]
        }
      ]
    },
    {
      "cell_type": "code",
      "source": [
        "c = tf.constant([[2,3],[6,7]])\n",
        "print(tf.rank(c))\n",
        "print(c)"
      ],
      "metadata": {
        "colab": {
          "base_uri": "https://localhost:8080/"
        },
        "id": "xjj8rg-OD2Bg",
        "outputId": "c0985095-7c57-4526-d226-597b734c9ef1"
      },
      "execution_count": 6,
      "outputs": [
        {
          "output_type": "stream",
          "name": "stdout",
          "text": [
            "tf.Tensor(2, shape=(), dtype=int32)\n",
            "tf.Tensor(\n",
            "[[2 3]\n",
            " [6 7]], shape=(2, 2), dtype=int32)\n"
          ]
        }
      ]
    },
    {
      "cell_type": "code",
      "source": [
        "d = tf.constant(['hello'])\n",
        "print(tf.rank(d))\n",
        "print(d)"
      ],
      "metadata": {
        "colab": {
          "base_uri": "https://localhost:8080/"
        },
        "id": "dkjR4M_zECA_",
        "outputId": "a34cfe59-7552-4a02-960e-1d1ed6273da8"
      },
      "execution_count": 7,
      "outputs": [
        {
          "output_type": "stream",
          "name": "stdout",
          "text": [
            "tf.Tensor(1, shape=(), dtype=int32)\n",
            "tf.Tensor([b'hello'], shape=(1,), dtype=string)\n"
          ]
        }
      ]
    },
    {
      "cell_type": "markdown",
      "source": [
        "## Generate random numbers"
      ],
      "metadata": {
        "id": "qGBDy-tlEORS"
      }
    },
    {
      "cell_type": "code",
      "source": [
        "rand1 = tf.random.uniform([1],0,1)\n",
        "print(rand1.shape)\n",
        "print(rand1)"
      ],
      "metadata": {
        "colab": {
          "base_uri": "https://localhost:8080/"
        },
        "id": "qRMXhwDYETdn",
        "outputId": "5ecbe769-cc9c-43e9-f3f4-5a986596760a"
      },
      "execution_count": 8,
      "outputs": [
        {
          "output_type": "stream",
          "name": "stdout",
          "text": [
            "(1,)\n",
            "tf.Tensor([0.55277085], shape=(1,), dtype=float32)\n"
          ]
        }
      ]
    },
    {
      "cell_type": "code",
      "source": [
        "rand2 = tf.random.normal([1,2],0,1)\n",
        "print(rand2.shape)\n",
        "print(rand2)"
      ],
      "metadata": {
        "colab": {
          "base_uri": "https://localhost:8080/"
        },
        "id": "qV3-2dZ3E7Pt",
        "outputId": "f66b4a36-6ce3-42af-bd6c-4e278bf41f24"
      },
      "execution_count": 9,
      "outputs": [
        {
          "output_type": "stream",
          "name": "stdout",
          "text": [
            "(1, 2)\n",
            "tf.Tensor([[ 0.118095  -1.4382905]], shape=(1, 2), dtype=float32)\n"
          ]
        }
      ]
    },
    {
      "cell_type": "code",
      "source": [
        "rand3 = tf.random.normal(shape=(3,2), mean=0, stddev=1)\n",
        "print(rand3.shape)\n",
        "print(rand3)"
      ],
      "metadata": {
        "colab": {
          "base_uri": "https://localhost:8080/"
        },
        "id": "ITIQDFUUFHBF",
        "outputId": "b95a87a6-36b0-4f05-f1d1-58222c9886fd"
      },
      "execution_count": 10,
      "outputs": [
        {
          "output_type": "stream",
          "name": "stdout",
          "text": [
            "(3, 2)\n",
            "tf.Tensor(\n",
            "[[-1.8024054  -0.64345807]\n",
            " [ 0.08281001  0.7668122 ]\n",
            " [-0.00706843 -0.51604277]], shape=(3, 2), dtype=float32)\n"
          ]
        }
      ]
    },
    {
      "cell_type": "code",
      "source": [],
      "metadata": {
        "id": "G3QFjYDkFdeO"
      },
      "execution_count": null,
      "outputs": []
    }
  ]
}