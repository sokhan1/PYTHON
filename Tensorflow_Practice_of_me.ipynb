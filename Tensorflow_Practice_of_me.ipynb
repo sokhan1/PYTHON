{
  "nbformat": 4,
  "nbformat_minor": 0,
  "metadata": {
    "colab": {
      "provenance": [],
      "authorship_tag": "ABX9TyM6/Z8x8sA2jsoYc6c33m61",
      "include_colab_link": true
    },
    "kernelspec": {
      "name": "python3",
      "display_name": "Python 3"
    },
    "language_info": {
      "name": "python"
    }
  },
  "cells": [
    {
      "cell_type": "markdown",
      "metadata": {
        "id": "view-in-github",
        "colab_type": "text"
      },
      "source": [
        "<a href=\"https://colab.research.google.com/github/sokhan1/PYTHON/blob/main/Tensorflow_Practice_of_me.ipynb\" target=\"_parent\"><img src=\"https://colab.research.google.com/assets/colab-badge.svg\" alt=\"Open In Colab\"/></a>"
      ]
    },
    {
      "cell_type": "markdown",
      "source": [
        "#Start of Tensorflow\n"
      ],
      "metadata": {
        "id": "OuEIsAe26zeo"
      }
    },
    {
      "cell_type": "code",
      "source": [
        "import numpy as np\n",
        "import tensorflow as tf"
      ],
      "metadata": {
        "id": "SiH-NO8n6zCN"
      },
      "execution_count": 1,
      "outputs": []
    },
    {
      "cell_type": "code",
      "source": [
        "print(tf.__version__)"
      ],
      "metadata": {
        "colab": {
          "base_uri": "https://localhost:8080/"
        },
        "id": "P6oRDhAF7CWJ",
        "outputId": "5c3bc42a-d186-4df1-bbc9-50891bb2fb03"
      },
      "execution_count": 2,
      "outputs": [
        {
          "output_type": "stream",
          "name": "stdout",
          "text": [
            "2.17.0\n"
          ]
        }
      ]
    },
    {
      "cell_type": "markdown",
      "source": [
        "##텐서(Tensor)의 객체\n",
        "\n",
        "\n",
        "*   Type: string, float32, float16, int32, int8 등\n",
        "*   Shape: 0,1,2차원 등의 데이터 차원\n",
        "*   Rank: 차원의 갯수\n",
        "\n",
        "\n",
        "\n"
      ],
      "metadata": {
        "id": "asoi8I32CpnW"
      }
    },
    {
      "cell_type": "code",
      "source": [
        "a = tf.constant(2)\n",
        "print(tf.rank(a))\n",
        "print(a)"
      ],
      "metadata": {
        "colab": {
          "base_uri": "https://localhost:8080/"
        },
        "id": "Ek2G5nuEDRAc",
        "outputId": "592babf8-a034-47ad-d42c-e56344930926"
      },
      "execution_count": 3,
      "outputs": [
        {
          "output_type": "stream",
          "name": "stdout",
          "text": [
            "tf.Tensor(0, shape=(), dtype=int32)\n",
            "tf.Tensor(2, shape=(), dtype=int32)\n"
          ]
        }
      ]
    },
    {
      "cell_type": "code",
      "source": [
        "b = tf.constant([2,3])\n",
        "print(tf.rank(b))\n",
        "print(b)"
      ],
      "metadata": {
        "colab": {
          "base_uri": "https://localhost:8080/"
        },
        "id": "T5I0TmkiDaUv",
        "outputId": "c5166bba-1aad-4367-e4da-f988f4f31d9c"
      },
      "execution_count": 4,
      "outputs": [
        {
          "output_type": "stream",
          "name": "stdout",
          "text": [
            "tf.Tensor(1, shape=(), dtype=int32)\n",
            "tf.Tensor([2 3], shape=(2,), dtype=int32)\n"
          ]
        }
      ]
    },
    {
      "cell_type": "code",
      "source": [
        "c = tf.constant([[2,3],[6,7]])\n",
        "print(tf.rank(c))\n",
        "print(c)"
      ],
      "metadata": {
        "colab": {
          "base_uri": "https://localhost:8080/"
        },
        "id": "xjj8rg-OD2Bg",
        "outputId": "bd6dcb95-858a-4195-f708-5dcf0e10febb"
      },
      "execution_count": 5,
      "outputs": [
        {
          "output_type": "stream",
          "name": "stdout",
          "text": [
            "tf.Tensor(2, shape=(), dtype=int32)\n",
            "tf.Tensor(\n",
            "[[2 3]\n",
            " [6 7]], shape=(2, 2), dtype=int32)\n"
          ]
        }
      ]
    },
    {
      "cell_type": "code",
      "source": [
        "d = tf.constant(['hello'])\n",
        "print(tf.rank(d))\n",
        "print(d)"
      ],
      "metadata": {
        "colab": {
          "base_uri": "https://localhost:8080/"
        },
        "id": "dkjR4M_zECA_",
        "outputId": "e2ecb674-0de4-4da2-e93f-ab0ab676dfb9"
      },
      "execution_count": 6,
      "outputs": [
        {
          "output_type": "stream",
          "name": "stdout",
          "text": [
            "tf.Tensor(1, shape=(), dtype=int32)\n",
            "tf.Tensor([b'hello'], shape=(1,), dtype=string)\n"
          ]
        }
      ]
    },
    {
      "cell_type": "markdown",
      "source": [
        "## Generate random numbers"
      ],
      "metadata": {
        "id": "qGBDy-tlEORS"
      }
    },
    {
      "cell_type": "code",
      "source": [
        "rand1 = tf.random.uniform([1],0,1)\n",
        "print(rand1.shape)\n",
        "print(rand1)"
      ],
      "metadata": {
        "colab": {
          "base_uri": "https://localhost:8080/"
        },
        "id": "qRMXhwDYETdn",
        "outputId": "48fe22c2-7d42-45a8-a38e-9da6cca797c5"
      },
      "execution_count": 7,
      "outputs": [
        {
          "output_type": "stream",
          "name": "stdout",
          "text": [
            "(1,)\n",
            "tf.Tensor([0.6304748], shape=(1,), dtype=float32)\n"
          ]
        }
      ]
    },
    {
      "cell_type": "code",
      "source": [
        "rand2 = tf.random.normal([1,2],0,1)\n",
        "print(rand2.shape)\n",
        "print(rand2)"
      ],
      "metadata": {
        "colab": {
          "base_uri": "https://localhost:8080/"
        },
        "id": "qV3-2dZ3E7Pt",
        "outputId": "cecf9522-4696-4ea9-8ddb-7fab4a6f4923"
      },
      "execution_count": 8,
      "outputs": [
        {
          "output_type": "stream",
          "name": "stdout",
          "text": [
            "(1, 2)\n",
            "tf.Tensor([[ 0.72612923 -1.0164151 ]], shape=(1, 2), dtype=float32)\n"
          ]
        }
      ]
    },
    {
      "cell_type": "code",
      "source": [
        "rand3 = tf.random.normal(shape=(3,2), mean=0, stddev=1)\n",
        "print(rand3.shape)\n",
        "print(rand3)"
      ],
      "metadata": {
        "colab": {
          "base_uri": "https://localhost:8080/"
        },
        "id": "ITIQDFUUFHBF",
        "outputId": "94f7cf7e-c741-40b6-a8bd-cf05ed6a6adf"
      },
      "execution_count": 9,
      "outputs": [
        {
          "output_type": "stream",
          "name": "stdout",
          "text": [
            "(3, 2)\n",
            "tf.Tensor(\n",
            "[[-0.43813285 -1.0836809 ]\n",
            " [-0.32330045  0.61174065]\n",
            " [-0.07181695 -0.02241688]], shape=(3, 2), dtype=float32)\n"
          ]
        }
      ]
    },
    {
      "cell_type": "markdown",
      "source": [
        "##즉시 실행 모드(Eager Mode)지원\n",
        "*   즉시 실행모드를 통해 텐서플로우를 파이썬처럼 사용할 수 있음\n",
        "*   1.x 버전에서는 '그래프'를 생성하고, 초기화 한 뒤에 세션을 통해 값을 흐르게 하는 작업을 진행해야함\n",
        "\n"
      ],
      "metadata": {
        "id": "U7uoTT2wOWg-"
      }
    },
    {
      "cell_type": "code",
      "source": [
        "a = tf.constant(3)\n",
        "b = tf.constant(2)"
      ],
      "metadata": {
        "id": "aGuIChloOoCO"
      },
      "execution_count": 10,
      "outputs": []
    },
    {
      "cell_type": "code",
      "source": [
        "print(tf.add(a,b))\n",
        "print(a+b)"
      ],
      "metadata": {
        "colab": {
          "base_uri": "https://localhost:8080/"
        },
        "id": "eXnJeiarOr8v",
        "outputId": "94089f0a-6308-4c0a-fa42-9e3b9fc3dcdd"
      },
      "execution_count": 11,
      "outputs": [
        {
          "output_type": "stream",
          "name": "stdout",
          "text": [
            "tf.Tensor(5, shape=(), dtype=int32)\n",
            "tf.Tensor(5, shape=(), dtype=int32)\n"
          ]
        }
      ]
    },
    {
      "cell_type": "code",
      "source": [
        "print(tf.subtract(a,b))\n",
        "print(a-b)"
      ],
      "metadata": {
        "colab": {
          "base_uri": "https://localhost:8080/"
        },
        "id": "xzDvlDF3OzGA",
        "outputId": "4ca5d4f8-83db-494b-c44f-3d1edf630d5b"
      },
      "execution_count": 12,
      "outputs": [
        {
          "output_type": "stream",
          "name": "stdout",
          "text": [
            "tf.Tensor(1, shape=(), dtype=int32)\n",
            "tf.Tensor(1, shape=(), dtype=int32)\n"
          ]
        }
      ]
    },
    {
      "cell_type": "code",
      "source": [
        "print(tf.multiply(a,b))\n",
        "print(a*b)"
      ],
      "metadata": {
        "colab": {
          "base_uri": "https://localhost:8080/"
        },
        "id": "BrIeZXAKO8pG",
        "outputId": "3317e71a-812b-402e-815b-7e951aaf2e4c"
      },
      "execution_count": 13,
      "outputs": [
        {
          "output_type": "stream",
          "name": "stdout",
          "text": [
            "tf.Tensor(6, shape=(), dtype=int32)\n",
            "tf.Tensor(6, shape=(), dtype=int32)\n"
          ]
        }
      ]
    },
    {
      "cell_type": "markdown",
      "source": [
        "##텐서 플로우 <-> 넘파이\n",
        "*   numpy()\n",
        "*   tf.convet_to_tensor()"
      ],
      "metadata": {
        "id": "_A1b8K4gPNcD"
      }
    },
    {
      "cell_type": "code",
      "source": [
        "c = (a+b).numpy()\n",
        "print(c)\n",
        "print(type(c))"
      ],
      "metadata": {
        "colab": {
          "base_uri": "https://localhost:8080/"
        },
        "id": "3nIJy7-jPEl9",
        "outputId": "1867b333-1273-49d8-9d82-8378ebfd0861"
      },
      "execution_count": 14,
      "outputs": [
        {
          "output_type": "stream",
          "name": "stdout",
          "text": [
            "5\n",
            "<class 'numpy.int32'>\n"
          ]
        }
      ]
    },
    {
      "cell_type": "code",
      "source": [
        "[1,2,3]\n",
        "(1,2,3)"
      ],
      "metadata": {
        "colab": {
          "base_uri": "https://localhost:8080/"
        },
        "id": "qpvVAvK7PePI",
        "outputId": "1e312b37-84d7-4f5c-d726-690d1da00129"
      },
      "execution_count": 15,
      "outputs": [
        {
          "output_type": "execute_result",
          "data": {
            "text/plain": [
              "(1, 2, 3)"
            ]
          },
          "metadata": {},
          "execution_count": 15
        }
      ]
    },
    {
      "cell_type": "code",
      "source": [
        "c_sqrt = np.sqrt(c, dtype=np.float32)\n",
        "c_tensor = tf.convert_to_tensor(c_sqrt)\n",
        "print(c_tensor)\n",
        "print(type(c_tensor))"
      ],
      "metadata": {
        "colab": {
          "base_uri": "https://localhost:8080/"
        },
        "id": "16hjLsW_PhUd",
        "outputId": "cc34d556-4f94-4a61-c2e1-8ef5c9e71b23"
      },
      "execution_count": 16,
      "outputs": [
        {
          "output_type": "stream",
          "name": "stdout",
          "text": [
            "tf.Tensor(2.236068, shape=(), dtype=float32)\n",
            "<class 'tensorflow.python.framework.ops.EagerTensor'>\n"
          ]
        }
      ]
    },
    {
      "cell_type": "markdown",
      "source": [
        "##Use like a numpy"
      ],
      "metadata": {
        "id": "03pcJArPP6AA"
      }
    },
    {
      "cell_type": "code",
      "source": [
        "t = tf.constant([[1.,2.,3.],[4.,5.,6.]])\n",
        "print(t.shape)\n",
        "print(t.dtype)"
      ],
      "metadata": {
        "colab": {
          "base_uri": "https://localhost:8080/"
        },
        "id": "VRRbV1dSPy51",
        "outputId": "727f4788-e9e6-4850-e95d-e4b13caed6ac"
      },
      "execution_count": 17,
      "outputs": [
        {
          "output_type": "stream",
          "name": "stdout",
          "text": [
            "(2, 3)\n",
            "<dtype: 'float32'>\n"
          ]
        }
      ]
    },
    {
      "cell_type": "code",
      "source": [
        "print(t[:,1:])"
      ],
      "metadata": {
        "colab": {
          "base_uri": "https://localhost:8080/"
        },
        "id": "-wlwYVUfWw5n",
        "outputId": "f9ecaa08-b36f-4d44-e95c-dd0a65f494fc"
      },
      "execution_count": 18,
      "outputs": [
        {
          "output_type": "stream",
          "name": "stdout",
          "text": [
            "tf.Tensor(\n",
            "[[2. 3.]\n",
            " [5. 6.]], shape=(2, 2), dtype=float32)\n"
          ]
        }
      ]
    },
    {
      "cell_type": "code",
      "source": [
        "t+10"
      ],
      "metadata": {
        "colab": {
          "base_uri": "https://localhost:8080/"
        },
        "id": "rP9sEur1XC42",
        "outputId": "efcb44f4-ee70-4945-e60d-0361af2a1c31"
      },
      "execution_count": 19,
      "outputs": [
        {
          "output_type": "execute_result",
          "data": {
            "text/plain": [
              "<tf.Tensor: shape=(2, 3), dtype=float32, numpy=\n",
              "array([[11., 12., 13.],\n",
              "       [14., 15., 16.]], dtype=float32)>"
            ]
          },
          "metadata": {},
          "execution_count": 19
        }
      ]
    },
    {
      "cell_type": "code",
      "source": [
        "t @ tf.transpose(t)"
      ],
      "metadata": {
        "colab": {
          "base_uri": "https://localhost:8080/"
        },
        "id": "dk36n660XJQD",
        "outputId": "7a0a8aa7-8622-4623-bb76-d62985e21d54"
      },
      "execution_count": 20,
      "outputs": [
        {
          "output_type": "execute_result",
          "data": {
            "text/plain": [
              "<tf.Tensor: shape=(2, 2), dtype=float32, numpy=\n",
              "array([[14., 32.],\n",
              "       [32., 77.]], dtype=float32)>"
            ]
          },
          "metadata": {},
          "execution_count": 20
        }
      ]
    },
    {
      "cell_type": "markdown",
      "source": [
        "## 타입 변환\n",
        "*   연산시 텐서의 타입을 맞춰줘야 함\n",
        "    *   float32 ~ float32\n",
        "    *   int32 ~ int32\n",
        "    *   float32 ~ int32\n",
        "*   타입변환에는 tf.cast()사용\n",
        "\n",
        "\n",
        "\n",
        "\n",
        "\n",
        "\n"
      ],
      "metadata": {
        "id": "AY4SHxf2XVqj"
      }
    },
    {
      "cell_type": "code",
      "source": [
        "a = tf.constant(2)\n",
        "print(a)\n",
        "\n",
        "b=tf.constant(2.)\n",
        "print(b)"
      ],
      "metadata": {
        "colab": {
          "base_uri": "https://localhost:8080/"
        },
        "id": "xCy_mbYqXTJt",
        "outputId": "c9d02bcf-5d36-4614-f91d-71429437e7f5"
      },
      "execution_count": 21,
      "outputs": [
        {
          "output_type": "stream",
          "name": "stdout",
          "text": [
            "tf.Tensor(2, shape=(), dtype=int32)\n",
            "tf.Tensor(2.0, shape=(), dtype=float32)\n"
          ]
        }
      ]
    },
    {
      "cell_type": "code",
      "source": [
        "t=tf.constant(2.0, dtype=tf.float64) #float64\n",
        "t2 = tf.constant(2.) # float32\n",
        "t3 = t + tf.cast(t2, dtype=tf.float64)\n",
        "\n",
        "print(t3)\n",
        "print(type(t3))"
      ],
      "metadata": {
        "colab": {
          "base_uri": "https://localhost:8080/"
        },
        "id": "D64wMcnuX2tL",
        "outputId": "27b23fcf-2a70-4a5c-a21a-f713b358afc7"
      },
      "execution_count": 22,
      "outputs": [
        {
          "output_type": "stream",
          "name": "stdout",
          "text": [
            "tf.Tensor(4.0, shape=(), dtype=float64)\n",
            "<class 'tensorflow.python.framework.ops.EagerTensor'>\n"
          ]
        }
      ]
    },
    {
      "cell_type": "markdown",
      "source": [
        "##AutoGraph\n",
        "\n",
        "\n",
        "*   Tensorflow가 작업을 좀 더 빠르게 동작하게 하기 위한 방법으로 Graph로 만들어 연산을 진행\n",
        "*   tf.Graph\n",
        "*   flexible\n",
        "    *   모바일 애플리케이션, 임베디드 기기, 백엔드 서버와 같이 Python 인터프러터가 없는 환경에서 Tensorflow 사용 가능\n",
        "\n",
        "\n",
        "\n",
        "\n",
        "\n",
        "\n",
        "\n"
      ],
      "metadata": {
        "id": "WzR5bYuajJBH"
      }
    },
    {
      "cell_type": "code",
      "source": [
        "import timeit"
      ],
      "metadata": {
        "id": "xcLBMbGhX5Hj"
      },
      "execution_count": 23,
      "outputs": []
    },
    {
      "cell_type": "markdown",
      "source": [
        "###@tf.function\n",
        "\n",
        "\n",
        "*   Generate graph automatically\n",
        "*   그래프로 변환하여 사용 ->GPU 연산 가능\n",
        "*   파이썬으로 구성된 함수를 텐서플로우의 그래프 형태로 다루고 싶을 때 사용가능\n",
        "*   Original Function (tf.function).python_function()\n",
        "\n"
      ],
      "metadata": {
        "id": "NedjLQKgjw2u"
      }
    },
    {
      "cell_type": "code",
      "source": [
        "@tf.function\n",
        "def my_function(x):\n",
        "    return x**2 - 10*x +3\n",
        "\n",
        "print(my_function(2))\n",
        "print(my_function(tf.constant(2)))"
      ],
      "metadata": {
        "colab": {
          "base_uri": "https://localhost:8080/"
        },
        "id": "a6kBWA7yjfQG",
        "outputId": "265da68d-793b-4d74-deb3-69d79bcc8b4d"
      },
      "execution_count": 24,
      "outputs": [
        {
          "output_type": "stream",
          "name": "stdout",
          "text": [
            "tf.Tensor(-13, shape=(), dtype=int32)\n",
            "tf.Tensor(-13, shape=(), dtype=int32)\n"
          ]
        }
      ]
    },
    {
      "cell_type": "code",
      "source": [
        "def my_function(x):\n",
        "    return x**2 - 10*x +3\n",
        "\n",
        "print(my_function(2))\n",
        "print(my_function(tf.constant(2)))"
      ],
      "metadata": {
        "colab": {
          "base_uri": "https://localhost:8080/"
        },
        "id": "ohb21OtCknwN",
        "outputId": "09bf2e30-8b96-4b37-b994-a4b7e93f97ea"
      },
      "execution_count": 25,
      "outputs": [
        {
          "output_type": "stream",
          "name": "stdout",
          "text": [
            "-13\n",
            "tf.Tensor(-13, shape=(), dtype=int32)\n"
          ]
        }
      ]
    },
    {
      "cell_type": "code",
      "source": [
        "tf_my_function = tf.function(my_function)\n",
        "print(tf_my_function(2))\n",
        "print(tf_my_function.python_function(2))"
      ],
      "metadata": {
        "colab": {
          "base_uri": "https://localhost:8080/"
        },
        "id": "jc11RY91kvwv",
        "outputId": "89861c03-c176-4a44-e150-7fdc41f22feb"
      },
      "execution_count": 26,
      "outputs": [
        {
          "output_type": "stream",
          "name": "stdout",
          "text": [
            "tf.Tensor(-13, shape=(), dtype=int32)\n",
            "-13\n"
          ]
        }
      ]
    },
    {
      "cell_type": "code",
      "source": [
        "def function_to_get_faster(x,y,b):\n",
        "    x = tf.matmul(x,y)\n",
        "    x = x + b\n",
        "    return x\n",
        "\n",
        "a_function_that_uses_a_graph = tf.function(function_to_get_faster)\n",
        "\n",
        "x1=tf.constant([[1.,2.]])\n",
        "y1=tf.constant([[2.],[3.]])\n",
        "b1=tf.constant(4.)\n",
        "\n",
        "print(x1.shape)\n",
        "print(y1.shape)\n",
        "\n",
        "a_function_that_uses_a_graph(x1,y1,b1).numpy()"
      ],
      "metadata": {
        "colab": {
          "base_uri": "https://localhost:8080/"
        },
        "id": "8BmM1oYdLHQQ",
        "outputId": "ea842315-dc47-42b0-ce2b-dc218240676c"
      },
      "execution_count": 28,
      "outputs": [
        {
          "output_type": "stream",
          "name": "stdout",
          "text": [
            "(1, 2)\n",
            "(2, 1)\n"
          ]
        },
        {
          "output_type": "execute_result",
          "data": {
            "text/plain": [
              "array([[12.]], dtype=float32)"
            ]
          },
          "metadata": {},
          "execution_count": 28
        }
      ]
    },
    {
      "cell_type": "code",
      "source": [
        "def inner_function(x,y,b):\n",
        "    x = tf.matmul(x,y)\n",
        "    x = x + b\n",
        "    return x\n",
        "\n",
        "@tf.function\n",
        "def outer_function(x):\n",
        "    y = tf.constant([[2.],[3.]])\n",
        "    b = tf.constant(4.)\n",
        "    return inner_function(x,y,b)\n",
        "\n",
        "outer_function(tf.constant([[1.,2.]])).numpy()"
      ],
      "metadata": {
        "colab": {
          "base_uri": "https://localhost:8080/"
        },
        "id": "lDVlzzL7MokM",
        "outputId": "443a3116-eaca-4a6e-e11c-0124c8f259a9"
      },
      "execution_count": 29,
      "outputs": [
        {
          "output_type": "execute_result",
          "data": {
            "text/plain": [
              "array([[12.]], dtype=float32)"
            ]
          },
          "metadata": {},
          "execution_count": 29
        }
      ]
    }
  ]
}