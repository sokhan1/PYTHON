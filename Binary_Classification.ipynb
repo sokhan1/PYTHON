{
  "nbformat": 4,
  "nbformat_minor": 0,
  "metadata": {
    "colab": {
      "provenance": [],
      "authorship_tag": "ABX9TyPEBWtJPvaCVtnOuNPQR/+b",
      "include_colab_link": true
    },
    "kernelspec": {
      "name": "python3",
      "display_name": "Python 3"
    },
    "language_info": {
      "name": "python"
    }
  },
  "cells": [
    {
      "cell_type": "markdown",
      "metadata": {
        "id": "view-in-github",
        "colab_type": "text"
      },
      "source": [
        "<a href=\"https://colab.research.google.com/github/sokhan1/PYTHON/blob/main/Binary_Classification.ipynb\" target=\"_parent\"><img src=\"https://colab.research.google.com/assets/colab-badge.svg\" alt=\"Open In Colab\"/></a>"
      ]
    },
    {
      "cell_type": "code",
      "execution_count": 17,
      "metadata": {
        "id": "d6_ou30gIOcO"
      },
      "outputs": [],
      "source": [
        "import torch"
      ]
    },
    {
      "cell_type": "markdown",
      "source": [
        "## STEP 1. Data Collection(Generation)"
      ],
      "metadata": {
        "id": "vusecb-HajVL"
      }
    },
    {
      "cell_type": "code",
      "source": [
        "#case1\n",
        "\n",
        "N=20 # The number of data is 20\n",
        "random0=torch.randn(int(N/2),1)\n",
        "random5=torch.randn(int(N/2),1)+5\n",
        "class1_data=torch.hstack([random0, random5])\n",
        "class2_data=torch.hstack([random5, random0])\n",
        "class1_label=torch.ones(int(N/2),1) # Label is needed\n",
        "class2_label=torch.zeros(int(N/2),1)\n",
        "X=torch.vstack([class1_data,class2_data])\n",
        "y=torch.vstack([class1_label,class2_label])"
      ],
      "metadata": {
        "id": "L4Vl8ESpWtrx"
      },
      "execution_count": 18,
      "outputs": []
    },
    {
      "cell_type": "code",
      "source": [
        "import matplotlib.pyplot as plt #data visualization\n",
        "plt.plot(class1_data[:,0], class1_data[:,1],'o')\n",
        "plt.plot(class2_data[:,0], class2_data[:,1],'ro')\n",
        "plt.xlabel('x1')\n",
        "plt.ylabel('x2')\n",
        "plt.grid()"
      ],
      "metadata": {
        "colab": {
          "base_uri": "https://localhost:8080/",
          "height": 449
        },
        "id": "gIQeqKj-eFfS",
        "outputId": "f5263e15-7c90-4043-82e3-e9904f651c1b"
      },
      "execution_count": 19,
      "outputs": [
        {
          "output_type": "display_data",
          "data": {
            "text/plain": [
              "<Figure size 640x480 with 1 Axes>"
            ],
            "image/png": "[encoded data removed]"
          },
          "metadata": {}
        }
      ]
    },
    {
      "cell_type": "markdown",
      "source": [
        "## STEP2 Model Making"
      ],
      "metadata": {
        "id": "syUGNiIEgIWk"
      }
    },
    {
      "cell_type": "code",
      "source": [
        "from torch import nn\n",
        "\n",
        "class MLP(nn.Module):\n",
        "    def __init__(self):\n",
        "        super().__init__()\n",
        "\n",
        "        self.testmodel = nn.Sequential(nn.Linear(2,100),\n",
        "                                       nn.Sigmoid(),\n",
        "                                       nn.Linear(100,1), # This is binary classification that's why output node is 1\n",
        "                                       nn.Sigmoid())\n",
        "    def forward(self,x):\n",
        "        x=self.testmodel(x)\n",
        "        return x"
      ],
      "metadata": {
        "id": "pcsmRmQcf-yB"
      },
      "execution_count": 31,
      "outputs": []
    },
    {
      "cell_type": "code",
      "source": [
        "testmodel = MLP()\n",
        "print(testmodel)\n",
        "print(testmodel(torch.randn(5,2)).shape)"
      ],
      "metadata": {
        "colab": {
          "base_uri": "https://localhost:8080/"
        },
        "id": "a8fDqcFlgxdk",
        "outputId": "824e3e01-a115-4d51-a1cc-a991c23f77ac"
      },
      "execution_count": 32,
      "outputs": [
        {
          "output_type": "stream",
          "name": "stdout",
          "text": [
            "MLP(\n",
            "  (testmodel): Sequential(\n",
            "    (0): Linear(in_features=2, out_features=100, bias=True)\n",
            "    (1): Sigmoid()\n",
            "    (2): Linear(in_features=100, out_features=1, bias=True)\n",
            "    (3): Sigmoid()\n",
            "  )\n",
            ")\n",
            "torch.Size([5, 1])\n"
          ]
        }
      ]
    },
    {
      "cell_type": "markdown",
      "source": [
        "## STEP 3 Training a model"
      ],
      "metadata": {
        "id": "Kkkhecgx8xHP"
      }
    },
    {
      "cell_type": "code",
      "source": [
        "from torch import optim\n",
        "import torch.nn.functional as F\n",
        "\n",
        "LR = 1e-1 #Learning Rate=LR\n",
        "EPOCH = 10\n",
        "\n",
        "optimizer = optim.SGD(testmodel.parameters(),lr=LR) # optim needs weight(parameter) and Learning Rate\n",
        "\n",
        "loss_graph =[] #loss_graph is list\n",
        "testmodel.train() #change to train mode\n",
        "for ep in range(EPOCH):\n",
        "    y_hat=testmodel(X)\n",
        "    #Loss (Binary Cross Entropy Loss), this nees output(q) and label(y)\n",
        "    loss= F.binary_cross_entropy(y_hat,y) # y_hat=q\n",
        "\n",
        "    optimizer.zero_grad() #Clear accumulation by optimizer\n",
        "    loss.backward() # Require_grad=True, This make Gradient, Backpropagation\n",
        "    optimizer.step() #update,\n",
        "\n",
        "    loss_graph += [loss.item()]\n",
        "    print(f\"Epoch:{ep+1}, train loss : {round(loss.item(),3)}\")\n",
        "    print(\"--\"*20)"
      ],
      "metadata": {
        "id": "sJJoCDpAhpZf",
        "colab": {
          "base_uri": "https://localhost:8080/"
        },
        "outputId": "dc5038e9-febd-4c83-ec31-400a9fbc31c2"
      },
      "execution_count": 40,
      "outputs": [
        {
          "output_type": "stream",
          "name": "stdout",
          "text": [
            "Epoch:1, train loss : 0.001\n",
            "----------------------------------------\n",
            "Epoch:2, train loss : 0.001\n",
            "----------------------------------------\n",
            "Epoch:3, train loss : 0.001\n",
            "----------------------------------------\n",
            "Epoch:4, train loss : 0.001\n",
            "----------------------------------------\n",
            "Epoch:5, train loss : 0.001\n",
            "----------------------------------------\n",
            "Epoch:6, train loss : 0.001\n",
            "----------------------------------------\n",
            "Epoch:7, train loss : 0.001\n",
            "----------------------------------------\n",
            "Epoch:8, train loss : 0.001\n",
            "----------------------------------------\n",
            "Epoch:9, train loss : 0.001\n",
            "----------------------------------------\n",
            "Epoch:10, train loss : 0.001\n",
            "----------------------------------------\n"
          ]
        }
      ]
    },
    {
      "cell_type": "code",
      "source": [
        "x=torch.tensor([1.],requires_grad=True) # the data type must be float\n",
        "for _ in range(2):\n",
        "    loss=x**2\n",
        "    loss.backward() #This line includes differentiation\n",
        "    print(x.grad) # Gradient is accumulation\n",
        "    x.grad= None # Remove Accumulation\n"
      ],
      "metadata": {
        "colab": {
          "base_uri": "https://localhost:8080/"
        },
        "id": "DkYP3iQyL7pE",
        "outputId": "960a034d-044c-4420-848b-7375993afaae"
      },
      "execution_count": 41,
      "outputs": [
        {
          "output_type": "stream",
          "name": "stdout",
          "text": [
            "tensor([2.])\n",
            "tensor([2.])\n"
          ]
        }
      ]
    },
    {
      "cell_type": "code",
      "source": [
        "print(F.binary_cross_entropy(y_hat,y))\n",
        "print(-torch.sum(torch.log(y_hat**y*(1-y_hat)**(1-y))/N)) #binary_cross_entropy is mean value"
      ],
      "metadata": {
        "colab": {
          "base_uri": "https://localhost:8080/"
        },
        "id": "SArxj3zWAXYS",
        "outputId": "2048a28a-5127-40f8-df34-323a0608b4f4"
      },
      "execution_count": 42,
      "outputs": [
        {
          "output_type": "stream",
          "name": "stdout",
          "text": [
            "tensor(0.0013, grad_fn=<BinaryCrossEntropyBackward0>)\n",
            "tensor(0.0013, grad_fn=<NegBackward0>)\n"
          ]
        }
      ]
    },
    {
      "cell_type": "code",
      "source": [
        "plt.plot(range(1,EPOCH+1),loss_graph)\n",
        "plt.xlabel('Epoch')\n",
        "plt.ylabel('loss')"
      ],
      "metadata": {
        "colab": {
          "base_uri": "https://localhost:8080/",
          "height": 467
        },
        "id": "O7utetP2LIeO",
        "outputId": "4e13f12e-7e7c-4dc9-c4fb-e5d7befc0e42"
      },
      "execution_count": 44,
      "outputs": [
        {
          "output_type": "execute_result",
          "data": {
            "text/plain": [
              "Text(0, 0.5, 'loss')"
            ]
          },
          "metadata": {},
          "execution_count": 44
        },
        {
          "output_type": "display_data",
          "data": {
            "text/plain": [
              "<Figure size 640x480 with 1 Axes>"
            ],
            "image/png": "[encoded data removed]"
          },
          "metadata": {}
        }
      ]
    },
    {
      "cell_type": "markdown",
      "source": [
        "## STEP4.Model test"
      ],
      "metadata": {
        "id": "NE3FROmQOWz-"
      }
    },
    {
      "cell_type": "code",
      "source": [],
      "metadata": {
        "id": "KavpfFLPN7_5"
      },
      "execution_count": null,
      "outputs": []
    }
  ]
}