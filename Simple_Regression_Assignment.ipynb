{
  "nbformat": 4,
  "nbformat_minor": 0,
  "metadata": {
    "colab": {
      "provenance": [],
      "authorship_tag": "ABX9TyN0RucrLuvJHDwoU9Y+Xlq1",
      "include_colab_link": true
    },
    "kernelspec": {
      "name": "python3",
      "display_name": "Python 3"
    },
    "language_info": {
      "name": "python"
    }
  },
  "cells": [
    {
      "cell_type": "markdown",
      "metadata": {
        "id": "view-in-github",
        "colab_type": "text"
      },
      "source": [
        "<a href=\"https://colab.research.google.com/github/sokhan1/PYTHON/blob/main/Simple_Regression_Assignment.ipynb\" target=\"_parent\"><img src=\"https://colab.research.google.com/assets/colab-badge.svg\" alt=\"Open In Colab\"/></a>"
      ]
    },
    {
      "cell_type": "code",
      "execution_count": 1,
      "metadata": {
        "colab": {
          "base_uri": "https://localhost:8080/"
        },
        "id": "MB6pl_PVz4Nr",
        "outputId": "34cb3c04-bf88-4ee2-c391-282e715bdb7d"
      },
      "outputs": [
        {
          "output_type": "stream",
          "name": "stdout",
          "text": [
            "2.17.0\n"
          ]
        }
      ],
      "source": [
        "import tensorflow as tf\n",
        "import numpy as np\n",
        "print(tf.__version__)"
      ]
    },
    {
      "cell_type": "markdown",
      "source": [
        "#Simple_Linear_Regression"
      ],
      "metadata": {
        "id": "y95JisDR1ARu"
      }
    },
    {
      "cell_type": "code",
      "source": [
        "#1 Data Generation\n",
        "X = [1,2,3,4,5]\n",
        "Y = [1,2,3,4,5]\n",
        "\n",
        "#2 hypothesis\n",
        "W = tf.Variable(tf.random.normal([1]), name='weight')\n",
        "b = tf.Variable(tf.random.normal([1]), name='bias')\n",
        "\n",
        "def hypothesis(x):\n",
        "    return W*x+b\n",
        "\n",
        "#3 cost function\n",
        "\n",
        "def cost_fn(y_pred, y_true):\n",
        "    return tf.reduce_mean(tf.square(y_true-y_pred)) #Loss_1/N * sum(squqre(y_pred-y_true))\n",
        "\n",
        "#4 optimizer\n",
        "optimizer = tf.optimizers.Adam(learning_rate=0.01)\n",
        "\n",
        "#5 train\n",
        "def train():\n",
        "    with tf.GradientTape() as g:\n",
        "        pred = hypothesis(X)\n",
        "        cost = cost_fn(pred, Y)\n",
        "\n",
        "    # Calculation Gradient\n",
        "    gradients = g.gradient(cost, [W,b])\n",
        "\n",
        "    #Update Gradient by W,b\n",
        "    optimizer.apply_gradients(zip(gradients, [W,b]))\n"
      ],
      "metadata": {
        "id": "r9WOsIOS0_Nt"
      },
      "execution_count": 5,
      "outputs": []
    },
    {
      "cell_type": "code",
      "source": [],
      "metadata": {
        "id": "kJu0_wt53lHY"
      },
      "execution_count": null,
      "outputs": []
    }
  ]
}