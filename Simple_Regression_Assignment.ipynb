{
  "nbformat": 4,
  "nbformat_minor": 0,
  "metadata": {
    "colab": {
      "provenance": [],
      "authorship_tag": "ABX9TyNAev1BExicz/Vary5oDC+l",
      "include_colab_link": true
    },
    "kernelspec": {
      "name": "python3",
      "display_name": "Python 3"
    },
    "language_info": {
      "name": "python"
    }
  },
  "cells": [
    {
      "cell_type": "markdown",
      "metadata": {
        "id": "view-in-github",
        "colab_type": "text"
      },
      "source": [
        "<a href=\"https://colab.research.google.com/github/sokhan1/PYTHON/blob/main/Simple_Regression_Assignment.ipynb\" target=\"_parent\"><img src=\"https://colab.research.google.com/assets/colab-badge.svg\" alt=\"Open In Colab\"/></a>"
      ]
    },
    {
      "cell_type": "code",
      "execution_count": 1,
      "metadata": {
        "colab": {
          "base_uri": "https://localhost:8080/"
        },
        "id": "MB6pl_PVz4Nr",
        "outputId": "34cb3c04-bf88-4ee2-c391-282e715bdb7d"
      },
      "outputs": [
        {
          "output_type": "stream",
          "name": "stdout",
          "text": [
            "2.17.0\n"
          ]
        }
      ],
      "source": [
        "import tensorflow as tf\n",
        "import numpy as np\n",
        "print(tf.__version__)"
      ]
    },
    {
      "cell_type": "markdown",
      "source": [
        "#Simple_Linear_Regression"
      ],
      "metadata": {
        "id": "y95JisDR1ARu"
      }
    },
    {
      "cell_type": "code",
      "source": [
        "#1 Data Generation\n",
        "X = [1,2,3,4,5]\n",
        "Y = [1,2,3,4,5]\n",
        "\n",
        "#2 hypothesis\n",
        "W = tf.Variable(tf.random.normal([1]), name='weight')\n",
        "b = tf.Variable(tf.random.normal([1]), name='bias')\n",
        "\n",
        "def hypothesis(x):\n",
        "    return W*x+b\n",
        "\n",
        "#3 cost function\n",
        "\n",
        "def cost_fn(y_pred, y_true):\n",
        "    return tf.reduce_mean(tf.square(y_true-y_pred)) #Loss_1/N * sum(squqre(y_pred-y_true))\n",
        "\n",
        "#4 optimizer\n",
        "optimizer = tf.optimizers.Adam(learning_rate=0.01)\n",
        "\n",
        "#5 train\n",
        "def train():\n",
        "    with tf.GradientTape() as g:\n",
        "        pred = hypothesis(X)\n",
        "        cost = cost_fn(pred, Y)\n",
        "\n",
        "    # Calculation Gradient\n",
        "    gradients = g.gradient(cost, [W,b])\n",
        "\n",
        "    #Update Gradient by W,b\n",
        "    optimizer.apply_gradients(zip(gradients, [W,b]))\n"
      ],
      "metadata": {
        "id": "r9WOsIOS0_Nt"
      },
      "execution_count": 5,
      "outputs": []
    },
    {
      "cell_type": "code",
      "source": [
        "# tf.variable\n",
        "print(W.numpy())"
      ],
      "metadata": {
        "colab": {
          "base_uri": "https://localhost:8080/"
        },
        "id": "kJu0_wt53lHY",
        "outputId": "9d74b64f-6b02-4c25-eda3-54370cdf48f9"
      },
      "execution_count": 6,
      "outputs": [
        {
          "output_type": "stream",
          "name": "stdout",
          "text": [
            "[-1.8856337]\n"
          ]
        }
      ]
    },
    {
      "cell_type": "code",
      "source": [
        "# reduce mean\n",
        "a2 = np.ones([2,3])\n",
        "b2 = np.array([[1.,1.],\n",
        "               [2.,2.]])\n",
        "print(b2)\n",
        "print(tf.reduce_mean(b2).numpy())"
      ],
      "metadata": {
        "colab": {
          "base_uri": "https://localhost:8080/"
        },
        "id": "5laWdfXH8ijO",
        "outputId": "0868ee0c-2de3-4764-93a8-224321ca07a7"
      },
      "execution_count": 10,
      "outputs": [
        {
          "output_type": "stream",
          "name": "stdout",
          "text": [
            "[[1. 1.]\n",
            " [2. 2.]]\n",
            "1.5\n"
          ]
        }
      ]
    },
    {
      "cell_type": "code",
      "source": [
        "#zip\n",
        "a2 = [100,110,120,130,140]\n",
        "b2 = [10, 20, 30, 40, 50]\n",
        "\n",
        "for i in zip(a2,b2):\n",
        "    print(i)\n",
        "    print(type(i))\n",
        "\n",
        "for i,j in zip(a2,b2):\n",
        "    print(i,j)"
      ],
      "metadata": {
        "colab": {
          "base_uri": "https://localhost:8080/"
        },
        "id": "0n-eB3ew8yjA",
        "outputId": "c41ea34b-6b99-4c0c-d840-1f8c537d2a51"
      },
      "execution_count": 13,
      "outputs": [
        {
          "output_type": "stream",
          "name": "stdout",
          "text": [
            "(100, 10)\n",
            "<class 'tuple'>\n",
            "(110, 20)\n",
            "<class 'tuple'>\n",
            "(120, 30)\n",
            "<class 'tuple'>\n",
            "(130, 40)\n",
            "<class 'tuple'>\n",
            "(140, 50)\n",
            "<class 'tuple'>\n",
            "100 10\n",
            "110 20\n",
            "120 30\n",
            "130 40\n",
            "140 50\n"
          ]
        }
      ]
    },
    {
      "cell_type": "code",
      "source": [
        "#training\n",
        "for step in range(1000):\n",
        "    train()\n",
        "\n",
        "    if step%100 == 0:\n",
        "        pred = hypothesis(X)\n",
        "        cost = cost_fn(pred, Y)\n",
        "        print(f\"step = {step}, cost = {cost}, W = {W.numpy()}, b = {b.numpy()}\")"
      ],
      "metadata": {
        "colab": {
          "base_uri": "https://localhost:8080/"
        },
        "id": "1Xi_wLC19JvL",
        "outputId": "5a4fbcc4-bbf4-4043-8e26-f44b8f125965"
      },
      "execution_count": 14,
      "outputs": [
        {
          "output_type": "stream",
          "name": "stdout",
          "text": [
            "step = 0, cost = 96.76383209228516, W = [-1.8756337], b = [-0.32995608]\n",
            "step = 100, cost = 35.754417419433594, W = [-0.9599467], b = [0.581573]\n",
            "step = 200, cost = 10.412127494812012, W = [-0.29458907], b = [1.2266623]\n",
            "step = 300, cost = 2.639566421508789, W = [0.11954888], b = [1.5977165]\n",
            "step = 400, cost = 0.9273092150688171, W = [0.33910528], b = [1.7508534]\n",
            "step = 500, cost = 0.6306443214416504, W = [0.4427619], b = [1.7697741]\n",
            "step = 600, cost = 0.5547868013381958, W = [0.4931679], b = [1.7230532]\n",
            "step = 700, cost = 0.5017048120498657, W = [0.5246588], b = [1.649197]\n",
            "step = 800, cost = 0.4504966139793396, W = [0.55123], b = [1.5647305]\n",
            "step = 900, cost = 0.4004727005958557, W = [0.5772008], b = [1.4756519]\n"
          ]
        }
      ]
    },
    {
      "cell_type": "code",
      "source": [
        "#visualization\n",
        "\n",
        "import matplotlib.pyplot as plt\n",
        "\n",
        "plt.plot(X,Y,\"ro\", label = \"Original Data\") #bx\n",
        "plt.plot(X,np.array(W*X + b), label = \"Fitted Line\")\n",
        "plt.legend()\n",
        "plt.grid()\n",
        "plt.title(\"Linear Regression\")\n",
        "plt.xlabel(\"x\")\n",
        "plt.ylabel(\"y\")\n",
        "plt.show()"
      ],
      "metadata": {
        "colab": {
          "base_uri": "https://localhost:8080/",
          "height": 472
        },
        "id": "aL3qlbIA9-cu",
        "outputId": "4fd6f7e3-dddf-45df-bc23-32650122a392"
      },
      "execution_count": 15,
      "outputs": [
        {
          "output_type": "display_data",
          "data": {
            "text/plain": [
              "<Figure size 640x480 with 1 Axes>"
            ],
            "image/png": "[encoded data removed]"
          },
          "metadata": {}
        }
      ]
    },
    {
      "cell_type": "code",
      "source": [
        "# Prediction or Inference\n",
        "x_test = [10]\n",
        "x_test_predict = np.array(W*x_test + b)\n",
        "print(\"*\"*20)\n",
        "print(\"if 10 appear, then correct!\\n\", x_test_predict)"
      ],
      "metadata": {
        "colab": {
          "base_uri": "https://localhost:8080/"
        },
        "id": "gXJp-8nc_LbO",
        "outputId": "d8522125-2135-431b-f47a-45fd59d7aa2d"
      },
      "execution_count": 16,
      "outputs": [
        {
          "output_type": "stream",
          "name": "stdout",
          "text": [
            "********************\n",
            "if 10 appear, then correct!\n",
            " [7.417228]\n"
          ]
        }
      ]
    },
    {
      "cell_type": "code",
      "source": [],
      "metadata": {
        "id": "y-MC3tBq_sBD"
      },
      "execution_count": null,
      "outputs": []
    }
  ]
}