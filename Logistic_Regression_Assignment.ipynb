{
  "nbformat": 4,
  "nbformat_minor": 0,
  "metadata": {
    "colab": {
      "provenance": [],
      "authorship_tag": "ABX9TyPG/FZ6o0CfZLBMw5ZOFWwY",
      "include_colab_link": true
    },
    "kernelspec": {
      "name": "python3",
      "display_name": "Python 3"
    },
    "language_info": {
      "name": "python"
    }
  },
  "cells": [
    {
      "cell_type": "markdown",
      "metadata": {
        "id": "view-in-github",
        "colab_type": "text"
      },
      "source": [
        "<a href=\"https://colab.research.google.com/github/sokhan1/PYTHON/blob/main/Logistic_Regression_Assignment.ipynb\" target=\"_parent\"><img src=\"https://colab.research.google.com/assets/colab-badge.svg\" alt=\"Open In Colab\"/></a>"
      ]
    },
    {
      "cell_type": "code",
      "execution_count": 1,
      "metadata": {
        "id": "4Y13fRqXtIIW"
      },
      "outputs": [],
      "source": [
        "import matplotlib.pyplot as plt\n",
        "import numpy as np\n",
        "import tensorflow as tf"
      ]
    },
    {
      "cell_type": "code",
      "source": [
        "x_train = np.array([[1.,1.],\n",
        "                    [1.,2.],\n",
        "                    [2.,1.],\n",
        "                    [3.,2.],\n",
        "                    [3.,3.],\n",
        "                    [2.,2.],], dtype = np.float32)"
      ],
      "metadata": {
        "id": "5bFb72jAtTW8"
      },
      "execution_count": 2,
      "outputs": []
    },
    {
      "cell_type": "code",
      "source": [
        "y_train = np.array([[0.],\n",
        "                    [0.],\n",
        "                    [0.],\n",
        "                    [1.],\n",
        "                    [1.],\n",
        "                    [1.],], dtype= np.float32)"
      ],
      "metadata": {
        "id": "kS0ygKz3tmmr"
      },
      "execution_count": 3,
      "outputs": []
    },
    {
      "cell_type": "code",
      "source": [
        "colors = ['red' if I==0 else 'blue' for I in y_train]\n",
        "plt.scatter(x_train[:,0], x_train[:,1], label = 'Logistic Regression', color= colors)\n",
        "plt.legend()\n",
        "plt.show()"
      ],
      "metadata": {
        "colab": {
          "base_uri": "https://localhost:8080/",
          "height": 430
        },
        "id": "p7kFFQ35tz7e",
        "outputId": "c7776bfc-2185-4e6b-bcc6-db7c95010143"
      },
      "execution_count": 5,
      "outputs": [
        {
          "output_type": "display_data",
          "data": {
            "text/plain": [
              "<Figure size 640x480 with 1 Axes>"
            ],
            "image/png": "[encoded data removed]"
          },
          "metadata": {}
        }
      ]
    },
    {
      "cell_type": "code",
      "source": [
        "colors= []\n",
        "for I in y_train:\n",
        "    if I == 0:\n",
        "        colors.append('red')\n",
        "    else:\n",
        "        colors.append('blue')\n",
        "#colors"
      ],
      "metadata": {
        "id": "uAIVm0bBuTjN"
      },
      "execution_count": 6,
      "outputs": []
    },
    {
      "cell_type": "code",
      "source": [
        "tf.random.set_seed(2024)\n",
        "\n",
        "# Parameter Setting\n",
        "W = tf.Variable(tf.random.normal([2,1], mean=0.0))\n",
        "b = tf.Variable(tf.random.normal([1], mean=0.0))\n",
        "\n",
        "print(\"#Weights \\n\", W.numpy(), \"\\n\\n# Bias: \\n\",b.numpy())\n",
        "\n",
        "# hypothesis(x)\n",
        "def hypothesis(x):\n",
        "    z = tf.matmul(x, W)+b\n",
        "    sigmoid= 1/(1+tf.exp(-z))\n",
        "    return sigmoid\n",
        "\n",
        "# Cost function\n",
        "\n",
        "def cost_fn(H, Y):\n",
        "    cross_entropy = Y * tf.math.log(H)+(1-Y)*tf.math.log(1-H)\n",
        "    cost = -tf.reduce_mean(cross_entropy)\n",
        "    return cost\n",
        "\n",
        "# Optimizer\n",
        "learning_rate = 0.01\n",
        "optimizer = tf.optimizers.SGD(learning_rate)\n"
      ],
      "metadata": {
        "colab": {
          "base_uri": "https://localhost:8080/"
        },
        "id": "wUwNYJkzupgA",
        "outputId": "12b02616-68fc-4729-9449-6df060e5a49b"
      },
      "execution_count": 11,
      "outputs": [
        {
          "output_type": "stream",
          "name": "stdout",
          "text": [
            "#Weights \n",
            " [[0.4306668]\n",
            " [0.1564775]] \n",
            "\n",
            "# Bias: \n",
            " [-1.0379024]\n"
          ]
        }
      ]
    },
    {
      "cell_type": "code",
      "source": [],
      "metadata": {
        "id": "1a1C69R0v6Xa"
      },
      "execution_count": null,
      "outputs": []
    }
  ]
}