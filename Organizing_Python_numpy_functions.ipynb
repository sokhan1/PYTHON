{
  "nbformat": 4,
  "nbformat_minor": 0,
  "metadata": {
    "colab": {
      "provenance": [],
      "authorship_tag": "ABX9TyPdkVNmcwORJfuD5CWL1IOY",
      "include_colab_link": true
    },
    "kernelspec": {
      "name": "python3",
      "display_name": "Python 3"
    },
    "language_info": {
      "name": "python"
    }
  },
  "cells": [
    {
      "cell_type": "markdown",
      "metadata": {
        "id": "view-in-github",
        "colab_type": "text"
      },
      "source": [
        "<a href=\"https://colab.research.google.com/github/sokhan1/PYTHON/blob/main/Organizing_Python_numpy_functions.ipynb\" target=\"_parent\"><img src=\"https://colab.research.google.com/assets/colab-badge.svg\" alt=\"Open In Colab\"/></a>"
      ]
    },
    {
      "cell_type": "markdown",
      "source": [
        "\n",
        "\n",
        "## numpy functions\n",
        "\n"
      ],
      "metadata": {
        "id": "eT9xDH5PsRlW"
      }
    },
    {
      "cell_type": "code",
      "source": [
        "import numpy as np\n",
        "A=np.random.randn(3,3) # this code doesn't need tuple\n",
        "B=np.random.rand(3,3)\n",
        "print(A)\n",
        "print(B)\n",
        "print(A[A[:,0]<0,:]) # boolean index"
      ],
      "metadata": {
        "colab": {
          "base_uri": "https://localhost:8080/"
        },
        "id": "qQRU2_yVsWGg",
        "outputId": "50e49799-e3a5-4e85-8e1a-e581ecb2888e"
      },
      "execution_count": 3,
      "outputs": [
        {
          "output_type": "stream",
          "name": "stdout",
          "text": [
            "[[ 0.81438556 -1.79899926 -1.22203563]\n",
            " [ 0.40962498  0.16506014 -0.02169802]\n",
            " [ 0.39593548  0.10528444 -0.89674283]]\n",
            "[[0.6236406  0.66088718 0.44383109]\n",
            " [0.124782   0.51539514 0.1166275 ]\n",
            " [0.63445444 0.88256586 0.34185067]]\n",
            "[]\n"
          ]
        }
      ]
    },
    {
      "cell_type": "code",
      "source": [
        "A=np.random.randn(3,3)\n",
        "print(A)\n",
        "print(np.abs(A))\n",
        "print(np.sqrt(np.abs(A))) # sqrt need abs\n",
        "print(np.exp(A))\n",
        "print(np.log(np.abs(A))) # log needs abs\n",
        "print(np.log(np.exp(1))) # np.exp(1)=e^1\n",
        "print(np.log2(2))\n",
        "# print(np.log3(3)) log3 doesn't exist in python\n",
        "print(np.round(A))\n",
        "print(np.round(A,2))\n",
        "print(np.floor(A))\n",
        "print(np.ceil(A))"
      ],
      "metadata": {
        "colab": {
          "base_uri": "https://localhost:8080/"
        },
        "id": "RohGbI16soLN",
        "outputId": "b6e2364f-2aaa-4c39-f576-29214af65d74"
      },
      "execution_count": 9,
      "outputs": [
        {
          "output_type": "stream",
          "name": "stdout",
          "text": [
            "[[ 1.93284318  0.86586139 -1.50731758]\n",
            " [-0.14603845  0.12921707  0.47371018]\n",
            " [ 0.46773417 -0.14905851  0.349149  ]]\n",
            "[[1.93284318 0.86586139 1.50731758]\n",
            " [0.14603845 0.12921707 0.47371018]\n",
            " [0.46773417 0.14905851 0.349149  ]]\n",
            "[[1.39026731 0.93051673 1.22772863]\n",
            " [0.38214977 0.35946776 0.68826607]\n",
            " [0.68391094 0.38608096 0.59088832]]\n",
            "[[6.90912624 2.37705278 0.22150335]\n",
            " [0.86412448 1.13793711 1.60594149]\n",
            " [1.59637298 0.86151871 1.41786044]]\n",
            "[[ 0.65899207 -0.14403044  0.41033163]\n",
            " [-1.92388536 -2.04626158 -0.74715958]\n",
            " [-0.75985516 -1.9034164  -1.0522565 ]]\n",
            "1.0\n",
            "1.0\n",
            "[[ 2.  1. -2.]\n",
            " [-0.  0.  0.]\n",
            " [ 0. -0.  0.]]\n",
            "[[ 1.93  0.87 -1.51]\n",
            " [-0.15  0.13  0.47]\n",
            " [ 0.47 -0.15  0.35]]\n",
            "[[ 1.  0. -2.]\n",
            " [-1.  0.  0.]\n",
            " [ 0. -1.  0.]]\n",
            "[[ 2.  1. -1.]\n",
            " [-0.  1.  1.]\n",
            " [ 1. -0.  1.]]\n"
          ]
        }
      ]
    },
    {
      "cell_type": "code",
      "source": [
        "print(np.sin(np.pi/6)) # pi needs .np\n",
        "print(np.cos(np.pi/3))\n",
        "print(np.tan(np.pi/4))\n",
        "print(np.tanh(-10))"
      ],
      "metadata": {
        "colab": {
          "base_uri": "https://localhost:8080/"
        },
        "id": "joa-KcsttVGI",
        "outputId": "327042bd-5eb2-4e3c-c47d-1405700579df"
      },
      "execution_count": 12,
      "outputs": [
        {
          "output_type": "stream",
          "name": "stdout",
          "text": [
            "0.49999999999999994\n",
            "0.5000000000000001\n",
            "0.9999999999999999\n",
            "-0.9999999958776927\n"
          ]
        }
      ]
    },
    {
      "cell_type": "code",
      "source": [
        "np.nan # not a number\n",
        "#np.log(-1) impossible\n",
        "print(np.isnan([1,2,np.nan,3,4]))\n",
        "print(np.isinf([1,2,3,4,np.inf]))\n"
      ],
      "metadata": {
        "colab": {
          "base_uri": "https://localhost:8080/"
        },
        "id": "p_Do0tMZuJts",
        "outputId": "0955202d-bda2-4527-a6a8-d3c41a2f1ccb"
      },
      "execution_count": 14,
      "outputs": [
        {
          "output_type": "stream",
          "name": "stdout",
          "text": [
            "[False False  True False False]\n",
            "[False False False False  True]\n"
          ]
        }
      ]
    },
    {
      "cell_type": "code",
      "source": [
        "A=np.random.randn(3,4)\n",
        "print(A)\n",
        "print(np.max(A))\n",
        "print(np.max(A,axis=0))\n",
        "print(np.max(A,axis=1))\n",
        "print(np.max(A,axis=0, keepdims=True))\n",
        "print(np.max(A,axis=1,keepdims=True)) # keep dimension\n",
        "print(np.min(A,axis=0))\n",
        "print(np.min(A,axis=1))\n",
        "print(np.argmax(A)) # show us index of the biggest value\n",
        "print(np.argmax(A,axis=0)) # show us index of the biggest value in each columns\n",
        "print(np.argmax(A,axis=1)) # show us index of the biggest value in each rows\n",
        "print(np.argmax(A,axis=1,keepdims=True)) # keep dimension"
      ],
      "metadata": {
        "colab": {
          "base_uri": "https://localhost:8080/"
        },
        "id": "4pgwEtAhuhpo",
        "outputId": "d48f44aa-c85b-4e41-b599-27a0e956292f"
      },
      "execution_count": 23,
      "outputs": [
        {
          "output_type": "stream",
          "name": "stdout",
          "text": [
            "[[-1.02321554  1.26323916  0.96504177  1.74920702]\n",
            " [ 2.11744406 -0.53770099  0.31699313 -0.91307141]\n",
            " [-0.12827261 -1.38771523 -1.37154541  0.95968268]]\n",
            "2.1174440621796546\n",
            "[2.11744406 1.26323916 0.96504177 1.74920702]\n",
            "[1.74920702 2.11744406 0.95968268]\n",
            "[[2.11744406 1.26323916 0.96504177 1.74920702]]\n",
            "[[1.74920702]\n",
            " [2.11744406]\n",
            " [0.95968268]]\n",
            "[-1.02321554 -1.38771523 -1.37154541 -0.91307141]\n",
            "[-1.02321554 -0.91307141 -1.38771523]\n",
            "4\n",
            "[1 0 0 0]\n",
            "[3 0 3]\n",
            "[[3]\n",
            " [0]\n",
            " [3]]\n"
          ]
        }
      ]
    },
    {
      "cell_type": "code",
      "source": [
        "a=np.random.randn(6,1)\n",
        "print(a)\n",
        "a_sorted=np.sort(a,axis=0)\n",
        "print(a_sorted) # in ascending order\n",
        "print(np.flipud(a_sorted)) # in descending order"
      ],
      "metadata": {
        "colab": {
          "base_uri": "https://localhost:8080/"
        },
        "id": "qCtanj9Tu7xs",
        "outputId": "7add1a42-c0f4-4be0-8742-080f7b2db75b"
      },
      "execution_count": 26,
      "outputs": [
        {
          "output_type": "stream",
          "name": "stdout",
          "text": [
            "[[-0.27732224]\n",
            " [-0.26270111]\n",
            " [-0.09224746]\n",
            " [-0.38948375]\n",
            " [-0.11074557]\n",
            " [ 0.27731249]]\n",
            "[[-0.38948375]\n",
            " [-0.27732224]\n",
            " [-0.26270111]\n",
            " [-0.11074557]\n",
            " [-0.09224746]\n",
            " [ 0.27731249]]\n",
            "[[ 0.27731249]\n",
            " [-0.09224746]\n",
            " [-0.11074557]\n",
            " [-0.26270111]\n",
            " [-0.27732224]\n",
            " [-0.38948375]]\n"
          ]
        }
      ]
    },
    {
      "cell_type": "code",
      "source": [
        "A=np.random.randn(3,4)\n",
        "print(A)\n",
        "print(np.sum(A))\n",
        "print(np.sum(A,axis=1))\n",
        "print(np.sum(A, axis=1, keepdims=True))\n",
        "print(np.mean(A))\n",
        "print(np.mean(A, axis=1, keepdims=True))\n",
        "print(np.std(A)) # standard deviation"
      ],
      "metadata": {
        "colab": {
          "base_uri": "https://localhost:8080/"
        },
        "id": "eK9BKuZg-UuT",
        "outputId": "2fa93b1b-49bd-48b3-b87b-95e832712c70"
      },
      "execution_count": 27,
      "outputs": [
        {
          "output_type": "stream",
          "name": "stdout",
          "text": [
            "[[ 0.61255144  1.02187105  0.1924773   0.65130026]\n",
            " [-0.37312229  0.14719333  0.98149342 -0.58567155]\n",
            " [-0.95899702 -1.24357384  0.49663219  0.69895376]]\n",
            "1.6411080566516079\n",
            "[ 2.47820004  0.16989291 -1.0069849 ]\n",
            "[[ 2.47820004]\n",
            " [ 0.16989291]\n",
            " [-1.0069849 ]]\n",
            "0.13675900472096733\n"
          ]
        }
      ]
    },
    {
      "cell_type": "code",
      "source": [
        "A=np.random.randint(-1,5,size=(12,))\n",
        "print(A)\n",
        "print(type(A))\n",
        "print(A.shape)\n",
        "B=A.reshape(2,2,3)\n",
        "print(B)\n",
        "print(B.ndim) # 3 dimensions"
      ],
      "metadata": {
        "colab": {
          "base_uri": "https://localhost:8080/"
        },
        "id": "Ame02_Xt_b3l",
        "outputId": "340105d0-0300-4dd8-c10e-42311e5c4cb5"
      },
      "execution_count": 37,
      "outputs": [
        {
          "output_type": "stream",
          "name": "stdout",
          "text": [
            "[ 0  1  2  1  3  3  2 -1  3  3  0 -1]\n",
            "<class 'numpy.ndarray'>\n",
            "(12,)\n",
            "[[[ 0  1  2]\n",
            "  [ 1  3  3]]\n",
            "\n",
            " [[ 2 -1  3]\n",
            "  [ 3  0 -1]]]\n",
            "3\n"
          ]
        }
      ]
    },
    {
      "cell_type": "code",
      "source": [
        "a=np.array([1,2,3]) # dot product\n",
        "b=np.array([2,2,1])\n",
        "a=a.reshape(3,1)\n",
        "b=b.reshape(3,1)\n",
        "print(a.transpose()@b) #dot product\n",
        "print(a.T@b)\n",
        "\n",
        "A=np.random.randn(4,3,2)\n",
        "print(A)\n",
        "print(A.transpose(2,1,0).shape)\n",
        "print(A.transpose(0,1,2).shape) # change row and column"
      ],
      "metadata": {
        "colab": {
          "base_uri": "https://localhost:8080/"
        },
        "id": "HxqtTRn3BGJf",
        "outputId": "d7364d08-5dfc-4add-cd2e-8f2855cf3d35"
      },
      "execution_count": 43,
      "outputs": [
        {
          "output_type": "stream",
          "name": "stdout",
          "text": [
            "[[9]]\n",
            "[[9]]\n",
            "[[[-0.5466822   0.46363329]\n",
            "  [-1.71418192  1.80281927]\n",
            "  [-0.77472427  1.05917539]]\n",
            "\n",
            " [[ 0.35112767  0.99264928]\n",
            "  [ 0.55786624 -0.35950511]\n",
            "  [-0.01563244  0.04923042]]\n",
            "\n",
            " [[-0.40889185 -2.43636384]\n",
            "  [ 0.30507875  0.24085492]\n",
            "  [-0.53007187 -0.14683796]]\n",
            "\n",
            " [[-0.41092502 -0.21823181]\n",
            "  [ 0.74192501  2.85323687]\n",
            "  [ 0.77175986 -0.90387119]]]\n",
            "(2, 3, 4)\n",
            "(4, 3, 2)\n"
          ]
        }
      ]
    },
    {
      "cell_type": "code",
      "source": [
        "A=np.arange(20)\n",
        "print(A)\n",
        "print(A.reshape(4,5))\n",
        "print(A.reshape(4,-1)) # automatically column is determined by the number of row\n",
        "print(A.reshape(2,5,-1).shape)\n",
        "print(A.reshape(2,-1,5).shape)\n",
        "print(A.reshape(1,-1)) # 2 dimension row vector\n",
        "print(A.reshape(-1,1)) # 2 dimension column vector"
      ],
      "metadata": {
        "colab": {
          "base_uri": "https://localhost:8080/"
        },
        "id": "9WE9Qxz2PQoI",
        "outputId": "c0c490d1-5758-4f6d-a5fa-24052dd04f26"
      },
      "execution_count": 48,
      "outputs": [
        {
          "output_type": "stream",
          "name": "stdout",
          "text": [
            "[ 0  1  2  3  4  5  6  7  8  9 10 11 12 13 14 15 16 17 18 19]\n",
            "[[ 0  1  2  3  4]\n",
            " [ 5  6  7  8  9]\n",
            " [10 11 12 13 14]\n",
            " [15 16 17 18 19]]\n",
            "[[ 0  1  2  3  4]\n",
            " [ 5  6  7  8  9]\n",
            " [10 11 12 13 14]\n",
            " [15 16 17 18 19]]\n",
            "(2, 5, 2)\n",
            "(2, 2, 5)\n",
            "[[ 0  1  2  3  4  5  6  7  8  9 10 11 12 13 14 15 16 17 18 19]]\n",
            "[[ 0]\n",
            " [ 1]\n",
            " [ 2]\n",
            " [ 3]\n",
            " [ 4]\n",
            " [ 5]\n",
            " [ 6]\n",
            " [ 7]\n",
            " [ 8]\n",
            " [ 9]\n",
            " [10]\n",
            " [11]\n",
            " [12]\n",
            " [13]\n",
            " [14]\n",
            " [15]\n",
            " [16]\n",
            " [17]\n",
            " [18]\n",
            " [19]]\n"
          ]
        }
      ]
    },
    {
      "cell_type": "code",
      "source": [
        "x=np.random.randn(2,3,4,5,6)\n",
        "print(x[1,2,:,:,:].shape) # print(x[1,2,:,:,:].shape)=print(x[1,2,...].shape)\n",
        "print(x[1,2,...].shape)"
      ],
      "metadata": {
        "colab": {
          "base_uri": "https://localhost:8080/"
        },
        "id": "KN6Yg9fTRT85",
        "outputId": "bbf28a32-93b3-4ce8-8865-55e915063682"
      },
      "execution_count": 56,
      "outputs": [
        {
          "output_type": "stream",
          "name": "stdout",
          "text": [
            "(4, 5, 6)\n",
            "(4, 5, 6)\n"
          ]
        }
      ]
    },
    {
      "cell_type": "code",
      "source": [
        "A=np.ones((2,2))\n",
        "B=np.zeros((2,2))\n",
        "C=np.hstack([A,B]) # A and B are stacked in horizontal direction\n",
        "D=np.vstack([A,B]) # A and B are stacked in vertical direction\n",
        "E=np.block([A,B])\n",
        "F=np.block([[A],[B]])\n",
        "G=np.block([[[A]],[[B]]]) # A and B are stacked in depth direction\n",
        "print(C)\n",
        "print(D)\n",
        "print(F)\n",
        "print(G)\n",
        "print(G.shape)"
      ],
      "metadata": {
        "colab": {
          "base_uri": "https://localhost:8080/"
        },
        "id": "YOec5-1GRbsz",
        "outputId": "e8d4eec0-6ae5-4b5f-ec91-3a44a56a07f8"
      },
      "execution_count": 62,
      "outputs": [
        {
          "output_type": "stream",
          "name": "stdout",
          "text": [
            "[[1. 1. 0. 0.]\n",
            " [1. 1. 0. 0.]]\n",
            "[[1. 1.]\n",
            " [1. 1.]\n",
            " [0. 0.]\n",
            " [0. 0.]]\n",
            "[[1. 1.]\n",
            " [1. 1.]\n",
            " [0. 0.]\n",
            " [0. 0.]]\n",
            "[[[1. 1.]\n",
            "  [1. 1.]]\n",
            "\n",
            " [[0. 0.]\n",
            "  [0. 0.]]]\n",
            "(2, 2, 2)\n"
          ]
        }
      ]
    },
    {
      "cell_type": "code",
      "source": [
        "A = np.random.randn(1,1,1,3,1,1,4,1)\n",
        "#print(A)\n",
        "print(A.shape)\n",
        "print(A.squeeze().shape) # DELETE 1\n",
        "print(A.squeeze(axis=(0,2,4,5)).shape) # This line can delete only '1' that I want"
      ],
      "metadata": {
        "colab": {
          "base_uri": "https://localhost:8080/"
        },
        "id": "ypKN0YQLTMqj",
        "outputId": "4818401c-888f-498e-c56a-7861e2110e63"
      },
      "execution_count": 68,
      "outputs": [
        {
          "output_type": "stream",
          "name": "stdout",
          "text": [
            "(1, 1, 1, 3, 1, 1, 4, 1)\n",
            "(3, 4)\n",
            "(1, 3, 4, 1)\n"
          ]
        }
      ]
    },
    {
      "cell_type": "code",
      "source": [
        "A=np.random.randn(3,4)\n",
        "print(A)\n",
        "print(A.shape)\n",
        "#A1=A[np.newaxis,....] #np.newaxis is None <- True\n",
        "A1=np.expand_dims(A,axis=0)\n",
        "print(A1)\n",
        "print(A1.shape)\n",
        "A2=np.expand_dims(A,axis=2)\n",
        "print(A2)\n",
        "print(A2.shape)\n",
        "A3=np.expand_dims(A,axis=1)\n",
        "print(A3)"
      ],
      "metadata": {
        "colab": {
          "base_uri": "https://localhost:8080/"
        },
        "id": "f0faPtQJSY_V",
        "outputId": "b8cbf0f2-4334-417a-ca14-85e027402117"
      },
      "execution_count": 78,
      "outputs": [
        {
          "output_type": "stream",
          "name": "stdout",
          "text": [
            "[[-0.79398577  0.45085673 -1.15532273  1.22542679]\n",
            " [-0.00870169  0.4703996  -1.76535489  0.37449278]\n",
            " [-0.7110841  -0.77831863 -0.15183714  0.71298949]]\n",
            "(3, 4)\n",
            "[[[-0.79398577  0.45085673 -1.15532273  1.22542679]\n",
            "  [-0.00870169  0.4703996  -1.76535489  0.37449278]\n",
            "  [-0.7110841  -0.77831863 -0.15183714  0.71298949]]]\n",
            "(1, 3, 4)\n",
            "[[[-0.79398577]\n",
            "  [ 0.45085673]\n",
            "  [-1.15532273]\n",
            "  [ 1.22542679]]\n",
            "\n",
            " [[-0.00870169]\n",
            "  [ 0.4703996 ]\n",
            "  [-1.76535489]\n",
            "  [ 0.37449278]]\n",
            "\n",
            " [[-0.7110841 ]\n",
            "  [-0.77831863]\n",
            "  [-0.15183714]\n",
            "  [ 0.71298949]]]\n",
            "(3, 4, 1)\n",
            "[[[-0.79398577  0.45085673 -1.15532273  1.22542679]]\n",
            "\n",
            " [[-0.00870169  0.4703996  -1.76535489  0.37449278]]\n",
            "\n",
            " [[-0.7110841  -0.77831863 -0.15183714  0.71298949]]]\n"
          ]
        }
      ]
    },
    {
      "cell_type": "code",
      "source": [
        "A1=np.expand_dims(A,axis=0)\n",
        "print(A1)\n",
        "A2=np.expand_dims(A,axis=2)\n",
        "print(A2)\n",
        "A3=np.expand_dims(A,axis=1)\n",
        "print(A3)"
      ],
      "metadata": {
        "colab": {
          "base_uri": "https://localhost:8080/"
        },
        "id": "YqrMEefrT3hH",
        "outputId": "8d28c13f-d188-46a2-c2b0-244ebd155c62"
      },
      "execution_count": 72,
      "outputs": [
        {
          "output_type": "stream",
          "name": "stdout",
          "text": [
            "[[[ 1.80272593 -0.44476176  2.07677003  0.06486437]\n",
            "  [-0.57296512  0.17388868  0.5549534   0.49785842]\n",
            "  [ 0.87958519 -0.4026564   1.0494685   1.16270127]]]\n",
            "[[[ 1.80272593]\n",
            "  [-0.44476176]\n",
            "  [ 2.07677003]\n",
            "  [ 0.06486437]]\n",
            "\n",
            " [[-0.57296512]\n",
            "  [ 0.17388868]\n",
            "  [ 0.5549534 ]\n",
            "  [ 0.49785842]]\n",
            "\n",
            " [[ 0.87958519]\n",
            "  [-0.4026564 ]\n",
            "  [ 1.0494685 ]\n",
            "  [ 1.16270127]]]\n",
            "[[[ 1.80272593 -0.44476176  2.07677003  0.06486437]]\n",
            "\n",
            " [[-0.57296512  0.17388868  0.5549534   0.49785842]]\n",
            "\n",
            " [[ 0.87958519 -0.4026564   1.0494685   1.16270127]]]\n"
          ]
        }
      ]
    },
    {
      "cell_type": "code",
      "source": [],
      "metadata": {
        "id": "ASBNIfW3UVzi"
      },
      "execution_count": null,
      "outputs": []
    }
  ]
}