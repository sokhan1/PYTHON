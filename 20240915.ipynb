{
  "nbformat": 4,
  "nbformat_minor": 0,
  "metadata": {
    "colab": {
      "provenance": [],
      "gpuType": "T4",
      "include_colab_link": true
    },
    "kernelspec": {
      "name": "python3",
      "display_name": "Python 3"
    },
    "language_info": {
      "name": "python"
    },
    "accelerator": "GPU"
  },
  "cells": [
    {
      "cell_type": "markdown",
      "metadata": {
        "id": "view-in-github",
        "colab_type": "text"
      },
      "source": [
        "<a href=\"https://colab.research.google.com/github/sokhan1/PYTHON/blob/main/20240915.ipynb\" target=\"_parent\"><img src=\"https://colab.research.google.com/assets/colab-badge.svg\" alt=\"Open In Colab\"/></a>"
      ]
    },
    {
      "cell_type": "markdown",
      "source": [
        "#module"
      ],
      "metadata": {
        "id": "s_1-IrBh_7lJ"
      }
    },
    {
      "cell_type": "code",
      "source": [
        "import pandas as pd\n",
        "import numpy as np\n",
        "from sklearn.model_selection import StratifiedKFold\n",
        "import tensorflow as tf\n",
        "import matplotlib.pyplot as plt\n",
        "from google.colab import drive"
      ],
      "metadata": {
        "id": "lptkwNmQAAxs"
      },
      "execution_count": 1,
      "outputs": []
    },
    {
      "cell_type": "markdown",
      "source": [
        "# Data Load"
      ],
      "metadata": {
        "id": "pFk_gD2HABpg"
      }
    },
    {
      "cell_type": "code",
      "source": [
        "drive.mount('/content/drive')\n",
        "file_path = '/content/drive/MyDrive/Detect credit card anomalies/sample.ipynb'\n",
        "data = pd.read_csv(file_path)\n",
        "data"
      ],
      "metadata": {
        "id": "fTu4KJn-AEOs",
        "colab": {
          "base_uri": "https://localhost:8080/",
          "height": 139
        },
        "outputId": "0643d616-8e6c-47b2-b4ac-3990207c97e4"
      },
      "execution_count": 3,
      "outputs": [
        {
          "output_type": "stream",
          "name": "stdout",
          "text": [
            "Drive already mounted at /content/drive; to attempt to forcibly remount, call drive.mount(\"/content/drive\", force_remount=True).\n"
          ]
        },
        {
          "output_type": "execute_result",
          "data": {
            "text/plain": [
              "Empty DataFrame\n",
              "Columns: [{\"nbformat\":4, nbformat_minor:0, metadata:{\"colab\":{\"provenance\":[], toc_visible:true, authorship_tag:\"ABX9TyN0FCzPKh8DGbHJq2FkaUc6\"}, kernelspec:{\"name\":\"python3\", display_name:\"Python 3\"}, language_info:{\"name\":\"python\"}}, cells:[{\"cell_type\":\"code\", execution_count:null, metadata:{\"id\":\"o30YCSA64SxN\"}, outputs:[], source:[]}]}]\n",
              "Index: []"
            ],
            "text/html": [
              "\n",
              "  <div id=\"df-529266a1-6595-4a65-bd9a-3da19c7c3089\" class=\"colab-df-container\">\n",
              "    <div>\n",
              "<style scoped>\n",
              "    .dataframe tbody tr th:only-of-type {\n",
              "        vertical-align: middle;\n",
              "    }\n",
              "\n",
              "    .dataframe tbody tr th {\n",
              "        vertical-align: top;\n",
              "    }\n",
              "\n",
              "    .dataframe thead th {\n",
              "        text-align: right;\n",
              "    }\n",
              "</style>\n",
              "<table border=\"1\" class=\"dataframe\">\n",
              "  <thead>\n",
              "    <tr style=\"text-align: right;\">\n",
              "      <th></th>\n",
              "      <th>{\"nbformat\":4</th>\n",
              "      <th>nbformat_minor:0</th>\n",
              "      <th>metadata:{\"colab\":{\"provenance\":[]</th>\n",
              "      <th>toc_visible:true</th>\n",
              "      <th>authorship_tag:\"ABX9TyN0FCzPKh8DGbHJq2FkaUc6\"}</th>\n",
              "      <th>kernelspec:{\"name\":\"python3\"</th>\n",
              "      <th>display_name:\"Python 3\"}</th>\n",
              "      <th>language_info:{\"name\":\"python\"}}</th>\n",
              "      <th>cells:[{\"cell_type\":\"code\"</th>\n",
              "      <th>execution_count:null</th>\n",
              "      <th>metadata:{\"id\":\"o30YCSA64SxN\"}</th>\n",
              "      <th>outputs:[]</th>\n",
              "      <th>source:[]}]}</th>\n",
              "    </tr>\n",
              "  </thead>\n",
              "  <tbody>\n",
              "  </tbody>\n",
              "</table>\n",
              "</div>\n",
              "    <div class=\"colab-df-buttons\">\n",
              "\n",
              "  <div class=\"colab-df-container\">\n",
              "    <button class=\"colab-df-convert\" onclick=\"convertToInteractive('df-529266a1-6595-4a65-bd9a-3da19c7c3089')\"\n",
              "            title=\"Convert this dataframe to an interactive table.\"\n",
              "            style=\"display:none;\">\n",
              "\n",
              "  <svg xmlns=\"http://www.w3.org/2000/svg\" height=\"24px\" viewBox=\"0 -960 960 960\">\n",
              "    <path d=\"M120-120v-720h720v720H120Zm60-500h600v-160H180v160Zm220 220h160v-160H400v160Zm0 220h160v-160H400v160ZM180-400h160v-160H180v160Zm440 0h160v-160H620v160ZM180-180h160v-160H180v160Zm440 0h160v-160H620v160Z\"/>\n",
              "  </svg>\n",
              "    </button>\n",
              "\n",
              "  <style>\n",
              "    .colab-df-container {\n",
              "      display:flex;\n",
              "      gap: 12px;\n",
              "    }\n",
              "\n",
              "    .colab-df-convert {\n",
              "      background-color: #E8F0FE;\n",
              "      border: none;\n",
              "      border-radius: 50%;\n",
              "      cursor: pointer;\n",
              "      display: none;\n",
              "      fill: #1967D2;\n",
              "      height: 32px;\n",
              "      padding: 0 0 0 0;\n",
              "      width: 32px;\n",
              "    }\n",
              "\n",
              "    .colab-df-convert:hover {\n",
              "      background-color: #E2EBFA;\n",
              "      box-shadow: 0px 1px 2px rgba(60, 64, 67, 0.3), 0px 1px 3px 1px rgba(60, 64, 67, 0.15);\n",
              "      fill: #174EA6;\n",
              "    }\n",
              "\n",
              "    .colab-df-buttons div {\n",
              "      margin-bottom: 4px;\n",
              "    }\n",
              "\n",
              "    [theme=dark] .colab-df-convert {\n",
              "      background-color: #3B4455;\n",
              "      fill: #D2E3FC;\n",
              "    }\n",
              "\n",
              "    [theme=dark] .colab-df-convert:hover {\n",
              "      background-color: #434B5C;\n",
              "      box-shadow: 0px 1px 3px 1px rgba(0, 0, 0, 0.15);\n",
              "      filter: drop-shadow(0px 1px 2px rgba(0, 0, 0, 0.3));\n",
              "      fill: #FFFFFF;\n",
              "    }\n",
              "  </style>\n",
              "\n",
              "    <script>\n",
              "      const buttonEl =\n",
              "        document.querySelector('#df-529266a1-6595-4a65-bd9a-3da19c7c3089 button.colab-df-convert');\n",
              "      buttonEl.style.display =\n",
              "        google.colab.kernel.accessAllowed ? 'block' : 'none';\n",
              "\n",
              "      async function convertToInteractive(key) {\n",
              "        const element = document.querySelector('#df-529266a1-6595-4a65-bd9a-3da19c7c3089');\n",
              "        const dataTable =\n",
              "          await google.colab.kernel.invokeFunction('convertToInteractive',\n",
              "                                                    [key], {});\n",
              "        if (!dataTable) return;\n",
              "\n",
              "        const docLinkHtml = 'Like what you see? Visit the ' +\n",
              "          '<a target=\"_blank\" href=https://colab.research.google.com/notebooks/data_table.ipynb>data table notebook</a>'\n",
              "          + ' to learn more about interactive tables.';\n",
              "        element.innerHTML = '';\n",
              "        dataTable['output_type'] = 'display_data';\n",
              "        await google.colab.output.renderOutput(dataTable, element);\n",
              "        const docLink = document.createElement('div');\n",
              "        docLink.innerHTML = docLinkHtml;\n",
              "        element.appendChild(docLink);\n",
              "      }\n",
              "    </script>\n",
              "  </div>\n",
              "\n",
              "\n",
              "  <div id=\"id_f49552b0-ffe5-4e06-bbbd-316be84f2f9a\">\n",
              "    <style>\n",
              "      .colab-df-generate {\n",
              "        background-color: #E8F0FE;\n",
              "        border: none;\n",
              "        border-radius: 50%;\n",
              "        cursor: pointer;\n",
              "        display: none;\n",
              "        fill: #1967D2;\n",
              "        height: 32px;\n",
              "        padding: 0 0 0 0;\n",
              "        width: 32px;\n",
              "      }\n",
              "\n",
              "      .colab-df-generate:hover {\n",
              "        background-color: #E2EBFA;\n",
              "        box-shadow: 0px 1px 2px rgba(60, 64, 67, 0.3), 0px 1px 3px 1px rgba(60, 64, 67, 0.15);\n",
              "        fill: #174EA6;\n",
              "      }\n",
              "\n",
              "      [theme=dark] .colab-df-generate {\n",
              "        background-color: #3B4455;\n",
              "        fill: #D2E3FC;\n",
              "      }\n",
              "\n",
              "      [theme=dark] .colab-df-generate:hover {\n",
              "        background-color: #434B5C;\n",
              "        box-shadow: 0px 1px 3px 1px rgba(0, 0, 0, 0.15);\n",
              "        filter: drop-shadow(0px 1px 2px rgba(0, 0, 0, 0.3));\n",
              "        fill: #FFFFFF;\n",
              "      }\n",
              "    </style>\n",
              "    <button class=\"colab-df-generate\" onclick=\"generateWithVariable('data')\"\n",
              "            title=\"Generate code using this dataframe.\"\n",
              "            style=\"display:none;\">\n",
              "\n",
              "  <svg xmlns=\"http://www.w3.org/2000/svg\" height=\"24px\"viewBox=\"0 0 24 24\"\n",
              "       width=\"24px\">\n",
              "    <path d=\"M7,19H8.4L18.45,9,17,7.55,7,17.6ZM5,21V16.75L18.45,3.32a2,2,0,0,1,2.83,0l1.4,1.43a1.91,1.91,0,0,1,.58,1.4,1.91,1.91,0,0,1-.58,1.4L9.25,21ZM18.45,9,17,7.55Zm-12,3A5.31,5.31,0,0,0,4.9,8.1,5.31,5.31,0,0,0,1,6.5,5.31,5.31,0,0,0,4.9,4.9,5.31,5.31,0,0,0,6.5,1,5.31,5.31,0,0,0,8.1,4.9,5.31,5.31,0,0,0,12,6.5,5.46,5.46,0,0,0,6.5,12Z\"/>\n",
              "  </svg>\n",
              "    </button>\n",
              "    <script>\n",
              "      (() => {\n",
              "      const buttonEl =\n",
              "        document.querySelector('#id_f49552b0-ffe5-4e06-bbbd-316be84f2f9a button.colab-df-generate');\n",
              "      buttonEl.style.display =\n",
              "        google.colab.kernel.accessAllowed ? 'block' : 'none';\n",
              "\n",
              "      buttonEl.onclick = () => {\n",
              "        google.colab.notebook.generateWithVariable('data');\n",
              "      }\n",
              "      })();\n",
              "    </script>\n",
              "  </div>\n",
              "\n",
              "    </div>\n",
              "  </div>\n"
            ],
            "application/vnd.google.colaboratory.intrinsic+json": {
              "type": "dataframe",
              "variable_name": "data",
              "repr_error": "Out of range float values are not JSON compliant: nan"
            }
          },
          "metadata": {},
          "execution_count": 3
        }
      ]
    },
    {
      "cell_type": "markdown",
      "source": [
        "# EDA"
      ],
      "metadata": {
        "id": "d1B5JHTMWoj3"
      }
    },
    {
      "cell_type": "code",
      "source": [
        "data.info()"
      ],
      "metadata": {
        "colab": {
          "base_uri": "https://localhost:8080/"
        },
        "id": "a18hYXv9WqlX",
        "outputId": "ce25b6d0-6c87-4714-bda0-628fb7a5aefb"
      },
      "execution_count": null,
      "outputs": [
        {
          "output_type": "stream",
          "name": "stdout",
          "text": [
            "<class 'pandas.core.frame.DataFrame'>\n",
            "RangeIndex: 284807 entries, 0 to 284806\n",
            "Data columns (total 31 columns):\n",
            " #   Column  Non-Null Count   Dtype  \n",
            "---  ------  --------------   -----  \n",
            " 0   Time    284807 non-null  float64\n",
            " 1   V1      284807 non-null  float64\n",
            " 2   V2      284807 non-null  float64\n",
            " 3   V3      284807 non-null  float64\n",
            " 4   V4      284807 non-null  float64\n",
            " 5   V5      284807 non-null  float64\n",
            " 6   V6      284807 non-null  float64\n",
            " 7   V7      284807 non-null  float64\n",
            " 8   V8      284807 non-null  float64\n",
            " 9   V9      284807 non-null  float64\n",
            " 10  V10     284807 non-null  float64\n",
            " 11  V11     284807 non-null  float64\n",
            " 12  V12     284807 non-null  float64\n",
            " 13  V13     284807 non-null  float64\n",
            " 14  V14     284807 non-null  float64\n",
            " 15  V15     284807 non-null  float64\n",
            " 16  V16     284807 non-null  float64\n",
            " 17  V17     284807 non-null  float64\n",
            " 18  V18     284807 non-null  float64\n",
            " 19  V19     284807 non-null  float64\n",
            " 20  V20     284807 non-null  float64\n",
            " 21  V21     284807 non-null  float64\n",
            " 22  V22     284807 non-null  float64\n",
            " 23  V23     284807 non-null  float64\n",
            " 24  V24     284807 non-null  float64\n",
            " 25  V25     284807 non-null  float64\n",
            " 26  V26     284807 non-null  float64\n",
            " 27  V27     284807 non-null  float64\n",
            " 28  V28     284807 non-null  float64\n",
            " 29  Amount  284807 non-null  float64\n",
            " 30  Class   284807 non-null  int64  \n",
            "dtypes: float64(30), int64(1)\n",
            "memory usage: 67.4 MB\n"
          ]
        }
      ]
    },
    {
      "cell_type": "markdown",
      "source": [
        "# Train, Test 분리"
      ],
      "metadata": {
        "id": "mWz6D6RJAGRf"
      }
    },
    {
      "cell_type": "code",
      "source": [
        "# 1. X, y 분리\n",
        "X= data.iloc[:, :-1]\n",
        "Y= data.iloc[:, -1]\n",
        "# print(X) # Time~Amount\n",
        "# print(Y) # Class\n",
        "\n",
        "# 2. train, test 분리\n",
        "from sklearn.model_selection import StratifiedKFold\n",
        "kfold = StratifiedKFold(n_splits = 5, shuffle = True, random_state = 0)\n",
        "\n",
        "for train_index, test_index in kfold.split(X, Y):\n",
        "    X_train, X_test = X.iloc[train_index], X.iloc[test_index]\n",
        "    y_train, y_test = Y.iloc[train_index], Y.iloc[test_index]\n",
        "\n",
        "print(X_train.shape, y_train.shape) #(227846, 30) (227846,) 80%\n",
        "print(X_test.shape, y_test.shape) #(56961, 30) (56961,) 20%"
      ],
      "metadata": {
        "id": "asGz4GDjAKm5",
        "colab": {
          "base_uri": "https://localhost:8080/"
        },
        "outputId": "efdf6cb1-a1d4-4fda-8ab3-1e9f061bc72c"
      },
      "execution_count": null,
      "outputs": [
        {
          "output_type": "stream",
          "name": "stdout",
          "text": [
            "(227846, 30) (227846,)\n",
            "(56961, 30) (56961,)\n"
          ]
        }
      ]
    },
    {
      "cell_type": "markdown",
      "source": [
        "# Train, Test 시각화"
      ],
      "metadata": {
        "id": "LErZh-rzALIM"
      }
    },
    {
      "cell_type": "code",
      "source": [
        "import seaborn as sns\n",
        "sns.scatterplot(X_train)\n",
        "plt.show()"
      ],
      "metadata": {
        "id": "_X86eTF3AM6f",
        "colab": {
          "base_uri": "https://localhost:8080/",
          "height": 712
        },
        "outputId": "bf7df51a-878a-4a24-a867-63986819c59f"
      },
      "execution_count": null,
      "outputs": [
        {
          "output_type": "stream",
          "name": "stderr",
          "text": [
            "/usr/local/lib/python3.10/dist-packages/IPython/core/pylabtools.py:151: UserWarning: Creating legend with loc=\"best\" can be slow with large amounts of data.\n",
            "  fig.canvas.print_figure(bytes_io, **kw)\n"
          ]
        },
        {
          "output_type": "display_data",
          "data": {
            "text/plain": [
              "<Figure size 640x480 with 1 Axes>"
            ],
            "image/png": "[encoded data removed]"
          },
          "metadata": {}
        }
      ]
    },
    {
      "cell_type": "markdown",
      "source": [
        "# Hyperparameter"
      ],
      "metadata": {
        "id": "2hsY5fQiAPuV"
      }
    },
    {
      "cell_type": "markdown",
      "source": [
        "## learning_rate_decay 변경\n",
        "    linear -> cosine -> inverse\n"
      ],
      "metadata": {
        "id": "RuH9314CXwh6"
      }
    },
    {
      "cell_type": "code",
      "source": [
        "# 1. 학습률\n",
        "# 초기값 설정\n",
        "initial_learning_rate = 0.01\n",
        "decay_steps = 1000\n",
        "decay_rate = 0.95\n",
        "epochs = np.arange(1, 101, dtype = 'float64')\n",
        "\n",
        "# Exponential Decay\n",
        "exponential_decay = tf.keras.optimizers.schedules.ExponentialDecay(\n",
        "    initial_learning_rate, decay_steps=decay_steps, decay_rate=decay_rate)\n",
        "learning_rates_exp = [exponential_decay(epoch) for epoch in epochs]\n",
        "print(learning_rates_exp)\n",
        "\n",
        "# 2. 배치크기\n",
        "batch_size = 2**17 #13만 #train 데이터의 약 50%크기\n",
        "\n",
        "# 3. 반복횟수\n",
        "#epoch = 5\n",
        "\n",
        "# 4. 드롭아웃\n",
        "drop_out=0.1 #숫자는 계속 수정해보면서 최적의 결과 도출해내기"
      ],
      "metadata": {
        "id": "V2WgMW7nARPi",
        "colab": {
          "base_uri": "https://localhost:8080/"
        },
        "outputId": "5dea9cbe-5b75-4349-cf96-348868efe7b9"
      },
      "execution_count": null,
      "outputs": [
        {
          "output_type": "stream",
          "name": "stdout",
          "text": [
            "[<tf.Tensor: shape=(), dtype=float32, numpy=0.009999487>, <tf.Tensor: shape=(), dtype=float32, numpy=0.009998974>, <tf.Tensor: shape=(), dtype=float32, numpy=0.009998461>, <tf.Tensor: shape=(), dtype=float32, numpy=0.009997948>, <tf.Tensor: shape=(), dtype=float32, numpy=0.009997436>, <tf.Tensor: shape=(), dtype=float32, numpy=0.009996923>, <tf.Tensor: shape=(), dtype=float32, numpy=0.0099964095>, <tf.Tensor: shape=(), dtype=float32, numpy=0.009995897>, <tf.Tensor: shape=(), dtype=float32, numpy=0.009995384>, <tf.Tensor: shape=(), dtype=float32, numpy=0.009994872>, <tf.Tensor: shape=(), dtype=float32, numpy=0.00999436>, <tf.Tensor: shape=(), dtype=float32, numpy=0.0099938465>, <tf.Tensor: shape=(), dtype=float32, numpy=0.009993333>, <tf.Tensor: shape=(), dtype=float32, numpy=0.009992821>, <tf.Tensor: shape=(), dtype=float32, numpy=0.009992309>, <tf.Tensor: shape=(), dtype=float32, numpy=0.009991797>, <tf.Tensor: shape=(), dtype=float32, numpy=0.0099912835>, <tf.Tensor: shape=(), dtype=float32, numpy=0.009990771>, <tf.Tensor: shape=(), dtype=float32, numpy=0.009990258>, <tf.Tensor: shape=(), dtype=float32, numpy=0.009989747>, <tf.Tensor: shape=(), dtype=float32, numpy=0.009989234>, <tf.Tensor: shape=(), dtype=float32, numpy=0.009988721>, <tf.Tensor: shape=(), dtype=float32, numpy=0.009988209>, <tf.Tensor: shape=(), dtype=float32, numpy=0.009987697>, <tf.Tensor: shape=(), dtype=float32, numpy=0.009987185>, <tf.Tensor: shape=(), dtype=float32, numpy=0.009986673>, <tf.Tensor: shape=(), dtype=float32, numpy=0.00998616>, <tf.Tensor: shape=(), dtype=float32, numpy=0.009985648>, <tf.Tensor: shape=(), dtype=float32, numpy=0.009985136>, <tf.Tensor: shape=(), dtype=float32, numpy=0.009984624>, <tf.Tensor: shape=(), dtype=float32, numpy=0.009984111>, <tf.Tensor: shape=(), dtype=float32, numpy=0.009983599>, <tf.Tensor: shape=(), dtype=float32, numpy=0.009983088>, <tf.Tensor: shape=(), dtype=float32, numpy=0.009982575>, <tf.Tensor: shape=(), dtype=float32, numpy=0.0099820625>, <tf.Tensor: shape=(), dtype=float32, numpy=0.009981551>, <tf.Tensor: shape=(), dtype=float32, numpy=0.00998104>, <tf.Tensor: shape=(), dtype=float32, numpy=0.009980528>, <tf.Tensor: shape=(), dtype=float32, numpy=0.009980015>, <tf.Tensor: shape=(), dtype=float32, numpy=0.009979503>, <tf.Tensor: shape=(), dtype=float32, numpy=0.009978992>, <tf.Tensor: shape=(), dtype=float32, numpy=0.00997848>, <tf.Tensor: shape=(), dtype=float32, numpy=0.009977968>, <tf.Tensor: shape=(), dtype=float32, numpy=0.009977456>, <tf.Tensor: shape=(), dtype=float32, numpy=0.009976945>, <tf.Tensor: shape=(), dtype=float32, numpy=0.009976433>, <tf.Tensor: shape=(), dtype=float32, numpy=0.00997592>, <tf.Tensor: shape=(), dtype=float32, numpy=0.009975409>, <tf.Tensor: shape=(), dtype=float32, numpy=0.009974898>, <tf.Tensor: shape=(), dtype=float32, numpy=0.009974386>, <tf.Tensor: shape=(), dtype=float32, numpy=0.009973874>, <tf.Tensor: shape=(), dtype=float32, numpy=0.009973363>, <tf.Tensor: shape=(), dtype=float32, numpy=0.009972851>, <tf.Tensor: shape=(), dtype=float32, numpy=0.0099723395>, <tf.Tensor: shape=(), dtype=float32, numpy=0.009971828>, <tf.Tensor: shape=(), dtype=float32, numpy=0.009971317>, <tf.Tensor: shape=(), dtype=float32, numpy=0.009970806>, <tf.Tensor: shape=(), dtype=float32, numpy=0.009970294>, <tf.Tensor: shape=(), dtype=float32, numpy=0.009969783>, <tf.Tensor: shape=(), dtype=float32, numpy=0.009969271>, <tf.Tensor: shape=(), dtype=float32, numpy=0.0099687595>, <tf.Tensor: shape=(), dtype=float32, numpy=0.009968248>, <tf.Tensor: shape=(), dtype=float32, numpy=0.009967737>, <tf.Tensor: shape=(), dtype=float32, numpy=0.009967227>, <tf.Tensor: shape=(), dtype=float32, numpy=0.009966714>, <tf.Tensor: shape=(), dtype=float32, numpy=0.009966203>, <tf.Tensor: shape=(), dtype=float32, numpy=0.009965693>, <tf.Tensor: shape=(), dtype=float32, numpy=0.009965181>, <tf.Tensor: shape=(), dtype=float32, numpy=0.00996467>, <tf.Tensor: shape=(), dtype=float32, numpy=0.009964159>, <tf.Tensor: shape=(), dtype=float32, numpy=0.009963647>, <tf.Tensor: shape=(), dtype=float32, numpy=0.009963137>, <tf.Tensor: shape=(), dtype=float32, numpy=0.009962626>, <tf.Tensor: shape=(), dtype=float32, numpy=0.0099621145>, <tf.Tensor: shape=(), dtype=float32, numpy=0.009961603>, <tf.Tensor: shape=(), dtype=float32, numpy=0.009961093>, <tf.Tensor: shape=(), dtype=float32, numpy=0.0099605825>, <tf.Tensor: shape=(), dtype=float32, numpy=0.009960071>, <tf.Tensor: shape=(), dtype=float32, numpy=0.00995956>, <tf.Tensor: shape=(), dtype=float32, numpy=0.009959049>, <tf.Tensor: shape=(), dtype=float32, numpy=0.009958538>, <tf.Tensor: shape=(), dtype=float32, numpy=0.009958027>, <tf.Tensor: shape=(), dtype=float32, numpy=0.009957517>, <tf.Tensor: shape=(), dtype=float32, numpy=0.009957006>, <tf.Tensor: shape=(), dtype=float32, numpy=0.009956496>, <tf.Tensor: shape=(), dtype=float32, numpy=0.009955985>, <tf.Tensor: shape=(), dtype=float32, numpy=0.009955474>, <tf.Tensor: shape=(), dtype=float32, numpy=0.009954963>, <tf.Tensor: shape=(), dtype=float32, numpy=0.0099544525>, <tf.Tensor: shape=(), dtype=float32, numpy=0.009953942>, <tf.Tensor: shape=(), dtype=float32, numpy=0.009953432>, <tf.Tensor: shape=(), dtype=float32, numpy=0.009952921>, <tf.Tensor: shape=(), dtype=float32, numpy=0.009952411>, <tf.Tensor: shape=(), dtype=float32, numpy=0.0099519>, <tf.Tensor: shape=(), dtype=float32, numpy=0.009951389>, <tf.Tensor: shape=(), dtype=float32, numpy=0.009950879>, <tf.Tensor: shape=(), dtype=float32, numpy=0.009950369>, <tf.Tensor: shape=(), dtype=float32, numpy=0.009949858>, <tf.Tensor: shape=(), dtype=float32, numpy=0.009949348>, <tf.Tensor: shape=(), dtype=float32, numpy=0.009948838>]\n"
          ]
        }
      ]
    },
    {
      "cell_type": "markdown",
      "source": [
        "# model 구축"
      ],
      "metadata": {
        "id": "P8FKcuHjAYSI"
      }
    },
    {
      "cell_type": "markdown",
      "source": [
        "## 가중치 초기화"
      ],
      "metadata": {
        "id": "ZotgJSFigPpi"
      }
    },
    {
      "cell_type": "code",
      "source": [
        "print(X_train.shape[1])"
      ],
      "metadata": {
        "colab": {
          "base_uri": "https://localhost:8080/"
        },
        "id": "KJJdAwHEim5k",
        "outputId": "199a1809-f874-4ed0-a70e-1c61ef4df1e9"
      },
      "execution_count": null,
      "outputs": [
        {
          "output_type": "stream",
          "name": "stdout",
          "text": [
            "30\n"
          ]
        }
      ]
    },
    {
      "cell_type": "code",
      "source": [
        "from tensorflow.keras.models import Sequential\n",
        "from tensorflow.keras.layers import Dense, Input\n",
        "\n",
        "model = Sequential()\n",
        "\n",
        "#가중치 초기화\n",
        "weight_init = tf.keras.initializers.he_uniform()\n",
        "# weight_init = tf.keras.initializaers.RandomNormal()\n",
        "# weight_init = tf.keras.initializaers.glorot_uniform()\n",
        "\n",
        "#model.add(Input(shape=(X_train.shape[1],)))\n",
        "model.add(Dense(128, activation='relu', input_dim=30, kernel_initializer=weight_init))  # 첫 번째 은닉층\n",
        "model.add(Dense(64, activation='relu'))  # 두 번째 은닉층\n",
        "model.add(Dense(32, activation='relu'))  # 세 번째 은닉층\n",
        "model.add(Dense(1, activation='sigmoid'))\n",
        "model.summary()"
      ],
      "metadata": {
        "id": "sVXIEz51AY6B",
        "colab": {
          "base_uri": "https://localhost:8080/",
          "height": 329
        },
        "outputId": "fac8c6ce-53cf-4af6-ca64-f0d22b5b18a6"
      },
      "execution_count": null,
      "outputs": [
        {
          "output_type": "stream",
          "name": "stderr",
          "text": [
            "/usr/local/lib/python3.10/dist-packages/keras/src/layers/core/dense.py:87: UserWarning: Do not pass an `input_shape`/`input_dim` argument to a layer. When using Sequential models, prefer using an `Input(shape)` object as the first layer in the model instead.\n",
            "  super().__init__(activity_regularizer=activity_regularizer, **kwargs)\n"
          ]
        },
        {
          "output_type": "display_data",
          "data": {
            "text/plain": [
              "\u001b[1mModel: \"sequential_10\"\u001b[0m\n"
            ],
            "text/html": [
              "<pre style=\"white-space:pre;overflow-x:auto;line-height:normal;font-family:Menlo,'DejaVu Sans Mono',consolas,'Courier New',monospace\"><span style=\"font-weight: bold\">Model: \"sequential_10\"</span>\n",
              "</pre>\n"
            ]
          },
          "metadata": {}
        },
        {
          "output_type": "display_data",
          "data": {
            "text/plain": [
              "┏━━━━━━━━━━━━━━━━━━━━━━━━━━━━━━━━━━━━━━┳━━━━━━━━━━━━━━━━━━━━━━━━━━━━━┳━━━━━━━━━━━━━━━━━┓\n",
              "┃\u001b[1m \u001b[0m\u001b[1mLayer (type)                        \u001b[0m\u001b[1m \u001b[0m┃\u001b[1m \u001b[0m\u001b[1mOutput Shape               \u001b[0m\u001b[1m \u001b[0m┃\u001b[1m \u001b[0m\u001b[1m        Param #\u001b[0m\u001b[1m \u001b[0m┃\n",
              "┡━━━━━━━━━━━━━━━━━━━━━━━━━━━━━━━━━━━━━━╇━━━━━━━━━━━━━━━━━━━━━━━━━━━━━╇━━━━━━━━━━━━━━━━━┩\n",
              "│ dense_29 (\u001b[38;5;33mDense\u001b[0m)                     │ (\u001b[38;5;45mNone\u001b[0m, \u001b[38;5;34m128\u001b[0m)                 │           \u001b[38;5;34m3,968\u001b[0m │\n",
              "├──────────────────────────────────────┼─────────────────────────────┼─────────────────┤\n",
              "│ dense_30 (\u001b[38;5;33mDense\u001b[0m)                     │ (\u001b[38;5;45mNone\u001b[0m, \u001b[38;5;34m64\u001b[0m)                  │           \u001b[38;5;34m8,256\u001b[0m │\n",
              "├──────────────────────────────────────┼─────────────────────────────┼─────────────────┤\n",
              "│ dense_31 (\u001b[38;5;33mDense\u001b[0m)                     │ (\u001b[38;5;45mNone\u001b[0m, \u001b[38;5;34m32\u001b[0m)                  │           \u001b[38;5;34m2,080\u001b[0m │\n",
              "├──────────────────────────────────────┼─────────────────────────────┼─────────────────┤\n",
              "│ dense_32 (\u001b[38;5;33mDense\u001b[0m)                     │ (\u001b[38;5;45mNone\u001b[0m, \u001b[38;5;34m1\u001b[0m)                   │              \u001b[38;5;34m33\u001b[0m │\n",
              "└──────────────────────────────────────┴─────────────────────────────┴─────────────────┘\n"
            ],
            "text/html": [
              "<pre style=\"white-space:pre;overflow-x:auto;line-height:normal;font-family:Menlo,'DejaVu Sans Mono',consolas,'Courier New',monospace\">┏━━━━━━━━━━━━━━━━━━━━━━━━━━━━━━━━━━━━━━┳━━━━━━━━━━━━━━━━━━━━━━━━━━━━━┳━━━━━━━━━━━━━━━━━┓\n",
              "┃<span style=\"font-weight: bold\"> Layer (type)                         </span>┃<span style=\"font-weight: bold\"> Output Shape                </span>┃<span style=\"font-weight: bold\">         Param # </span>┃\n",
              "┡━━━━━━━━━━━━━━━━━━━━━━━━━━━━━━━━━━━━━━╇━━━━━━━━━━━━━━━━━━━━━━━━━━━━━╇━━━━━━━━━━━━━━━━━┩\n",
              "│ dense_29 (<span style=\"color: #0087ff; text-decoration-color: #0087ff\">Dense</span>)                     │ (<span style=\"color: #00d7ff; text-decoration-color: #00d7ff\">None</span>, <span style=\"color: #00af00; text-decoration-color: #00af00\">128</span>)                 │           <span style=\"color: #00af00; text-decoration-color: #00af00\">3,968</span> │\n",
              "├──────────────────────────────────────┼─────────────────────────────┼─────────────────┤\n",
              "│ dense_30 (<span style=\"color: #0087ff; text-decoration-color: #0087ff\">Dense</span>)                     │ (<span style=\"color: #00d7ff; text-decoration-color: #00d7ff\">None</span>, <span style=\"color: #00af00; text-decoration-color: #00af00\">64</span>)                  │           <span style=\"color: #00af00; text-decoration-color: #00af00\">8,256</span> │\n",
              "├──────────────────────────────────────┼─────────────────────────────┼─────────────────┤\n",
              "│ dense_31 (<span style=\"color: #0087ff; text-decoration-color: #0087ff\">Dense</span>)                     │ (<span style=\"color: #00d7ff; text-decoration-color: #00d7ff\">None</span>, <span style=\"color: #00af00; text-decoration-color: #00af00\">32</span>)                  │           <span style=\"color: #00af00; text-decoration-color: #00af00\">2,080</span> │\n",
              "├──────────────────────────────────────┼─────────────────────────────┼─────────────────┤\n",
              "│ dense_32 (<span style=\"color: #0087ff; text-decoration-color: #0087ff\">Dense</span>)                     │ (<span style=\"color: #00d7ff; text-decoration-color: #00d7ff\">None</span>, <span style=\"color: #00af00; text-decoration-color: #00af00\">1</span>)                   │              <span style=\"color: #00af00; text-decoration-color: #00af00\">33</span> │\n",
              "└──────────────────────────────────────┴─────────────────────────────┴─────────────────┘\n",
              "</pre>\n"
            ]
          },
          "metadata": {}
        },
        {
          "output_type": "display_data",
          "data": {
            "text/plain": [
              "\u001b[1m Total params: \u001b[0m\u001b[38;5;34m14,337\u001b[0m (56.00 KB)\n"
            ],
            "text/html": [
              "<pre style=\"white-space:pre;overflow-x:auto;line-height:normal;font-family:Menlo,'DejaVu Sans Mono',consolas,'Courier New',monospace\"><span style=\"font-weight: bold\"> Total params: </span><span style=\"color: #00af00; text-decoration-color: #00af00\">14,337</span> (56.00 KB)\n",
              "</pre>\n"
            ]
          },
          "metadata": {}
        },
        {
          "output_type": "display_data",
          "data": {
            "text/plain": [
              "\u001b[1m Trainable params: \u001b[0m\u001b[38;5;34m14,337\u001b[0m (56.00 KB)\n"
            ],
            "text/html": [
              "<pre style=\"white-space:pre;overflow-x:auto;line-height:normal;font-family:Menlo,'DejaVu Sans Mono',consolas,'Courier New',monospace\"><span style=\"font-weight: bold\"> Trainable params: </span><span style=\"color: #00af00; text-decoration-color: #00af00\">14,337</span> (56.00 KB)\n",
              "</pre>\n"
            ]
          },
          "metadata": {}
        },
        {
          "output_type": "display_data",
          "data": {
            "text/plain": [
              "\u001b[1m Non-trainable params: \u001b[0m\u001b[38;5;34m0\u001b[0m (0.00 B)\n"
            ],
            "text/html": [
              "<pre style=\"white-space:pre;overflow-x:auto;line-height:normal;font-family:Menlo,'DejaVu Sans Mono',consolas,'Courier New',monospace\"><span style=\"font-weight: bold\"> Non-trainable params: </span><span style=\"color: #00af00; text-decoration-color: #00af00\">0</span> (0.00 B)\n",
              "</pre>\n"
            ]
          },
          "metadata": {}
        }
      ]
    },
    {
      "cell_type": "markdown",
      "source": [
        "# 최적화"
      ],
      "metadata": {
        "id": "EnsOo8S61abF"
      }
    },
    {
      "cell_type": "code",
      "source": [
        "model.compile(optimizer=tf.keras.optimizers.Adam(learning_rate=exponential_decay),\n",
        "              loss = 'binary_crossentropy',\n",
        "              metrics = ['accuracy'])"
      ],
      "metadata": {
        "id": "duRxpmUXsxtx"
      },
      "execution_count": null,
      "outputs": []
    },
    {
      "cell_type": "code",
      "source": [
        "model.compile(optimizer=tf.keras.optimizers.Adam(learning_rate=learning_rates_exp),\n",
        "              loss = 'binary_crossentropy',\n",
        "              metrics = ['accuracy'])"
      ],
      "metadata": {
        "id": "b3JSIckE1b0N",
        "colab": {
          "base_uri": "https://localhost:8080/",
          "height": 447
        },
        "outputId": "af2bb52e-dddc-4d22-e4a9-52d87b21e08d"
      },
      "execution_count": null,
      "outputs": [
        {
          "output_type": "error",
          "ename": "ValueError",
          "evalue": "Argument `learning_rate` should be float, or an instance of LearningRateSchedule, or a callable (that takes in the current iteration value and returns the corresponding learning rate value). Received instead: learning_rate=[<tf.Tensor: shape=(), dtype=float32, numpy=0.009999487>, <tf.Tensor: shape=(), dtype=float32, numpy=0.009998974>, <tf.Tensor: shape=(), dtype=float32, numpy=0.009998461>, <tf.Tensor: shape=(), dtype=float32, numpy=0.009997948>, <tf.Tensor: shape=(), dtype=float32, numpy=0.009997436>, <tf.Tensor: shape=(), dtype=float32, numpy=0.009996923>, <tf.Tensor: shape=(), dtype=float32, numpy=0.0099964095>, <tf.Tensor: shape=(), dtype=float32, numpy=0.009995897>, <tf.Tensor: shape=(), dtype=float32, numpy=0.009995384>, <tf.Tensor: shape=(), dtype=float32, numpy=0.009994872>, <tf.Tensor: shape=(), dtype=float32, numpy=0.00999436>, <tf.Tensor: shape=(), dtype=float32, numpy=0.0099938465>, <tf.Tensor: shape=(), dtype=float32, numpy=0.009993333>, <tf.Tensor: shape=(), dtype=float32, numpy=0.009992821>, <tf.Tensor: shape=(), dtype=float32, numpy=0.009992309>, <tf.Tensor: shape=(), dtype=float32, numpy=0.009991797>, <tf.Tensor: shape=(), dtype=float32, numpy=0.0099912835>, <tf.Tensor: shape=(), dtype=float32, numpy=0.009990771>, <tf.Tensor: shape=(), dtype=float32, numpy=0.009990258>, <tf.Tensor: shape=(), dtype=float32, numpy=0.009989747>, <tf.Tensor: shape=(), dtype=float32, numpy=0.009989234>, <tf.Tensor: shape=(), dtype=float32, numpy=0.009988721>, <tf.Tensor: shape=(), dtype=float32, numpy=0.009988209>, <tf.Tensor: shape=(), dtype=float32, numpy=0.009987697>, <tf.Tensor: shape=(), dtype=float32, numpy=0.009987185>, <tf.Tensor: shape=(), dtype=float32, numpy=0.009986673>, <tf.Tensor: shape=(), dtype=float32, numpy=0.00998616>, <tf.Tensor: shape=(), dtype=float32, numpy=0.009985648>, <tf.Tensor: shape=(), dtype=float32, numpy=0.009985136>, <tf.Tensor: shape=(), dtype=float32, numpy=0.009984624>, <tf.Tensor: shape=(), dtype=float32, numpy=0.009984111>, <tf.Tensor: shape=(), dtype=float32, numpy=0.009983599>, <tf.Tensor: shape=(), dtype=float32, numpy=0.009983088>, <tf.Tensor: shape=(), dtype=float32, numpy=0.009982575>, <tf.Tensor: shape=(), dtype=float32, numpy=0.0099820625>, <tf.Tensor: shape=(), dtype=float32, numpy=0.009981551>, <tf.Tensor: shape=(), dtype=float32, numpy=0.00998104>, <tf.Tensor: shape=(), dtype=float32, numpy=0.009980528>, <tf.Tensor: shape=(), dtype=float32, numpy=0.009980015>, <tf.Tensor: shape=(), dtype=float32, numpy=0.009979503>, <tf.Tensor: shape=(), dtype=float32, numpy=0.009978992>, <tf.Tensor: shape=(), dtype=float32, numpy=0.00997848>, <tf.Tensor: shape=(), dtype=float32, numpy=0.009977968>, <tf.Tensor: shape=(), dtype=float32, numpy=0.009977456>, <tf.Tensor: shape=(), dtype=float32, numpy=0.009976945>, <tf.Tensor: shape=(), dtype=float32, numpy=0.009976433>, <tf.Tensor: shape=(), dtype=float32, numpy=0.00997592>, <tf.Tensor: shape=(), dtype=float32, numpy=0.009975409>, <tf.Tensor: shape=(), dtype=float32, numpy=0.009974898>, <tf.Tensor: shape=(), dtype=float32, numpy=0.009974386>, <tf.Tensor: shape=(), dtype=float32, numpy=0.009973874>, <tf.Tensor: shape=(), dtype=float32, numpy=0.009973363>, <tf.Tensor: shape=(), dtype=float32, numpy=0.009972851>, <tf.Tensor: shape=(), dtype=float32, numpy=0.0099723395>, <tf.Tensor: shape=(), dtype=float32, numpy=0.009971828>, <tf.Tensor: shape=(), dtype=float32, numpy=0.009971317>, <tf.Tensor: shape=(), dtype=float32, numpy=0.009970806>, <tf.Tensor: shape=(), dtype=float32, numpy=0.009970294>, <tf.Tensor: shape=(), dtype=float32, numpy=0.009969783>, <tf.Tensor: shape=(), dtype=float32, numpy=0.009969271>, <tf.Tensor: shape=(), dtype=float32, numpy=0.0099687595>, <tf.Tensor: shape=(), dtype=float32, numpy=0.009968248>, <tf.Tensor: shape=(), dtype=float32, numpy=0.009967737>, <tf.Tensor: shape=(), dtype=float32, numpy=0.009967227>, <tf.Tensor: shape=(), dtype=float32, numpy=0.009966714>, <tf.Tensor: shape=(), dtype=float32, numpy=0.009966203>, <tf.Tensor: shape=(), dtype=float32, numpy=0.009965693>, <tf.Tensor: shape=(), dtype=float32, numpy=0.009965181>, <tf.Tensor: shape=(), dtype=float32, numpy=0.00996467>, <tf.Tensor: shape=(), dtype=float32, numpy=0.009964159>, <tf.Tensor: shape=(), dtype=float32, numpy=0.009963647>, <tf.Tensor: shape=(), dtype=float32, numpy=0.009963137>, <tf.Tensor: shape=(), dtype=float32, numpy=0.009962626>, <tf.Tensor: shape=(), dtype=float32, numpy=0.0099621145>, <tf.Tensor: shape=(), dtype=float32, numpy=0.009961603>, <tf.Tensor: shape=(), dtype=float32, numpy=0.009961093>, <tf.Tensor: shape=(), dtype=float32, numpy=0.0099605825>, <tf.Tensor: shape=(), dtype=float32, numpy=0.009960071>, <tf.Tensor: shape=(), dtype=float32, numpy=0.00995956>, <tf.Tensor: shape=(), dtype=float32, numpy=0.009959049>, <tf.Tensor: shape=(), dtype=float32, numpy=0.009958538>, <tf.Tensor: shape=(), dtype=float32, numpy=0.009958027>, <tf.Tensor: shape=(), dtype=float32, numpy=0.009957517>, <tf.Tensor: shape=(), dtype=float32, numpy=0.009957006>, <tf.Tensor: shape=(), dtype=float32, numpy=0.009956496>, <tf.Tensor: shape=(), dtype=float32, numpy=0.009955985>, <tf.Tensor: shape=(), dtype=float32, numpy=0.009955474>, <tf.Tensor: shape=(), dtype=float32, numpy=0.009954963>, <tf.Tensor: shape=(), dtype=float32, numpy=0.0099544525>, <tf.Tensor: shape=(), dtype=float32, numpy=0.009953942>, <tf.Tensor: shape=(), dtype=float32, numpy=0.009953432>, <tf.Tensor: shape=(), dtype=float32, numpy=0.009952921>, <tf.Tensor: shape=(), dtype=float32, numpy=0.009952411>, <tf.Tensor: shape=(), dtype=float32, numpy=0.0099519>, <tf.Tensor: shape=(), dtype=float32, numpy=0.009951389>, <tf.Tensor: shape=(), dtype=float32, numpy=0.009950879>, <tf.Tensor: shape=(), dtype=float32, numpy=0.009950369>, <tf.Tensor: shape=(), dtype=float32, numpy=0.009949858>, <tf.Tensor: shape=(), dtype=float32, numpy=0.009949348>, <tf.Tensor: shape=(), dtype=float32, numpy=0.009948838>]",
          "traceback": [
            "\u001b[0;31m---------------------------------------------------------------------------\u001b[0m",
            "\u001b[0;31mValueError\u001b[0m                                Traceback (most recent call last)",
            "\u001b[0;32m<ipython-input-60-3dd66001d505>\u001b[0m in \u001b[0;36m<cell line: 1>\u001b[0;34m()\u001b[0m\n\u001b[0;32m----> 1\u001b[0;31m model.compile(optimizer=tf.keras.optimizers.Adam(learning_rate=learning_rates_exp),\n\u001b[0m\u001b[1;32m      2\u001b[0m               \u001b[0mloss\u001b[0m \u001b[0;34m=\u001b[0m \u001b[0;34m'binary_crossentropy'\u001b[0m\u001b[0;34m,\u001b[0m\u001b[0;34m\u001b[0m\u001b[0;34m\u001b[0m\u001b[0m\n\u001b[1;32m      3\u001b[0m               metrics = ['accuracy'])\n",
            "\u001b[0;32m/usr/local/lib/python3.10/dist-packages/keras/src/optimizers/adam.py\u001b[0m in \u001b[0;36m__init__\u001b[0;34m(self, learning_rate, beta_1, beta_2, epsilon, amsgrad, weight_decay, clipnorm, clipvalue, global_clipnorm, use_ema, ema_momentum, ema_overwrite_frequency, loss_scale_factor, gradient_accumulation_steps, name, **kwargs)\u001b[0m\n\u001b[1;32m     60\u001b[0m         \u001b[0;34m**\u001b[0m\u001b[0mkwargs\u001b[0m\u001b[0;34m,\u001b[0m\u001b[0;34m\u001b[0m\u001b[0;34m\u001b[0m\u001b[0m\n\u001b[1;32m     61\u001b[0m     ):\n\u001b[0;32m---> 62\u001b[0;31m         super().__init__(\n\u001b[0m\u001b[1;32m     63\u001b[0m             \u001b[0mlearning_rate\u001b[0m\u001b[0;34m=\u001b[0m\u001b[0mlearning_rate\u001b[0m\u001b[0;34m,\u001b[0m\u001b[0;34m\u001b[0m\u001b[0;34m\u001b[0m\u001b[0m\n\u001b[1;32m     64\u001b[0m             \u001b[0mname\u001b[0m\u001b[0;34m=\u001b[0m\u001b[0mname\u001b[0m\u001b[0;34m,\u001b[0m\u001b[0;34m\u001b[0m\u001b[0;34m\u001b[0m\u001b[0m\n",
            "\u001b[0;32m/usr/local/lib/python3.10/dist-packages/keras/src/backend/tensorflow/optimizer.py\u001b[0m in \u001b[0;36m__init__\u001b[0;34m(self, *args, **kwargs)\u001b[0m\n\u001b[1;32m     20\u001b[0m \u001b[0;34m\u001b[0m\u001b[0m\n\u001b[1;32m     21\u001b[0m     \u001b[0;32mdef\u001b[0m \u001b[0m__init__\u001b[0m\u001b[0;34m(\u001b[0m\u001b[0mself\u001b[0m\u001b[0;34m,\u001b[0m \u001b[0;34m*\u001b[0m\u001b[0margs\u001b[0m\u001b[0;34m,\u001b[0m \u001b[0;34m**\u001b[0m\u001b[0mkwargs\u001b[0m\u001b[0;34m)\u001b[0m\u001b[0;34m:\u001b[0m\u001b[0;34m\u001b[0m\u001b[0;34m\u001b[0m\u001b[0m\n\u001b[0;32m---> 22\u001b[0;31m         \u001b[0msuper\u001b[0m\u001b[0;34m(\u001b[0m\u001b[0;34m)\u001b[0m\u001b[0;34m.\u001b[0m\u001b[0m__init__\u001b[0m\u001b[0;34m(\u001b[0m\u001b[0;34m*\u001b[0m\u001b[0margs\u001b[0m\u001b[0;34m,\u001b[0m \u001b[0;34m**\u001b[0m\u001b[0mkwargs\u001b[0m\u001b[0;34m)\u001b[0m\u001b[0;34m\u001b[0m\u001b[0;34m\u001b[0m\u001b[0m\n\u001b[0m\u001b[1;32m     23\u001b[0m         \u001b[0mself\u001b[0m\u001b[0;34m.\u001b[0m\u001b[0m_distribution_strategy\u001b[0m \u001b[0;34m=\u001b[0m \u001b[0mtf\u001b[0m\u001b[0;34m.\u001b[0m\u001b[0mdistribute\u001b[0m\u001b[0;34m.\u001b[0m\u001b[0mget_strategy\u001b[0m\u001b[0;34m(\u001b[0m\u001b[0;34m)\u001b[0m\u001b[0;34m\u001b[0m\u001b[0;34m\u001b[0m\u001b[0m\n\u001b[1;32m     24\u001b[0m \u001b[0;34m\u001b[0m\u001b[0m\n",
            "\u001b[0;32m/usr/local/lib/python3.10/dist-packages/keras/src/optimizers/base_optimizer.py\u001b[0m in \u001b[0;36m__init__\u001b[0;34m(self, learning_rate, weight_decay, clipnorm, clipvalue, global_clipnorm, use_ema, ema_momentum, ema_overwrite_frequency, loss_scale_factor, gradient_accumulation_steps, name, **kwargs)\u001b[0m\n\u001b[1;32m    122\u001b[0m         \u001b[0;32melse\u001b[0m\u001b[0;34m:\u001b[0m\u001b[0;34m\u001b[0m\u001b[0;34m\u001b[0m\u001b[0m\n\u001b[1;32m    123\u001b[0m             \u001b[0;32mif\u001b[0m \u001b[0;32mnot\u001b[0m \u001b[0misinstance\u001b[0m\u001b[0;34m(\u001b[0m\u001b[0mlearning_rate\u001b[0m\u001b[0;34m,\u001b[0m \u001b[0mfloat\u001b[0m\u001b[0;34m)\u001b[0m\u001b[0;34m:\u001b[0m\u001b[0;34m\u001b[0m\u001b[0;34m\u001b[0m\u001b[0m\n\u001b[0;32m--> 124\u001b[0;31m                 raise ValueError(\n\u001b[0m\u001b[1;32m    125\u001b[0m                     \u001b[0;34m\"Argument `learning_rate` should be float, or an instance \"\u001b[0m\u001b[0;34m\u001b[0m\u001b[0;34m\u001b[0m\u001b[0m\n\u001b[1;32m    126\u001b[0m                     \u001b[0;34m\"of LearningRateSchedule, or a callable \"\u001b[0m\u001b[0;34m\u001b[0m\u001b[0;34m\u001b[0m\u001b[0m\n",
            "\u001b[0;31mValueError\u001b[0m: Argument `learning_rate` should be float, or an instance of LearningRateSchedule, or a callable (that takes in the current iteration value and returns the corresponding learning rate value). Received instead: learning_rate=[<tf.Tensor: shape=(), dtype=float32, numpy=0.009999487>, <tf.Tensor: shape=(), dtype=float32, numpy=0.009998974>, <tf.Tensor: shape=(), dtype=float32, numpy=0.009998461>, <tf.Tensor: shape=(), dtype=float32, numpy=0.009997948>, <tf.Tensor: shape=(), dtype=float32, numpy=0.009997436>, <tf.Tensor: shape=(), dtype=float32, numpy=0.009996923>, <tf.Tensor: shape=(), dtype=float32, numpy=0.0099964095>, <tf.Tensor: shape=(), dtype=float32, numpy=0.009995897>, <tf.Tensor: shape=(), dtype=float32, numpy=0.009995384>, <tf.Tensor: shape=(), dtype=float32, numpy=0.009994872>, <tf.Tensor: shape=(), dtype=float32, numpy=0.00999436>, <tf.Tensor: shape=(), dtype=float32, numpy=0.0099938465>, <tf.Tensor: shape=(), dtype=float32, numpy=0.009993333>, <tf.Tensor: shape=(), dtype=float32, numpy=0.009992821>, <tf.Tensor: shape=(), dtype=float32, numpy=0.009992309>, <tf.Tensor: shape=(), dtype=float32, numpy=0.009991797>, <tf.Tensor: shape=(), dtype=float32, numpy=0.0099912835>, <tf.Tensor: shape=(), dtype=float32, numpy=0.009990771>, <tf.Tensor: shape=(), dtype=float32, numpy=0.009990258>, <tf.Tensor: shape=(), dtype=float32, numpy=0.009989747>, <tf.Tensor: shape=(), dtype=float32, numpy=0.009989234>, <tf.Tensor: shape=(), dtype=float32, numpy=0.009988..."
          ]
        }
      ]
    },
    {
      "cell_type": "markdown",
      "source": [
        "# Training"
      ],
      "metadata": {
        "id": "E-FFdlFTAdRZ"
      }
    },
    {
      "cell_type": "code",
      "source": [
        "#생성된 데이터를 batch_size로 나누어, epoch만큼 학습시킴\n",
        "history = model.fit(X_train, y_train, epochs=epoch, validation_data=(X_train, y_train), batch_size = batch_size)"
      ],
      "metadata": {
        "id": "bFIfY0DdAfpJ",
        "colab": {
          "base_uri": "https://localhost:8080/"
        },
        "outputId": "c1ec0eb5-9a19-43f7-8a1d-7f3760eb3ff0"
      },
      "execution_count": null,
      "outputs": [
        {
          "output_type": "stream",
          "name": "stdout",
          "text": [
            "Epoch 1/6\n",
            "\u001b[1m2/2\u001b[0m \u001b[32m━━━━━━━━━━━━━━━━━━━━\u001b[0m\u001b[37m\u001b[0m \u001b[1m4s\u001b[0m 2s/step - accuracy: 0.7162 - loss: 5246.9219 - val_accuracy: 0.9983 - val_loss: 37.0226\n",
            "Epoch 2/6\n",
            "\u001b[1m2/2\u001b[0m \u001b[32m━━━━━━━━━━━━━━━━━━━━\u001b[0m\u001b[37m\u001b[0m \u001b[1m0s\u001b[0m 66ms/step - accuracy: 0.9983 - loss: 47.7606 - val_accuracy: 0.9983 - val_loss: 101.7463\n",
            "Epoch 3/6\n",
            "\u001b[1m2/2\u001b[0m \u001b[32m━━━━━━━━━━━━━━━━━━━━\u001b[0m\u001b[37m\u001b[0m \u001b[1m0s\u001b[0m 64ms/step - accuracy: 0.9983 - loss: 107.5150 - val_accuracy: 0.9983 - val_loss: 133.0889\n",
            "Epoch 4/6\n",
            "\u001b[1m2/2\u001b[0m \u001b[32m━━━━━━━━━━━━━━━━━━━━\u001b[0m\u001b[37m\u001b[0m \u001b[1m0s\u001b[0m 99ms/step - accuracy: 0.9982 - loss: 136.8355 - val_accuracy: 0.9983 - val_loss: 144.7913\n",
            "Epoch 5/6\n",
            "\u001b[1m2/2\u001b[0m \u001b[32m━━━━━━━━━━━━━━━━━━━━\u001b[0m\u001b[37m\u001b[0m \u001b[1m0s\u001b[0m 99ms/step - accuracy: 0.9983 - loss: 143.7049 - val_accuracy: 0.9983 - val_loss: 141.1693\n",
            "Epoch 6/6\n",
            "\u001b[1m2/2\u001b[0m \u001b[32m━━━━━━━━━━━━━━━━━━━━\u001b[0m\u001b[37m\u001b[0m \u001b[1m0s\u001b[0m 63ms/step - accuracy: 0.9983 - loss: 137.3189 - val_accuracy: 0.9983 - val_loss: 119.6356\n"
          ]
        }
      ]
    },
    {
      "cell_type": "code",
      "source": [
        "plt.plot(history.history['loss'], label = \"train\")\n",
        "plt.xlabel(\"Epochs\")\n",
        "plt.ylabel(\"Cost\")\n",
        "plt.legend()\n",
        "plt.show()"
      ],
      "metadata": {
        "colab": {
          "base_uri": "https://localhost:8080/",
          "height": 449
        },
        "id": "qnNot8xkn-8F",
        "outputId": "ab2d6fed-6dd7-4816-dba1-5d9599d01044"
      },
      "execution_count": null,
      "outputs": [
        {
          "output_type": "display_data",
          "data": {
            "text/plain": [
              "<Figure size 640x480 with 1 Axes>"
            ],
            "image/png": "[encoded data removed]"
          },
          "metadata": {}
        }
      ]
    },
    {
      "cell_type": "markdown",
      "source": [
        "# Model Evaluation"
      ],
      "metadata": {
        "id": "J-T5yuOqokdX"
      }
    },
    {
      "cell_type": "code",
      "source": [
        "test_loss, test_acc = model.evaluate(x_test, y_test, verbose=2)\n",
        "print(\"Test accuracy: \", test_acc)"
      ],
      "metadata": {
        "id": "oHBKPZTLohh-"
      },
      "execution_count": null,
      "outputs": []
    },
    {
      "cell_type": "markdown",
      "source": [
        "# Test"
      ],
      "metadata": {
        "id": "cC3YoLyNAhBR"
      }
    },
    {
      "cell_type": "code",
      "source": [
        "predictions = model.predict(X_test, y_test)"
      ],
      "metadata": {
        "id": "u_JiOM4KAhnB",
        "colab": {
          "base_uri": "https://localhost:8080/",
          "height": 300
        },
        "outputId": "ca37d7b1-c32f-46d2-bb12-86de3f0692e1"
      },
      "execution_count": null,
      "outputs": [
        {
          "output_type": "error",
          "ename": "ValueError",
          "evalue": "The truth value of a Series is ambiguous. Use a.empty, a.bool(), a.item(), a.any() or a.all().",
          "traceback": [
            "\u001b[0;31m---------------------------------------------------------------------------\u001b[0m",
            "\u001b[0;31mValueError\u001b[0m                                Traceback (most recent call last)",
            "\u001b[0;32m<ipython-input-35-8c6001a6e9d9>\u001b[0m in \u001b[0;36m<cell line: 1>\u001b[0;34m()\u001b[0m\n\u001b[0;32m----> 1\u001b[0;31m \u001b[0mpredictions\u001b[0m \u001b[0;34m=\u001b[0m \u001b[0mmodel\u001b[0m\u001b[0;34m.\u001b[0m\u001b[0mpredict\u001b[0m\u001b[0;34m(\u001b[0m\u001b[0mX_test\u001b[0m\u001b[0;34m,\u001b[0m \u001b[0my_test\u001b[0m\u001b[0;34m)\u001b[0m\u001b[0;34m\u001b[0m\u001b[0;34m\u001b[0m\u001b[0m\n\u001b[0m",
            "\u001b[0;32m/usr/local/lib/python3.10/dist-packages/keras/src/utils/traceback_utils.py\u001b[0m in \u001b[0;36merror_handler\u001b[0;34m(*args, **kwargs)\u001b[0m\n\u001b[1;32m    120\u001b[0m             \u001b[0;31m# To get the full stack trace, call:\u001b[0m\u001b[0;34m\u001b[0m\u001b[0;34m\u001b[0m\u001b[0m\n\u001b[1;32m    121\u001b[0m             \u001b[0;31m# `keras.config.disable_traceback_filtering()`\u001b[0m\u001b[0;34m\u001b[0m\u001b[0;34m\u001b[0m\u001b[0m\n\u001b[0;32m--> 122\u001b[0;31m             \u001b[0;32mraise\u001b[0m \u001b[0me\u001b[0m\u001b[0;34m.\u001b[0m\u001b[0mwith_traceback\u001b[0m\u001b[0;34m(\u001b[0m\u001b[0mfiltered_tb\u001b[0m\u001b[0;34m)\u001b[0m \u001b[0;32mfrom\u001b[0m \u001b[0;32mNone\u001b[0m\u001b[0;34m\u001b[0m\u001b[0;34m\u001b[0m\u001b[0m\n\u001b[0m\u001b[1;32m    123\u001b[0m         \u001b[0;32mfinally\u001b[0m\u001b[0;34m:\u001b[0m\u001b[0;34m\u001b[0m\u001b[0;34m\u001b[0m\u001b[0m\n\u001b[1;32m    124\u001b[0m             \u001b[0;32mdel\u001b[0m \u001b[0mfiltered_tb\u001b[0m\u001b[0;34m\u001b[0m\u001b[0;34m\u001b[0m\u001b[0m\n",
            "\u001b[0;32m/usr/local/lib/python3.10/dist-packages/pandas/core/generic.py\u001b[0m in \u001b[0;36m__nonzero__\u001b[0;34m(self)\u001b[0m\n\u001b[1;32m   1517\u001b[0m     \u001b[0;34m@\u001b[0m\u001b[0mfinal\u001b[0m\u001b[0;34m\u001b[0m\u001b[0;34m\u001b[0m\u001b[0m\n\u001b[1;32m   1518\u001b[0m     \u001b[0;32mdef\u001b[0m \u001b[0m__nonzero__\u001b[0m\u001b[0;34m(\u001b[0m\u001b[0mself\u001b[0m\u001b[0;34m)\u001b[0m \u001b[0;34m->\u001b[0m \u001b[0mNoReturn\u001b[0m\u001b[0;34m:\u001b[0m\u001b[0;34m\u001b[0m\u001b[0;34m\u001b[0m\u001b[0m\n\u001b[0;32m-> 1519\u001b[0;31m         raise ValueError(\n\u001b[0m\u001b[1;32m   1520\u001b[0m             \u001b[0;34mf\"The truth value of a {type(self).__name__} is ambiguous. \"\u001b[0m\u001b[0;34m\u001b[0m\u001b[0;34m\u001b[0m\u001b[0m\n\u001b[1;32m   1521\u001b[0m             \u001b[0;34m\"Use a.empty, a.bool(), a.item(), a.any() or a.all().\"\u001b[0m\u001b[0;34m\u001b[0m\u001b[0;34m\u001b[0m\u001b[0m\n",
            "\u001b[0;31mValueError\u001b[0m: The truth value of a Series is ambiguous. Use a.empty, a.bool(), a.item(), a.any() or a.all()."
          ]
        }
      ]
    },
    {
      "cell_type": "markdown",
      "source": [
        "# accuracy 검증\n"
      ],
      "metadata": {
        "id": "Z6Ul0cPfAlKe"
      }
    },
    {
      "cell_type": "code",
      "source": [
        "# confusion_matrics\n",
        "from sklearn.metrics import confusion_matrix, classification_report, accuracy_score\n",
        "\n",
        "cnf_matrix = confusion_matrix(y_actual, y_pred, labels = ['cat', 'dog', 'rabbit'])\n",
        "np.set_printoptions(precision = 2)\n",
        "\n",
        "plt.figure()\n",
        "plot_confusion_matrix(cnf_matrix, classes = ['cat', 'dog', 'rabbit'], title = 'confusion matrix without normalization')\n",
        "plt.show()\n",
        "\n",
        "# 분류지표 계산\n",
        "print(classification_report(y_train, y_train_pred))\n",
        "\n",
        "# ROC(필요하면 쓰기)\n",
        "from sklearn.metrics import roc_curve, auc\n",
        "import pandas as pd\n",
        "\n",
        "y_train_prob = lr.predict_proba(X_train)[:, 1]\n",
        "\n",
        "fpr, tpr, threshold = roc_curve(y_train, y_train_prob)\n",
        "\n",
        "a=pd.DataFrame()\n",
        "\n",
        "a['fpr'] = 1-fpr\n",
        "a['tpr'] = tpr\n",
        "a['thres'] = threshold\n",
        "# p(a)\n",
        "\n",
        "import matplotlib.pyplot as plt\n",
        "\n",
        "auc_score = auc(fpr, tpr)\n",
        "\n",
        "plt.plot(fpr, tpr, label='auc: %.2f'%auc_score)\n",
        "plt.show()"
      ],
      "metadata": {
        "id": "a2DUMTfYAnWm"
      },
      "execution_count": null,
      "outputs": []
    },
    {
      "cell_type": "markdown",
      "source": [
        "# Evaluation"
      ],
      "metadata": {
        "id": "7bouWbsY7Tlv"
      }
    },
    {
      "cell_type": "code",
      "source": [
        "test_loss, test_acc = model.evaluate(x_test, y_test, verbose=2)"
      ],
      "metadata": {
        "id": "s6DceLwW7W75"
      },
      "execution_count": null,
      "outputs": []
    },
    {
      "cell_type": "markdown",
      "source": [
        "# Visualization"
      ],
      "metadata": {
        "id": "yWyj9-mlAoze"
      }
    },
    {
      "cell_type": "code",
      "source": [
        "plt.figure(figsize=(10,8))\n",
        "plt.plot(history.history['loss'], label = \"train\") #그래프모양 변경가능\n",
        "plt.xlabel(\"Epochs\") # 변수수정\n",
        "plt.ylabel(\"Cost\") #변수수정\n",
        "plt.legend()\n",
        "plt.show()"
      ],
      "metadata": {
        "id": "7L4uu3gOApyS"
      },
      "execution_count": null,
      "outputs": []
    }
  ]
}