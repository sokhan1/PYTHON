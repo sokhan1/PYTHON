{
  "nbformat": 4,
  "nbformat_minor": 0,
  "metadata": {
    "colab": {
      "provenance": [],
      "authorship_tag": "ABX9TyO3MKNDW2vqizYNyLQUJOkN",
      "include_colab_link": true
    },
    "kernelspec": {
      "name": "python3",
      "display_name": "Python 3"
    },
    "language_info": {
      "name": "python"
    }
  },
  "cells": [
    {
      "cell_type": "markdown",
      "metadata": {
        "id": "view-in-github",
        "colab_type": "text"
      },
      "source": [
        "<a href=\"https://colab.research.google.com/github/sokhan1/PYTHON/blob/main/python_basic_class_.ipynb\" target=\"_parent\"><img src=\"https://colab.research.google.com/assets/colab-badge.svg\" alt=\"Open In Colab\"/></a>"
      ]
    },
    {
      "cell_type": "markdown",
      "source": [
        "# 큰 제목\n",
        "## 그 다음으로 큰\n",
        "### **볼드**\n",
        "-1\n",
        " - 1-1\n",
        "  - 1-1-1\n",
        "\n",
        "1. a\n",
        "2. b\n",
        "> ㅎㅎ\n",
        ">> ㅎㅎㅎ\n",
        "\n",
        "$y=x$\n",
        "\n",
        "''' python\n",
        "print(\"Hello world\")\n",
        "'''\n",
        "\n",
        "https://"
      ],
      "metadata": {
        "id": "VlPMc7lsQAsh"
      }
    },
    {
      "cell_type": "markdown",
      "source": [
        "## 파이썬은 계산기다!"
      ],
      "metadata": {
        "id": "nmFLQNnnTHWA"
      }
    },
    {
      "cell_type": "code",
      "source": [
        "print(\"Hello\")"
      ],
      "metadata": {
        "colab": {
          "base_uri": "https://localhost:8080/"
        },
        "id": "zRfNRjbaP_Oe",
        "outputId": "ff81fb3b-cb15-47df-97da-6410a3187fd8"
      },
      "execution_count": null,
      "outputs": [
        {
          "output_type": "stream",
          "name": "stdout",
          "text": [
            "Hello\n"
          ]
        }
      ]
    },
    {
      "cell_type": "code",
      "source": [
        "1+1\n",
        "3-5\n",
        "2*5"
      ],
      "metadata": {
        "colab": {
          "base_uri": "https://localhost:8080/"
        },
        "id": "LV8rZ8G1TOgu",
        "outputId": "b1d32ac3-a66f-41cb-ac69-42519a66bdb4"
      },
      "execution_count": null,
      "outputs": [
        {
          "output_type": "execute_result",
          "data": {
            "text/plain": [
              "10"
            ]
          },
          "metadata": {},
          "execution_count": 2
        }
      ]
    },
    {
      "cell_type": "code",
      "source": [
        "5.2"
      ],
      "metadata": {
        "colab": {
          "base_uri": "https://localhost:8080/"
        },
        "id": "41HbhPABTTv3",
        "outputId": "5e984bdc-84b2-4fe3-dfef-0250607208a5"
      },
      "execution_count": null,
      "outputs": [
        {
          "output_type": "execute_result",
          "data": {
            "text/plain": [
              "5.2"
            ]
          },
          "metadata": {},
          "execution_count": 3
        }
      ]
    },
    {
      "cell_type": "code",
      "source": [
        "5/2"
      ],
      "metadata": {
        "colab": {
          "base_uri": "https://localhost:8080/"
        },
        "id": "W5JUX6RcTUSn",
        "outputId": "e9520758-262f-4f68-9699-6b7f97dc7d00"
      },
      "execution_count": null,
      "outputs": [
        {
          "output_type": "execute_result",
          "data": {
            "text/plain": [
              "2.5"
            ]
          },
          "metadata": {},
          "execution_count": 4
        }
      ]
    },
    {
      "cell_type": "code",
      "source": [
        "4/2"
      ],
      "metadata": {
        "colab": {
          "base_uri": "https://localhost:8080/"
        },
        "id": "d19-xK9hTU5q",
        "outputId": "555f84b6-4f0c-46b0-f4d3-ad3bdc800e8a"
      },
      "execution_count": null,
      "outputs": [
        {
          "output_type": "execute_result",
          "data": {
            "text/plain": [
              "2.0"
            ]
          },
          "metadata": {},
          "execution_count": 5
        }
      ]
    },
    {
      "cell_type": "code",
      "source": [
        "(3+5)*2"
      ],
      "metadata": {
        "colab": {
          "base_uri": "https://localhost:8080/"
        },
        "id": "4xYAwnlhTVtC",
        "outputId": "5e7e72a3-b2d4-465c-fbd6-4e90ac4f6a24"
      },
      "execution_count": null,
      "outputs": [
        {
          "output_type": "execute_result",
          "data": {
            "text/plain": [
              "16"
            ]
          },
          "metadata": {},
          "execution_count": 6
        }
      ]
    },
    {
      "cell_type": "code",
      "source": [
        "type(2) # int는 integer의 줄임말"
      ],
      "metadata": {
        "colab": {
          "base_uri": "https://localhost:8080/"
        },
        "id": "xiCGNzWwTXzm",
        "outputId": "2f1add6b-dbf3-4bc7-b0c1-86202d248171"
      },
      "execution_count": null,
      "outputs": [
        {
          "output_type": "execute_result",
          "data": {
            "text/plain": [
              "int"
            ]
          },
          "metadata": {},
          "execution_count": 7
        }
      ]
    },
    {
      "cell_type": "code",
      "source": [
        "type(2.0)"
      ],
      "metadata": {
        "colab": {
          "base_uri": "https://localhost:8080/"
        },
        "id": "_miKmxXXTdlx",
        "outputId": "0b6d3295-61ee-4d85-9a13-447a672683f5"
      },
      "execution_count": null,
      "outputs": [
        {
          "output_type": "execute_result",
          "data": {
            "text/plain": [
              "float"
            ]
          },
          "metadata": {},
          "execution_count": 8
        }
      ]
    },
    {
      "cell_type": "code",
      "source": [
        "type(2.)"
      ],
      "metadata": {
        "colab": {
          "base_uri": "https://localhost:8080/"
        },
        "id": "pEwshUDRTfxB",
        "outputId": "69a77b89-2933-4b59-85e2-425b3bbc5c53"
      },
      "execution_count": null,
      "outputs": [
        {
          "output_type": "execute_result",
          "data": {
            "text/plain": [
              "float"
            ]
          },
          "metadata": {},
          "execution_count": 9
        }
      ]
    },
    {
      "cell_type": "code",
      "source": [
        "4/2"
      ],
      "metadata": {
        "colab": {
          "base_uri": "https://localhost:8080/"
        },
        "id": "Cpm0Y-qQTkgk",
        "outputId": "ba7c66fa-ec9e-4d41-d73b-eee4c98da29b"
      },
      "execution_count": null,
      "outputs": [
        {
          "output_type": "execute_result",
          "data": {
            "text/plain": [
              "2.0"
            ]
          },
          "metadata": {},
          "execution_count": 10
        }
      ]
    },
    {
      "cell_type": "code",
      "source": [
        "4//2"
      ],
      "metadata": {
        "colab": {
          "base_uri": "https://localhost:8080/"
        },
        "id": "_h5hoRo3TnRs",
        "outputId": "a2259e11-3496-4da5-bbd7-82c25e19b76a"
      },
      "execution_count": null,
      "outputs": [
        {
          "output_type": "execute_result",
          "data": {
            "text/plain": [
              "2"
            ]
          },
          "metadata": {},
          "execution_count": 11
        }
      ]
    },
    {
      "cell_type": "code",
      "source": [
        "5//2"
      ],
      "metadata": {
        "colab": {
          "base_uri": "https://localhost:8080/"
        },
        "id": "717zscLKTqHi",
        "outputId": "8ad20875-293d-4b5d-8a91-d26ac0244499"
      },
      "execution_count": null,
      "outputs": [
        {
          "output_type": "execute_result",
          "data": {
            "text/plain": [
              "2"
            ]
          },
          "metadata": {},
          "execution_count": 12
        }
      ]
    },
    {
      "cell_type": "code",
      "source": [
        "int(5/2)"
      ],
      "metadata": {
        "colab": {
          "base_uri": "https://localhost:8080/"
        },
        "id": "0PBC28axTsic",
        "outputId": "7998a5c3-d0d7-46d2-e73c-94ff599ca5ff"
      },
      "execution_count": null,
      "outputs": [
        {
          "output_type": "execute_result",
          "data": {
            "text/plain": [
              "2"
            ]
          },
          "metadata": {},
          "execution_count": 13
        }
      ]
    },
    {
      "cell_type": "code",
      "source": [
        "int(5/2)"
      ],
      "metadata": {
        "colab": {
          "base_uri": "https://localhost:8080/"
        },
        "id": "9LyBOkFrTyo-",
        "outputId": "28fc4ca7-a93a-476a-fdca-97e56d91dd81"
      },
      "execution_count": null,
      "outputs": [
        {
          "output_type": "execute_result",
          "data": {
            "text/plain": [
              "2"
            ]
          },
          "metadata": {},
          "execution_count": 14
        }
      ]
    },
    {
      "cell_type": "code",
      "source": [
        "float(1)"
      ],
      "metadata": {
        "colab": {
          "base_uri": "https://localhost:8080/"
        },
        "id": "ahktv15XUycx",
        "outputId": "eca8b4a3-5c67-41ac-bb37-c72a6f9db83d"
      },
      "execution_count": null,
      "outputs": [
        {
          "output_type": "execute_result",
          "data": {
            "text/plain": [
              "1.0"
            ]
          },
          "metadata": {},
          "execution_count": 15
        }
      ]
    },
    {
      "cell_type": "code",
      "source": [
        "int(-2.9)"
      ],
      "metadata": {
        "colab": {
          "base_uri": "https://localhost:8080/"
        },
        "id": "R452j46jUzeu",
        "outputId": "7c297468-e4be-4bf9-f98a-b1559931ee2c"
      },
      "execution_count": null,
      "outputs": [
        {
          "output_type": "execute_result",
          "data": {
            "text/plain": [
              "-2"
            ]
          },
          "metadata": {},
          "execution_count": 16
        }
      ]
    },
    {
      "cell_type": "code",
      "source": [
        "5%2"
      ],
      "metadata": {
        "colab": {
          "base_uri": "https://localhost:8080/"
        },
        "id": "Jro3UVKKU5si",
        "outputId": "45949fb8-1dd3-4d35-9733-645a1aeab431"
      },
      "execution_count": null,
      "outputs": [
        {
          "output_type": "execute_result",
          "data": {
            "text/plain": [
              "1"
            ]
          },
          "metadata": {},
          "execution_count": 17
        }
      ]
    },
    {
      "cell_type": "code",
      "source": [
        "2**10"
      ],
      "metadata": {
        "colab": {
          "base_uri": "https://localhost:8080/"
        },
        "id": "T5MEbUzTU_97",
        "outputId": "f30e13b2-13a4-4bce-b7e7-5670639aa4ef"
      },
      "execution_count": null,
      "outputs": [
        {
          "output_type": "execute_result",
          "data": {
            "text/plain": [
              "1024"
            ]
          },
          "metadata": {},
          "execution_count": 18
        }
      ]
    },
    {
      "cell_type": "code",
      "source": [
        "print(0b011)\n",
        "print(0xA)"
      ],
      "metadata": {
        "colab": {
          "base_uri": "https://localhost:8080/"
        },
        "id": "NXUpH1R0VImB",
        "outputId": "ccfd286f-3bd8-4a9b-a5ef-b33f0c6b5499"
      },
      "execution_count": null,
      "outputs": [
        {
          "output_type": "stream",
          "name": "stdout",
          "text": [
            "3\n",
            "10\n"
          ]
        }
      ]
    },
    {
      "cell_type": "code",
      "source": [
        "0b011\n",
        "0xA"
      ],
      "metadata": {
        "colab": {
          "base_uri": "https://localhost:8080/"
        },
        "id": "Z32yiFnHVSIX",
        "outputId": "9974fb9a-01df-4338-c547-1c996d30a086"
      },
      "execution_count": null,
      "outputs": [
        {
          "output_type": "execute_result",
          "data": {
            "text/plain": [
              "10"
            ]
          },
          "metadata": {},
          "execution_count": 21
        }
      ]
    },
    {
      "cell_type": "code",
      "source": [
        "a=10"
      ],
      "metadata": {
        "id": "LaXUdyYkVgwX"
      },
      "execution_count": null,
      "outputs": []
    },
    {
      "cell_type": "code",
      "source": [
        "print(a)\n",
        "print(\"a\")\n",
        "a=1 # 10을 집어 넣었다가 1을 집어 넣었으니 이젠 a에 1이 들어가있다."
      ],
      "metadata": {
        "colab": {
          "base_uri": "https://localhost:8080/"
        },
        "id": "D9LU1LyiWMlD",
        "outputId": "5531964d-0389-4e38-cc95-355f241d2091"
      },
      "execution_count": null,
      "outputs": [
        {
          "output_type": "stream",
          "name": "stdout",
          "text": [
            "10\n",
            "a\n"
          ]
        }
      ]
    },
    {
      "cell_type": "code",
      "source": [
        "print(a)"
      ],
      "metadata": {
        "colab": {
          "base_uri": "https://localhost:8080/"
        },
        "id": "51paoDdjWNgO",
        "outputId": "cbe51787-086f-4794-d38e-849db15f5e9e"
      },
      "execution_count": null,
      "outputs": [
        {
          "output_type": "stream",
          "name": "stdout",
          "text": [
            "1\n"
          ]
        }
      ]
    },
    {
      "cell_type": "code",
      "source": [
        "a=\"Hello World\"\n",
        "print(a)"
      ],
      "metadata": {
        "colab": {
          "base_uri": "https://localhost:8080/"
        },
        "id": "M_62uR2bWbnU",
        "outputId": "e030eb99-cf72-45d4-e2bf-44a249389e75"
      },
      "execution_count": null,
      "outputs": [
        {
          "output_type": "stream",
          "name": "stdout",
          "text": [
            "Hello World\n"
          ]
        }
      ]
    },
    {
      "cell_type": "code",
      "source": [
        "a1=1\n",
        "a2=2\n",
        "a3=3\n"
      ],
      "metadata": {
        "id": "u63kAZ8BWtZL"
      },
      "execution_count": null,
      "outputs": []
    },
    {
      "cell_type": "code",
      "source": [
        "a=3\n",
        "A=4\n",
        "print(a); print(A)"
      ],
      "metadata": {
        "colab": {
          "base_uri": "https://localhost:8080/"
        },
        "id": "ZYLmBmncXDjx",
        "outputId": "7ebb15f2-0b85-476c-d208-552ad456b617"
      },
      "execution_count": null,
      "outputs": [
        {
          "output_type": "stream",
          "name": "stdout",
          "text": [
            "3\n",
            "4\n"
          ]
        }
      ]
    },
    {
      "cell_type": "code",
      "source": [
        "# a-b=1\n",
        "# a*b=1\n"
      ],
      "metadata": {
        "id": "RqxGnx6VXHKh"
      },
      "execution_count": null,
      "outputs": []
    },
    {
      "cell_type": "code",
      "source": [
        "a=1 ; b=2\n",
        "c=a+b\n",
        "print(c)"
      ],
      "metadata": {
        "colab": {
          "base_uri": "https://localhost:8080/"
        },
        "id": "JDisYWLmXwfa",
        "outputId": "d32387ea-7d68-4b8c-f580-0400cec3cca2"
      },
      "execution_count": null,
      "outputs": [
        {
          "output_type": "stream",
          "name": "stdout",
          "text": [
            "3\n"
          ]
        }
      ]
    },
    {
      "cell_type": "code",
      "source": [
        "a=a+5\n",
        "print(a)"
      ],
      "metadata": {
        "colab": {
          "base_uri": "https://localhost:8080/"
        },
        "id": "Nkp3tbXiX-za",
        "outputId": "ec71e338-b847-4ae8-e619-9e39d8f900b6"
      },
      "execution_count": null,
      "outputs": [
        {
          "output_type": "stream",
          "name": "stdout",
          "text": [
            "6\n"
          ]
        }
      ]
    },
    {
      "cell_type": "code",
      "source": [
        "a += 5\n",
        "print(a)"
      ],
      "metadata": {
        "colab": {
          "base_uri": "https://localhost:8080/"
        },
        "id": "p9Ejop4vYFeh",
        "outputId": "dde190ad-c462-4808-ebd9-90fe05087ab5"
      },
      "execution_count": null,
      "outputs": [
        {
          "output_type": "stream",
          "name": "stdout",
          "text": [
            "11\n"
          ]
        }
      ]
    },
    {
      "cell_type": "code",
      "source": [
        "a*=2\n",
        "print(a)"
      ],
      "metadata": {
        "colab": {
          "base_uri": "https://localhost:8080/"
        },
        "id": "OajLwFmeYRGi",
        "outputId": "3658d713-1511-47d5-ac1a-0d1b0c2d56b4"
      },
      "execution_count": null,
      "outputs": [
        {
          "output_type": "stream",
          "name": "stdout",
          "text": [
            "22\n"
          ]
        }
      ]
    },
    {
      "cell_type": "code",
      "source": [
        "a /= 2\n",
        "print(a)"
      ],
      "metadata": {
        "colab": {
          "base_uri": "https://localhost:8080/"
        },
        "id": "MaE0p9dEYYDu",
        "outputId": "64b91699-495e-4b37-b49d-e0e2819df703"
      },
      "execution_count": null,
      "outputs": [
        {
          "output_type": "stream",
          "name": "stdout",
          "text": [
            "11.0\n"
          ]
        }
      ]
    },
    {
      "cell_type": "code",
      "source": [
        "x = 4\n",
        "print(x)\n",
        "print(\"x=\",x)"
      ],
      "metadata": {
        "colab": {
          "base_uri": "https://localhost:8080/"
        },
        "id": "WbX8dNajYdaf",
        "outputId": "ae893fdd-89e0-4fc6-ad20-2a77afe06ad2"
      },
      "execution_count": null,
      "outputs": [
        {
          "output_type": "stream",
          "name": "stdout",
          "text": [
            "4\n",
            "x= 4\n"
          ]
        }
      ]
    },
    {
      "cell_type": "code",
      "source": [
        "print(\"Hello\",\"World\")\n",
        "print(a)"
      ],
      "metadata": {
        "colab": {
          "base_uri": "https://localhost:8080/"
        },
        "id": "Zvtpmh73YqBU",
        "outputId": "5f5ce3a3-064c-4f91-c6b6-b1def3313ec6"
      },
      "execution_count": null,
      "outputs": [
        {
          "output_type": "stream",
          "name": "stdout",
          "text": [
            "Hello World\n",
            "11.0\n"
          ]
        }
      ]
    },
    {
      "cell_type": "markdown",
      "source": [
        "## 진화된 계산기다!"
      ],
      "metadata": {
        "id": "EBN552Hxr4LX"
      }
    },
    {
      "cell_type": "code",
      "source": [
        "a>3"
      ],
      "metadata": {
        "colab": {
          "base_uri": "https://localhost:8080/"
        },
        "id": "-_3nYiAkYsvz",
        "outputId": "ecffe779-eb1f-462d-8010-b53c67c4d2a1"
      },
      "execution_count": null,
      "outputs": [
        {
          "output_type": "execute_result",
          "data": {
            "text/plain": [
              "True"
            ]
          },
          "metadata": {},
          "execution_count": 39
        }
      ]
    },
    {
      "cell_type": "code",
      "source": [
        "a>=3"
      ],
      "metadata": {
        "colab": {
          "base_uri": "https://localhost:8080/"
        },
        "id": "EUb43X5XsSHo",
        "outputId": "f42f2ffd-9690-4051-ee7f-4ccf6c6beb03"
      },
      "execution_count": null,
      "outputs": [
        {
          "output_type": "execute_result",
          "data": {
            "text/plain": [
              "True"
            ]
          },
          "metadata": {},
          "execution_count": 40
        }
      ]
    },
    {
      "cell_type": "code",
      "source": [
        "a!=3"
      ],
      "metadata": {
        "colab": {
          "base_uri": "https://localhost:8080/"
        },
        "id": "VnGFlTOfsUPO",
        "outputId": "bfd474cc-bea5-4f73-f99f-159e4819c144"
      },
      "execution_count": null,
      "outputs": [
        {
          "output_type": "execute_result",
          "data": {
            "text/plain": [
              "True"
            ]
          },
          "metadata": {},
          "execution_count": 41
        }
      ]
    },
    {
      "cell_type": "code",
      "source": [
        "a is 1"
      ],
      "metadata": {
        "colab": {
          "base_uri": "https://localhost:8080/"
        },
        "id": "JmJHoQkcsaFg",
        "outputId": "4b580563-ffe4-48cb-acce-2bc06bbe4e17"
      },
      "execution_count": null,
      "outputs": [
        {
          "output_type": "stream",
          "name": "stderr",
          "text": [
            "<>:1: SyntaxWarning: \"is\" with a literal. Did you mean \"==\"?\n",
            "<>:1: SyntaxWarning: \"is\" with a literal. Did you mean \"==\"?\n",
            "<ipython-input-42-9a4f168196e7>:1: SyntaxWarning: \"is\" with a literal. Did you mean \"==\"?\n",
            "  a is 1\n"
          ]
        },
        {
          "output_type": "execute_result",
          "data": {
            "text/plain": [
              "False"
            ]
          },
          "metadata": {},
          "execution_count": 42
        }
      ]
    },
    {
      "cell_type": "code",
      "source": [
        "a is not 1"
      ],
      "metadata": {
        "colab": {
          "base_uri": "https://localhost:8080/"
        },
        "id": "elzVF4phscIf",
        "outputId": "f5f69417-bb83-4567-bc5e-ad5da6a5fb97"
      },
      "execution_count": null,
      "outputs": [
        {
          "output_type": "stream",
          "name": "stderr",
          "text": [
            "<>:1: SyntaxWarning: \"is not\" with a literal. Did you mean \"!=\"?\n",
            "<>:1: SyntaxWarning: \"is not\" with a literal. Did you mean \"!=\"?\n",
            "<ipython-input-43-a0ea076735fa>:1: SyntaxWarning: \"is not\" with a literal. Did you mean \"!=\"?\n",
            "  a is not 1\n"
          ]
        },
        {
          "output_type": "execute_result",
          "data": {
            "text/plain": [
              "True"
            ]
          },
          "metadata": {},
          "execution_count": 43
        }
      ]
    },
    {
      "cell_type": "code",
      "source": [
        "\"Python\"==\"python\""
      ],
      "metadata": {
        "colab": {
          "base_uri": "https://localhost:8080/"
        },
        "id": "AjL76fe1sgSi",
        "outputId": "eb6a13ef-76ec-4600-e0be-39746ea0f8bb"
      },
      "execution_count": null,
      "outputs": [
        {
          "output_type": "execute_result",
          "data": {
            "text/plain": [
              "False"
            ]
          },
          "metadata": {},
          "execution_count": 44
        }
      ]
    },
    {
      "cell_type": "code",
      "source": [
        "x=3\n",
        "print(x>1 and x<5)\n",
        "print(x>1 or x<-1)\n",
        "print(bool(1))\n",
        "print(bool(0))\n",
        "print(type(x>1))\n",
        "print(type(\"True\"))"
      ],
      "metadata": {
        "colab": {
          "base_uri": "https://localhost:8080/"
        },
        "id": "oOrdwLSystzV",
        "outputId": "225af651-aa69-40b4-aa23-47fd0a46b27d"
      },
      "execution_count": null,
      "outputs": [
        {
          "output_type": "stream",
          "name": "stdout",
          "text": [
            "True\n",
            "True\n",
            "True\n",
            "False\n",
            "<class 'bool'>\n",
            "<class 'str'>\n"
          ]
        }
      ]
    },
    {
      "cell_type": "markdown",
      "source": [
        "## 여러 개를 한 변수에 넣을 순 없을까? 리스트!"
      ],
      "metadata": {
        "id": "2qOcRat0tVqg"
      }
    },
    {
      "cell_type": "code",
      "source": [
        "a=[1,2,3] #list 라고 함\n",
        "print(a)"
      ],
      "metadata": {
        "colab": {
          "base_uri": "https://localhost:8080/"
        },
        "id": "Ws42njXns7e3",
        "outputId": "8e66f5e9-dc55-4b3f-8e75-0e825049f4ae"
      },
      "execution_count": null,
      "outputs": [
        {
          "output_type": "stream",
          "name": "stdout",
          "text": [
            "[1, 2, 3]\n"
          ]
        }
      ]
    },
    {
      "cell_type": "code",
      "source": [
        "a=[1,2,3]\n",
        "b=[3,4,5]\n",
        "print(a+b)"
      ],
      "metadata": {
        "colab": {
          "base_uri": "https://localhost:8080/"
        },
        "id": "bivGkYzytiz-",
        "outputId": "01c5bdc9-a67a-4f61-a8a7-ffe45e6e28c7"
      },
      "execution_count": null,
      "outputs": [
        {
          "output_type": "stream",
          "name": "stdout",
          "text": [
            "[1, 2, 3, 3, 4, 5]\n"
          ]
        }
      ]
    },
    {
      "cell_type": "code",
      "source": [
        "a = [4,\"ㅋ\",6] #뭐든 들어간다\n",
        "print(a)"
      ],
      "metadata": {
        "colab": {
          "base_uri": "https://localhost:8080/"
        },
        "id": "4uNlgi1ltpu3",
        "outputId": "778b4298-1591-4cab-863f-27b5ef6c76f7"
      },
      "execution_count": null,
      "outputs": [
        {
          "output_type": "stream",
          "name": "stdout",
          "text": [
            "[4, 'ㅋ', 6]\n"
          ]
        }
      ]
    },
    {
      "cell_type": "code",
      "source": [
        "c=[]#빈 리스트\n",
        "c.append(1)\n",
        "c.append(\"하하\")\n",
        "c.append(3)\n",
        "print(c)"
      ],
      "metadata": {
        "colab": {
          "base_uri": "https://localhost:8080/"
        },
        "id": "nB87-l00tufj",
        "outputId": "11ac4d7d-b902-4dee-9e7c-47965c63801a"
      },
      "execution_count": null,
      "outputs": [
        {
          "output_type": "stream",
          "name": "stdout",
          "text": [
            "[1, '하하', 3]\n"
          ]
        }
      ]
    },
    {
      "cell_type": "code",
      "source": [
        "a=[]\n",
        "a+=[1]\n",
        "a+=[\"ㅋ\"]\n",
        "a+=[2]\n",
        "print(a)"
      ],
      "metadata": {
        "colab": {
          "base_uri": "https://localhost:8080/"
        },
        "id": "QS_UuTGOt70U",
        "outputId": "ea3110a7-7d58-4c87-891c-13bf688ed83f"
      },
      "execution_count": null,
      "outputs": [
        {
          "output_type": "stream",
          "name": "stdout",
          "text": [
            "[1, 'ㅋ', 2]\n"
          ]
        }
      ]
    },
    {
      "cell_type": "code",
      "source": [
        "loss_history=[]\n",
        "loss=1\n",
        "loss_history+=[loss]\n",
        "loss=0.5\n",
        "loss_history+=[loss]\n",
        "loss=0.1\n",
        "loss_history+=[loss]"
      ],
      "metadata": {
        "id": "248H7aZquFIO"
      },
      "execution_count": null,
      "outputs": []
    },
    {
      "cell_type": "markdown",
      "source": [
        "## range는 반복문의 친구"
      ],
      "metadata": {
        "id": "ohervhnjMzZu"
      }
    },
    {
      "cell_type": "code",
      "source": [
        "range(10)\n",
        "a=list(range(10)) #range를 list로 바꿈"
      ],
      "metadata": {
        "id": "Gb7wbgLSunl_"
      },
      "execution_count": null,
      "outputs": []
    },
    {
      "cell_type": "code",
      "source": [
        "b=list(range(1,11)) #1부터 시작 그리고 11미만 까지\n",
        "print(b)\n",
        "c=list(range(1,11,2)) # 1부터 시작 11미만 까지\n",
        "print(c)\n",
        "list(range(10,0,-1)) #10부터 시작해서 1초과까지 -1 간격으로"
      ],
      "metadata": {
        "colab": {
          "base_uri": "https://localhost:8080/"
        },
        "id": "ho-w7E8aM7dl",
        "outputId": "223fb1bf-5572-4d53-e60e-e9bda6e2d680"
      },
      "execution_count": null,
      "outputs": [
        {
          "output_type": "stream",
          "name": "stdout",
          "text": [
            "[1, 2, 3, 4, 5, 6, 7, 8, 9, 10]\n",
            "[1, 3, 5, 7, 9]\n"
          ]
        },
        {
          "output_type": "execute_result",
          "data": {
            "text/plain": [
              "[10, 9, 8, 7, 6, 5, 4, 3, 2, 1]"
            ]
          },
          "metadata": {},
          "execution_count": 8
        }
      ]
    },
    {
      "cell_type": "markdown",
      "source": [
        "## 튜플이라는 것도 존재"
      ],
      "metadata": {
        "id": "llGZuJkcN_V2"
      }
    },
    {
      "cell_type": "code",
      "source": [
        "a=(1,\"ㅋ\",3)\n",
        "b=[1,2,3]\n",
        "print(type(a))\n",
        "print(type(b))"
      ],
      "metadata": {
        "colab": {
          "base_uri": "https://localhost:8080/"
        },
        "id": "Rxcj1tF0NESi",
        "outputId": "8339f658-89a3-4485-ce41-35c512f66a5d"
      },
      "execution_count": null,
      "outputs": [
        {
          "output_type": "stream",
          "name": "stdout",
          "text": [
            "<class 'tuple'>\n",
            "<class 'list'>\n"
          ]
        }
      ]
    },
    {
      "cell_type": "code",
      "source": [
        "b=tuple(range(10))\n",
        "print(b)"
      ],
      "metadata": {
        "colab": {
          "base_uri": "https://localhost:8080/"
        },
        "id": "jKXxXv6yOIhy",
        "outputId": "4991b8e8-ab9b-430d-b231-d92328a035ab"
      },
      "execution_count": null,
      "outputs": [
        {
          "output_type": "stream",
          "name": "stdout",
          "text": [
            "(0, 1, 2, 3, 4, 5, 6, 7, 8, 9)\n"
          ]
        }
      ]
    },
    {
      "cell_type": "code",
      "source": [
        "a=list(range(10))\n",
        "b=tuple(range(10))\n",
        "c=tuple(a)\n",
        "d=list(b)\n",
        "print(a)\n",
        "print(b)\n",
        "print(c)\n",
        "print(d)"
      ],
      "metadata": {
        "colab": {
          "base_uri": "https://localhost:8080/"
        },
        "id": "7Kn3-n4TOOKQ",
        "outputId": "afd4330b-a422-4ea3-c04d-2e9c832ab2fe"
      },
      "execution_count": null,
      "outputs": [
        {
          "output_type": "stream",
          "name": "stdout",
          "text": [
            "[0, 1, 2, 3, 4, 5, 6, 7, 8, 9]\n",
            "(0, 1, 2, 3, 4, 5, 6, 7, 8, 9)\n",
            "(0, 1, 2, 3, 4, 5, 6, 7, 8, 9)\n",
            "[0, 1, 2, 3, 4, 5, 6, 7, 8, 9]\n"
          ]
        }
      ]
    },
    {
      "cell_type": "markdown",
      "source": [
        "## in은 있냐?를 물어봄"
      ],
      "metadata": {
        "id": "JPCoF-35OjMt"
      }
    },
    {
      "cell_type": "code",
      "source": [
        "a=list(range(10))\n",
        "b=tuple(range(10))\n",
        "c=range(10)\n",
        "print(1 in a)\n",
        "print(15 in a)\n",
        "print(1 not in b)\n",
        "print(15 in b)\n",
        "print(5 in c)"
      ],
      "metadata": {
        "colab": {
          "base_uri": "https://localhost:8080/"
        },
        "id": "vgkPg8RaOawq",
        "outputId": "3f943aae-43b4-44d7-9e5b-220faf2e39cd"
      },
      "execution_count": null,
      "outputs": [
        {
          "output_type": "stream",
          "name": "stdout",
          "text": [
            "True\n",
            "False\n",
            "False\n",
            "False\n",
            "True\n"
          ]
        }
      ]
    },
    {
      "cell_type": "code",
      "source": [
        "s= \"Hello\"\n",
        "print(\"h\" in s)\n",
        "print(\"H\" in s)"
      ],
      "metadata": {
        "colab": {
          "base_uri": "https://localhost:8080/"
        },
        "id": "WgU2TITxOqD4",
        "outputId": "77f6887d-cd0c-4791-8988-d5742d9dccf3"
      },
      "execution_count": null,
      "outputs": [
        {
          "output_type": "stream",
          "name": "stdout",
          "text": [
            "False\n",
            "True\n"
          ]
        }
      ]
    },
    {
      "cell_type": "markdown",
      "source": [
        "## 리스트의 기본 연산과 인덱싱"
      ],
      "metadata": {
        "id": "CtXJb4h2O_5c"
      }
    },
    {
      "cell_type": "code",
      "source": [
        "a=[1,2,3]\n",
        "b=a+a\n",
        "c=a*3\n",
        "d=a*(12//4)\n",
        "e-a+int(12/4)\n",
        "print(a)\n",
        "print(b)\n",
        "print(c)\n",
        "print(d)\n",
        "print(e)"
      ],
      "metadata": {
        "colab": {
          "base_uri": "https://localhost:8080/"
        },
        "id": "11j31_O0O9KP",
        "outputId": "29a20cda-3705-4935-e427-b70a8ff181fc"
      },
      "execution_count": null,
      "outputs": [
        {
          "output_type": "stream",
          "name": "stdout",
          "text": [
            "[1, 2, 3]\n",
            "[1, 2, 3, 1, 2, 3]\n",
            "[1, 2, 3, 1, 2, 3, 1, 2, 3]\n"
          ]
        }
      ]
    },
    {
      "cell_type": "code",
      "source": [
        "a=[1,2,3]\n",
        "print(len(a)) #len은 length다\n"
      ],
      "metadata": {
        "colab": {
          "base_uri": "https://localhost:8080/"
        },
        "id": "eF5eKR8sPPKV",
        "outputId": "d19e401d-d68a-483e-e295-ea67c1537c14"
      },
      "execution_count": null,
      "outputs": [
        {
          "output_type": "stream",
          "name": "stdout",
          "text": [
            "3\n"
          ]
        }
      ]
    },
    {
      "cell_type": "code",
      "source": [
        "s=\"hello\"\n",
        "s2=[\"hello\"]\n",
        "print(s)\n",
        "print(len(s))\n",
        "print(s2)\n",
        "print(len(s2))"
      ],
      "metadata": {
        "colab": {
          "base_uri": "https://localhost:8080/"
        },
        "id": "z7GliN4aPgii",
        "outputId": "1569afba-b56a-441d-9145-b7b0700b1ae1"
      },
      "execution_count": null,
      "outputs": [
        {
          "output_type": "stream",
          "name": "stdout",
          "text": [
            "hello\n",
            "5\n",
            "['hello']\n",
            "1\n"
          ]
        }
      ]
    },
    {
      "cell_type": "code",
      "source": [
        "a=[1,2,3]\n",
        "print(a[0]) #a[i]: i번째의 값을 가리킴\n",
        "print(a[0],a[1],a[2])\n",
        "print(a[-1])\n",
        "print(a[-2])\n",
        "print(a[-3])"
      ],
      "metadata": {
        "colab": {
          "base_uri": "https://localhost:8080/"
        },
        "id": "w_1tilxTPrhu",
        "outputId": "06c5700d-6053-49de-81d2-21aaeeca25e9"
      },
      "execution_count": null,
      "outputs": [
        {
          "output_type": "stream",
          "name": "stdout",
          "text": [
            "1\n",
            "1 2 3\n",
            "3\n",
            "2\n",
            "1\n"
          ]
        }
      ]
    },
    {
      "cell_type": "code",
      "source": [
        "r=range(0,10,2) #range로 인덱싱 됨\n",
        "print(r[0],r[1],r[2])\n",
        "a=[1,2,3]\n",
        "a[0] = 3\n",
        "a[1] = 5\n",
        "a[2] = 10\n",
        "print(a)"
      ],
      "metadata": {
        "colab": {
          "base_uri": "https://localhost:8080/"
        },
        "id": "vhXvRJfiP8Rf",
        "outputId": "d4e66b72-0acf-4d4e-f352-c5a1ebe4e6bf"
      },
      "execution_count": null,
      "outputs": [
        {
          "output_type": "stream",
          "name": "stdout",
          "text": [
            "0 2 4\n",
            "[3, 5, 10]\n"
          ]
        }
      ]
    },
    {
      "cell_type": "code",
      "source": [
        "a=(1,2,3)\n",
        "a[0]=1"
      ],
      "metadata": {
        "id": "uzqRrhyBQvGb"
      },
      "execution_count": null,
      "outputs": []
    },
    {
      "cell_type": "markdown",
      "source": [
        "## 슬라이싱"
      ],
      "metadata": {
        "id": "ftU7_CMYzwH6"
      }
    },
    {
      "cell_type": "code",
      "source": [
        "a= [1,2,3,4,5,6,7,8,9,10]\n",
        "b=a[0:3]\n",
        "print(b)"
      ],
      "metadata": {
        "colab": {
          "base_uri": "https://localhost:8080/"
        },
        "id": "Hu2nejTazxpR",
        "outputId": "a585085c-4ea1-4cb5-dbe1-2c0549b47285"
      },
      "execution_count": null,
      "outputs": [
        {
          "output_type": "stream",
          "name": "stdout",
          "text": [
            "[1, 2, 3]\n"
          ]
        }
      ]
    },
    {
      "cell_type": "code",
      "source": [
        "a= [1,2,3,4,5,6,7,8,9,10]\n",
        "print(a[1:3])\n",
        "print(a[1:7:2]) # 8은 비포함\n",
        "print(a[:5]) # 첫 번째 자리를 비우면 처음 것 부터\n",
        "print(a[5:]) # 두 번째 자리를 비우면 마지막까지\n",
        "print(a[:])"
      ],
      "metadata": {
        "colab": {
          "base_uri": "https://localhost:8080/"
        },
        "id": "j6u7n4cEz8lP",
        "outputId": "4a48234c-72aa-40c4-ce3f-6db22278b9e2"
      },
      "execution_count": null,
      "outputs": [
        {
          "output_type": "stream",
          "name": "stdout",
          "text": [
            "[2, 3]\n",
            "[2, 4, 6]\n",
            "[1, 2, 3, 4, 5]\n",
            "[6, 7, 8, 9, 10]\n",
            "[1, 2, 3, 4, 5, 6, 7, 8, 9, 10]\n"
          ]
        }
      ]
    },
    {
      "cell_type": "code",
      "source": [
        "a=[1,2,3,4,5,6,7,8,9,10]\n",
        "print(a[:7:2])\n",
        "print(a[7::2])\n",
        "print(a[::2])\n",
        "print(a[::]) #a[:]과 동일"
      ],
      "metadata": {
        "colab": {
          "base_uri": "https://localhost:8080/"
        },
        "id": "XNb5cXzu0PNx",
        "outputId": "0432b889-2ad3-4dfa-8896-6dbf17ed019d"
      },
      "execution_count": null,
      "outputs": [
        {
          "output_type": "stream",
          "name": "stdout",
          "text": [
            "[1, 3, 5, 7]\n",
            "[8, 10]\n",
            "[1, 3, 5, 7, 9]\n",
            "[1, 2, 3, 4, 5, 6, 7, 8, 9, 10]\n"
          ]
        }
      ]
    },
    {
      "cell_type": "code",
      "source": [
        "dic1={\"a\":1,\"b\":2, 100:\"5\",200:\"gg\"}\n",
        "print(dic1)\n",
        "#key :value 이고 숫자 문자 뭐든 키, 값이 될 수 있다.\n",
        "# 키에는 수정할 수 없는 튜플은 되고 리스트는 안됨\n",
        "# 값에는 튜플도 되고 리스트도 됨\n",
        "print(dic1[\"a\"],dic1[\"b\"],dic1[100],dic1[200])\n",
        "print(len(dic1.keys()))\n",
        "print(len(dic1.values()))\n",
        "print(dic1.items())"
      ],
      "metadata": {
        "colab": {
          "base_uri": "https://localhost:8080/"
        },
        "id": "tLGFVkS20uoy",
        "outputId": "df6dd571-0bc6-4a4c-fa4b-8a786c6aaed4"
      },
      "execution_count": null,
      "outputs": [
        {
          "output_type": "stream",
          "name": "stdout",
          "text": [
            "{'a': 1, 'b': 2, 100: '5', 200: 'gg'}\n",
            "1 2 5 gg\n",
            "4\n",
            "4\n",
            "dict_items([('a', 1), ('b', 2), (100, '5'), (200, 'gg')])\n"
          ]
        }
      ]
    },
    {
      "cell_type": "code",
      "source": [
        "dict(zip([\"a\",\"b\"],[1,2]))"
      ],
      "metadata": {
        "colab": {
          "base_uri": "https://localhost:8080/"
        },
        "id": "DzwtW5lR1LEs",
        "outputId": "66363def-c10a-414c-d35e-9059544629c0"
      },
      "execution_count": null,
      "outputs": [
        {
          "output_type": "execute_result",
          "data": {
            "text/plain": [
              "{'a': 1, 'b': 2}"
            ]
          },
          "metadata": {},
          "execution_count": 44
        }
      ]
    },
    {
      "cell_type": "code",
      "source": [
        "dic1 = {\"a\":1,\"b\":2, \"c\":3, \"d\":4}\n",
        "dic1[\"a\"]=100;\n",
        "print(dic1)\n",
        "dic1[\"e\"]=\"새로운키\"\n",
        "print(dic1)\n",
        "print(\"a\"in dic1)"
      ],
      "metadata": {
        "colab": {
          "base_uri": "https://localhost:8080/"
        },
        "id": "JMSgDJPx2k16",
        "outputId": "bd53dfb8-d1e5-4514-dfc9-f658a573b2e2"
      },
      "execution_count": null,
      "outputs": [
        {
          "output_type": "stream",
          "name": "stdout",
          "text": [
            "{'a': 100, 'b': 2, 'c': 3, 'd': 4}\n",
            "{'a': 100, 'b': 2, 'c': 3, 'd': 4, 'e': '새로운키'}\n",
            "True\n"
          ]
        }
      ]
    },
    {
      "cell_type": "code",
      "source": [
        "a=5\n",
        "print(a>3)\n",
        "print(a<3)\n",
        "print(a==5)\n",
        "\n",
        "if a>3:\n",
        "    print(\"3보다 큽니다\")\n",
        "\n",
        "if a<3:\n",
        "    print(\"3보다 작습니다.\")\n",
        "\n",
        "if a==5:\n",
        "    print(\"5와 같습니다\")\n"
      ],
      "metadata": {
        "id": "iR4I4pRP3DjL",
        "colab": {
          "base_uri": "https://localhost:8080/"
        },
        "outputId": "6bf53b46-31b0-48f9-86c7-7cf9cdba5473"
      },
      "execution_count": null,
      "outputs": [
        {
          "output_type": "stream",
          "name": "stdout",
          "text": [
            "True\n",
            "False\n",
            "True\n",
            "3보다 큽니다\n",
            "5와 같습니다\n"
          ]
        }
      ]
    },
    {
      "cell_type": "code",
      "source": [
        "a=5\n",
        "if a==5:\n",
        "    print(\"5와\")\n",
        "    print(\"같습니다\")\n",
        "#if a==5:\n",
        "#    print(\"5와\")\n",
        "#    print(\"같습니다\") #오류!\n",
        "print(\"if문 밖으로 나옴. 여기서 부터 계속 실행된다.\")"
      ],
      "metadata": {
        "colab": {
          "base_uri": "https://localhost:8080/"
        },
        "id": "rfDeJSSKsLmY",
        "outputId": "9cae0525-e424-46be-920d-8d8e5d35254d"
      },
      "execution_count": null,
      "outputs": [
        {
          "output_type": "stream",
          "name": "stdout",
          "text": [
            "5와\n",
            "같습니다\n",
            "if문 밖으로 나옴. 여기서 부터 계속 실행된다.\n"
          ]
        }
      ]
    },
    {
      "cell_type": "code",
      "source": [
        "x=15\n",
        "if x>10:\n",
        "    print(\"10보다 크다.\")\n",
        "    if x==15:\n",
        "        print(\"15입니다\")\n",
        "    if x==20:\n",
        "        print(\"20입니다\")\n"
      ],
      "metadata": {
        "colab": {
          "base_uri": "https://localhost:8080/"
        },
        "id": "vWdyaH03t8n8",
        "outputId": "7f4a2528-e433-4f91-9c7f-f0edb2909c4d"
      },
      "execution_count": null,
      "outputs": [
        {
          "output_type": "stream",
          "name": "stdout",
          "text": [
            "10보다 크다.\n",
            "15입니다\n"
          ]
        }
      ]
    },
    {
      "cell_type": "code",
      "source": [
        "x=15\n",
        "if x<10: #애초에 여길 통과 못해서 이 안에 if x==15 이더라도 실행되지 않음!\n",
        "    print(\"10보다 크다.\")\n",
        "    if x==15:\n",
        "        print(\"15입니다\")\n",
        "    if x==20:\n",
        "        print(\"20입니다\")\n"
      ],
      "metadata": {
        "id": "1dcVYdMruTDj"
      },
      "execution_count": null,
      "outputs": []
    },
    {
      "cell_type": "code",
      "source": [
        "x=15\n",
        "if x<10:\n",
        "    print(\"x는 10보다 작습니다(10미만)\")\n",
        "else:\n",
        "    print(\"그 이외 (10 이상)\")\n",
        "    print(\"else도 들여쓰기 영역 모두 실행\")"
      ],
      "metadata": {
        "colab": {
          "base_uri": "https://localhost:8080/"
        },
        "id": "1_n0Cy_2uUUJ",
        "outputId": "42fab55c-7f44-4379-d706-cbd452e5338e"
      },
      "execution_count": null,
      "outputs": [
        {
          "output_type": "stream",
          "name": "stdout",
          "text": [
            "그 이외 (10 이상)\n",
            "else도 들여쓰기 영역 모두 실행\n"
          ]
        }
      ]
    },
    {
      "cell_type": "code",
      "source": [
        "if True:\n",
        "    print(\"여기 들어온다\")\n",
        "else:\n",
        "    print(\"여기 안들어와야한다\")\n",
        "\n",
        "if False:\n",
        "    print(\"여기 들어온다\")\n",
        "else:\n",
        "    print(\"이번엔 여기로 들어와야 함\")"
      ],
      "metadata": {
        "colab": {
          "base_uri": "https://localhost:8080/"
        },
        "id": "9ErlJ_VgvDQK",
        "outputId": "afd27542-f032-458e-c0c6-f31305ece786"
      },
      "execution_count": null,
      "outputs": [
        {
          "output_type": "stream",
          "name": "stdout",
          "text": [
            "여기 들어온다\n",
            "이번엔 여기로 들어와야 함\n"
          ]
        }
      ]
    },
    {
      "cell_type": "code",
      "source": [
        "if \"Hello\":\n",
        "    print(\"글자 있으면 True취급\")\n",
        "else:\n",
        "    print(\"여기 안들어와야한다\")\n",
        "\n",
        "if \"\":\n",
        "    print(\"빈 문자는 False 취급\")\n",
        "else:\n",
        "    print(\"비었으면 일로 온다\")"
      ],
      "metadata": {
        "colab": {
          "base_uri": "https://localhost:8080/"
        },
        "id": "-0VYETS1vVq8",
        "outputId": "29da5b10-ada5-4bac-93d7-368236ef90b5"
      },
      "execution_count": null,
      "outputs": [
        {
          "output_type": "stream",
          "name": "stdout",
          "text": [
            "글자 있으면 True취급\n",
            "비었으면 일로 온다\n"
          ]
        }
      ]
    },
    {
      "cell_type": "code",
      "source": [
        "print(bool(1))\n",
        "print(bool(0))\n",
        "print(bool(\"Hello\"))\n",
        "print(bool(\"\"))"
      ],
      "metadata": {
        "colab": {
          "base_uri": "https://localhost:8080/"
        },
        "id": "1P_m_TfhwAJI",
        "outputId": "b3f8527a-a262-475f-b177-6fb8062b0126"
      },
      "execution_count": null,
      "outputs": [
        {
          "output_type": "stream",
          "name": "stdout",
          "text": [
            "True\n",
            "False\n",
            "True\n",
            "False\n"
          ]
        }
      ]
    },
    {
      "cell_type": "code",
      "source": [
        "a=1\n",
        "b=2\n",
        "if a>0 and b>0:\n",
        "    print(\"둘다 맞아야만 들어옴\")\n",
        "else:\n",
        "    print(\"둘 중 하나라도 안맞으면 여기로!\")"
      ],
      "metadata": {
        "colab": {
          "base_uri": "https://localhost:8080/"
        },
        "id": "bhCFhfyGwFDt",
        "outputId": "278ddbe3-b933-420e-890c-7f8a9f3f678e"
      },
      "execution_count": null,
      "outputs": [
        {
          "output_type": "stream",
          "name": "stdout",
          "text": [
            "둘다 맞아야만 들어옴\n"
          ]
        }
      ]
    },
    {
      "cell_type": "code",
      "source": [
        "a=1\n",
        "b=-1\n",
        "if a>0 or b>0:\n",
        "    print(\"둘 중에 하나라도 맞으면 여기로\")\n",
        "else:\n",
        "    print(\"둘다 아니면 여기로\")"
      ],
      "metadata": {
        "colab": {
          "base_uri": "https://localhost:8080/"
        },
        "id": "31cXxmYVwXPc",
        "outputId": "5b7400cb-cf52-442f-d075-0bf0580f6210"
      },
      "execution_count": null,
      "outputs": [
        {
          "output_type": "stream",
          "name": "stdout",
          "text": [
            "둘 중에 하나라도 맞으면 여기로\n"
          ]
        }
      ]
    },
    {
      "cell_type": "code",
      "source": [
        "a=-1\n",
        "b=-1\n",
        "if a>0 or b>0:\n",
        "    print(\"둘 중에 하나라도 맞으면 여기로\")\n",
        "else:\n",
        "    print(\"둘다 아니면 여기로\")"
      ],
      "metadata": {
        "colab": {
          "base_uri": "https://localhost:8080/"
        },
        "id": "EHrqDZHuwlE1",
        "outputId": "f4f5a9e1-bebf-495a-8671-d37a1488f831"
      },
      "execution_count": null,
      "outputs": [
        {
          "output_type": "stream",
          "name": "stdout",
          "text": [
            "둘다 아니면 여기로\n"
          ]
        }
      ]
    },
    {
      "cell_type": "code",
      "source": [
        "x=10\n",
        "if 0 < x < 20:\n",
        "    print(\"부등호 연달아 써도 된다\")"
      ],
      "metadata": {
        "colab": {
          "base_uri": "https://localhost:8080/"
        },
        "id": "J6OXBsLYwmAN",
        "outputId": "086ec55a-35a3-4916-a978-8279834c467f"
      },
      "execution_count": null,
      "outputs": [
        {
          "output_type": "stream",
          "name": "stdout",
          "text": [
            "부등호 연달아 써도 된다\n"
          ]
        }
      ]
    },
    {
      "cell_type": "code",
      "source": [
        "x=25\n",
        "if  x <10:\n",
        "    print(\"부등호 연달아 써도 된다\")\n",
        "elif x < 50:\n",
        "    print(\"아니면 50보다 작은가?\")"
      ],
      "metadata": {
        "colab": {
          "base_uri": "https://localhost:8080/"
        },
        "id": "bztMZWalwu13",
        "outputId": "e6b7636c-e25f-4dc8-b475-ea9c548221e0"
      },
      "execution_count": null,
      "outputs": [
        {
          "output_type": "stream",
          "name": "stdout",
          "text": [
            "아니면 50보다 작은가?\n"
          ]
        }
      ]
    },
    {
      "cell_type": "code",
      "source": [
        "x=10\n",
        "if  x <10: #가장 먼저 본 애를 실행\n",
        "    print(\"부등호 연달아 써도 된다\")\n",
        "elif x < 100:\n",
        "    print(\"아니면 100보다 작은가?\")\n",
        "else:\n",
        "    print(\"둘다 아닌가?(10보다 작지도, 100보다 작지도 않은건가?)\")"
      ],
      "metadata": {
        "colab": {
          "base_uri": "https://localhost:8080/"
        },
        "id": "LaUf_tSexNxT",
        "outputId": "8db9a04d-99ce-4ee0-859d-39b27e72a6df"
      },
      "execution_count": null,
      "outputs": [
        {
          "output_type": "stream",
          "name": "stdout",
          "text": [
            "아니면 100보다 작은가?\n"
          ]
        }
      ]
    },
    {
      "cell_type": "code",
      "source": [
        "for i in range(5):\n",
        "    print(i)\n",
        "\n"
      ],
      "metadata": {
        "colab": {
          "base_uri": "https://localhost:8080/"
        },
        "id": "wHfLATbDxb9E",
        "outputId": "59115627-604b-4e5b-965e-4da3fb37f96c"
      },
      "execution_count": null,
      "outputs": [
        {
          "output_type": "stream",
          "name": "stdout",
          "text": [
            "0\n",
            "1\n",
            "2\n",
            "3\n",
            "4\n"
          ]
        }
      ]
    },
    {
      "cell_type": "code",
      "source": [
        "for i in range(5,12):\n",
        "    print(i)\n"
      ],
      "metadata": {
        "colab": {
          "base_uri": "https://localhost:8080/"
        },
        "id": "a7iba9zRBmMc",
        "outputId": "e64ec60f-e5ff-47c3-ea58-89a85515e3ae"
      },
      "execution_count": null,
      "outputs": [
        {
          "output_type": "stream",
          "name": "stdout",
          "text": [
            "5\n",
            "6\n",
            "7\n",
            "8\n",
            "9\n",
            "10\n",
            "11\n"
          ]
        }
      ]
    },
    {
      "cell_type": "code",
      "source": [
        "for i in range(5,12,2):\n",
        "    print(i)"
      ],
      "metadata": {
        "colab": {
          "base_uri": "https://localhost:8080/"
        },
        "id": "8OETbwLhCE1q",
        "outputId": "96ad7c1a-0b50-4dc7-d28c-344e857c1df7"
      },
      "execution_count": null,
      "outputs": [
        {
          "output_type": "stream",
          "name": "stdout",
          "text": [
            "5\n",
            "7\n",
            "9\n",
            "11\n"
          ]
        }
      ]
    },
    {
      "cell_type": "code",
      "source": [
        "for i in range(10,0,-1):\n",
        "    print(i)"
      ],
      "metadata": {
        "colab": {
          "base_uri": "https://localhost:8080/"
        },
        "id": "ASGdIzKNCG4N",
        "outputId": "d12905ad-d701-4331-b210-7c47a716ed2b"
      },
      "execution_count": null,
      "outputs": [
        {
          "output_type": "stream",
          "name": "stdout",
          "text": [
            "10\n",
            "9\n",
            "8\n",
            "7\n",
            "6\n",
            "5\n",
            "4\n",
            "3\n",
            "2\n",
            "1\n"
          ]
        }
      ]
    },
    {
      "cell_type": "code",
      "source": [
        "for i in range(3):\n",
        "    for j in range(3):\n",
        "        print(i,j)\n"
      ],
      "metadata": {
        "colab": {
          "base_uri": "https://localhost:8080/"
        },
        "id": "qkz05nqzCJF4",
        "outputId": "fe53de80-e643-457d-d22a-bc6e5bd3b8c9"
      },
      "execution_count": null,
      "outputs": [
        {
          "output_type": "stream",
          "name": "stdout",
          "text": [
            "0 0\n",
            "0 1\n",
            "0 2\n",
            "1 0\n",
            "1 1\n",
            "1 2\n",
            "2 0\n",
            "2 1\n",
            "2 2\n"
          ]
        }
      ]
    },
    {
      "cell_type": "code",
      "source": [
        "i=0\n",
        "while i<5:\n",
        "    print(i)\n",
        "    i +=1\n",
        "print('=')\n",
        "print('i=',i)"
      ],
      "metadata": {
        "colab": {
          "base_uri": "https://localhost:8080/"
        },
        "id": "lDHnENumCokT",
        "outputId": "eb492afa-30c5-45a7-f226-ac88765ffa7a"
      },
      "execution_count": null,
      "outputs": [
        {
          "output_type": "stream",
          "name": "stdout",
          "text": [
            "0\n",
            "1\n",
            "2\n",
            "3\n",
            "4\n",
            "=\n",
            "i= 5\n"
          ]
        }
      ]
    },
    {
      "cell_type": "code",
      "source": [
        "while True:\n",
        "    print(i)\n",
        "    i += 1\n",
        "    if i != 5:\n",
        "        break"
      ],
      "metadata": {
        "colab": {
          "base_uri": "https://localhost:8080/"
        },
        "id": "va4tkGQ-C_VB",
        "outputId": "53027650-cc50-42b2-8290-96622544a19c"
      },
      "execution_count": null,
      "outputs": [
        {
          "output_type": "stream",
          "name": "stdout",
          "text": [
            "5\n"
          ]
        }
      ]
    },
    {
      "cell_type": "code",
      "source": [
        "for i in range(10000000000000000000000000000):\n",
        "    print(i)\n",
        "    if i==5:\n",
        "        break"
      ],
      "metadata": {
        "colab": {
          "base_uri": "https://localhost:8080/"
        },
        "id": "-Ry866lFDrjh",
        "outputId": "bc689df0-7941-4e1e-a601-af579bbd5672"
      },
      "execution_count": null,
      "outputs": [
        {
          "output_type": "stream",
          "name": "stdout",
          "text": [
            "0\n",
            "1\n",
            "2\n",
            "3\n",
            "4\n",
            "5\n"
          ]
        }
      ]
    },
    {
      "cell_type": "code",
      "source": [
        "EPOCH = 10\n",
        "for i in range(EPOCH):\n",
        "    asd = 1\n",
        "    print(asd)\n",
        "    break"
      ],
      "metadata": {
        "colab": {
          "base_uri": "https://localhost:8080/"
        },
        "id": "2TkyelBsEHsk",
        "outputId": "9522b23f-e594-4585-ca00-a0c2ca21ccf9"
      },
      "execution_count": null,
      "outputs": [
        {
          "output_type": "stream",
          "name": "stdout",
          "text": [
            "1\n"
          ]
        }
      ]
    },
    {
      "cell_type": "code",
      "source": [
        "for i in range(10):\n",
        "    if i % 2 == 0:\n",
        "        continue #건너뛰어라\n",
        "    print(i)"
      ],
      "metadata": {
        "colab": {
          "base_uri": "https://localhost:8080/"
        },
        "id": "nPzgde6kE9BM",
        "outputId": "f40afd18-c337-4985-bc2a-333abc903813"
      },
      "execution_count": null,
      "outputs": [
        {
          "output_type": "stream",
          "name": "stdout",
          "text": [
            "1\n",
            "3\n",
            "5\n",
            "7\n",
            "9\n"
          ]
        }
      ]
    },
    {
      "cell_type": "code",
      "source": [
        "i=0\n",
        "while i < 10:\n",
        "    i+=1\n",
        "    if i%2 == 0:\n",
        "        continue\n",
        "    print(i)"
      ],
      "metadata": {
        "colab": {
          "base_uri": "https://localhost:8080/"
        },
        "id": "2eNr41jUFYVo",
        "outputId": "460cd699-4162-40b7-dfea-50a1680e116a"
      },
      "execution_count": null,
      "outputs": [
        {
          "output_type": "stream",
          "name": "stdout",
          "text": [
            "1\n",
            "3\n",
            "5\n",
            "7\n",
            "9\n"
          ]
        }
      ]
    },
    {
      "cell_type": "code",
      "source": [
        "a=[1,2,3,4,5]\n",
        "for i in range(len(a)):\n",
        "    print(i, \"번째에\",a[i],\"가 들어있어요\")"
      ],
      "metadata": {
        "colab": {
          "base_uri": "https://localhost:8080/"
        },
        "id": "gLF3Vt_pFrM3",
        "outputId": "3eb5319d-21e0-46c5-a479-1dca54439219"
      },
      "execution_count": null,
      "outputs": [
        {
          "output_type": "stream",
          "name": "stdout",
          "text": [
            "0 번째에 1 가 들어있어요\n",
            "1 번째에 2 가 들어있어요\n",
            "2 번째에 3 가 들어있어요\n",
            "3 번째에 4 가 들어있어요\n",
            "4 번째에 5 가 들어있어요\n"
          ]
        }
      ]
    },
    {
      "cell_type": "code",
      "source": [
        "a=[1,2,3,4,5]\n",
        "j=1\n",
        "for i in a:\n",
        "    print(j,\"번째에\",i,\"가 들어있어요\")\n",
        "    j+=1"
      ],
      "metadata": {
        "colab": {
          "base_uri": "https://localhost:8080/"
        },
        "id": "269-KZKNF_EI",
        "outputId": "90381c00-b29b-4b31-b7cd-1183af5425c6"
      },
      "execution_count": null,
      "outputs": [
        {
          "output_type": "stream",
          "name": "stdout",
          "text": [
            "1 번째에 1 가 들어있어요\n",
            "2 번째에 2 가 들어있어요\n",
            "3 번째에 3 가 들어있어요\n",
            "4 번째에 4 가 들어있어요\n",
            "5 번째에 5 가 들어있어요\n"
          ]
        }
      ]
    },
    {
      "cell_type": "code",
      "source": [
        "a=[1,2,3,4.5]\n",
        "for i,val in  enumerate(a):\n",
        "    print(i,\"번째에\",val,\"가 들어있어요\")"
      ],
      "metadata": {
        "colab": {
          "base_uri": "https://localhost:8080/"
        },
        "id": "c5tzNbukhE8g",
        "outputId": "7a08627d-fde2-450c-c1d7-0637a3f5aa95"
      },
      "execution_count": null,
      "outputs": [
        {
          "output_type": "stream",
          "name": "stdout",
          "text": [
            "0 번째에 1 가 들어있어요\n",
            "1 번째에 2 가 들어있어요\n",
            "2 번째에 3 가 들어있어요\n",
            "3 번째에 4.5 가 들어있어요\n"
          ]
        }
      ]
    },
    {
      "cell_type": "code",
      "source": [
        "a=[1,2,3,4,5]\n",
        "for i,val in  enumerate(a,start=1):\n",
        "    print(i,\"번째에\",val,\"가 들어있어요\")"
      ],
      "metadata": {
        "colab": {
          "base_uri": "https://localhost:8080/"
        },
        "id": "OSuWOlkfhUXw",
        "outputId": "d293d525-02c6-4a14-de8f-4ae7e7bf0be3"
      },
      "execution_count": null,
      "outputs": [
        {
          "output_type": "stream",
          "name": "stdout",
          "text": [
            "1 번째에 1 가 들어있어요\n",
            "2 번째에 2 가 들어있어요\n",
            "3 번째에 3 가 들어있어요\n",
            "4 번째에 4 가 들어있어요\n",
            "5 번째에 5 가 들어있어요\n"
          ]
        }
      ]
    },
    {
      "cell_type": "code",
      "source": [
        "a='*'\n",
        "for i in range(5):\n",
        "    print(i*a)"
      ],
      "metadata": {
        "colab": {
          "base_uri": "https://localhost:8080/"
        },
        "id": "Uma_xiUPhag0",
        "outputId": "8032bd00-f77f-4556-ec87-dc504744ddf3"
      },
      "execution_count": null,
      "outputs": [
        {
          "output_type": "stream",
          "name": "stdout",
          "text": [
            "\n",
            "*\n",
            "**\n",
            "***\n",
            "****\n"
          ]
        }
      ]
    },
    {
      "cell_type": "code",
      "source": [
        "a=[1,2,3]\n",
        "a.append(4)\n",
        "print(a,\"len(a) =\",len(a))"
      ],
      "metadata": {
        "colab": {
          "base_uri": "https://localhost:8080/"
        },
        "id": "4anakrjdh4DS",
        "outputId": "d6ae3ec6-7f67-40ee-fc44-a49fafe82e84"
      },
      "execution_count": null,
      "outputs": [
        {
          "output_type": "stream",
          "name": "stdout",
          "text": [
            "[1, 2, 3, 4] len(a) = 4\n"
          ]
        }
      ]
    },
    {
      "cell_type": "code",
      "source": [
        "a=[1,2,3]\n",
        "a.append([4,5])\n",
        "print(a,\"len(a) =\",len(a))\n"
      ],
      "metadata": {
        "colab": {
          "base_uri": "https://localhost:8080/"
        },
        "id": "-0LkNCGLiwVV",
        "outputId": "37ea3a89-92fb-4600-d5ba-9828bd699b2d"
      },
      "execution_count": null,
      "outputs": [
        {
          "output_type": "stream",
          "name": "stdout",
          "text": [
            "[1, 2, 3, [4, 5]] len(a) = 4\n"
          ]
        }
      ]
    },
    {
      "cell_type": "code",
      "source": [
        "a=[1,2,3]\n",
        "a.extend([4,5])\n",
        "print(a,\"len(a) =\",len(a))\n"
      ],
      "metadata": {
        "colab": {
          "base_uri": "https://localhost:8080/"
        },
        "id": "gEk8Xv06jMID",
        "outputId": "caabb444-0334-4baa-b6c9-eeb0f052a009"
      },
      "execution_count": null,
      "outputs": [
        {
          "output_type": "stream",
          "name": "stdout",
          "text": [
            "[1, 2, 3, 4, 5] len(a) = 5\n"
          ]
        }
      ]
    },
    {
      "cell_type": "code",
      "source": [
        "a=[1,2,3]\n",
        "a+=[4,5]\n",
        "print(a)"
      ],
      "metadata": {
        "colab": {
          "base_uri": "https://localhost:8080/"
        },
        "id": "kkyVliIBjVaE",
        "outputId": "0699ec6a-0448-46b4-bcea-a5ff52dfab9d"
      },
      "execution_count": null,
      "outputs": [
        {
          "output_type": "stream",
          "name": "stdout",
          "text": [
            "[1, 2, 3, 4, 5]\n"
          ]
        }
      ]
    },
    {
      "cell_type": "code",
      "source": [
        "a=[1,2,3]\n",
        "a.insert(1,100)\n",
        "print(a)"
      ],
      "metadata": {
        "colab": {
          "base_uri": "https://localhost:8080/"
        },
        "id": "rcA61dVSjYoM",
        "outputId": "27c2c63a-920e-4c9f-9c99-8971acf3e9b6"
      },
      "execution_count": null,
      "outputs": [
        {
          "output_type": "stream",
          "name": "stdout",
          "text": [
            "[1, 100, 2, 3]\n"
          ]
        }
      ]
    },
    {
      "cell_type": "code",
      "source": [
        "a=[1,2,3]\n",
        "a.insert(1,[100,200])\n",
        "print(a)"
      ],
      "metadata": {
        "colab": {
          "base_uri": "https://localhost:8080/"
        },
        "id": "AExqXr7ZjfWd",
        "outputId": "b8c3f00c-f513-41e2-8eb5-b627ec8b11f7"
      },
      "execution_count": null,
      "outputs": [
        {
          "output_type": "stream",
          "name": "stdout",
          "text": [
            "[1, [100, 200], 2, 3]\n"
          ]
        }
      ]
    },
    {
      "cell_type": "code",
      "source": [
        "a=[1,2,3]\n",
        "b=[100,200]\n",
        "a[1:2]=b\n",
        "print(a)"
      ],
      "metadata": {
        "colab": {
          "base_uri": "https://localhost:8080/"
        },
        "id": "1IwLDS14jorZ",
        "outputId": "c9c914df-d3cb-486d-cb8e-0752544afb56"
      },
      "execution_count": null,
      "outputs": [
        {
          "output_type": "stream",
          "name": "stdout",
          "text": [
            "[1, 100, 200, 3]\n"
          ]
        }
      ]
    },
    {
      "cell_type": "code",
      "source": [
        "a=[1,2,3]\n",
        "b=[100,200]\n",
        "a[1:1]=b\n",
        "print(a)"
      ],
      "metadata": {
        "colab": {
          "base_uri": "https://localhost:8080/"
        },
        "id": "FBZ4ceSCjyE0",
        "outputId": "a89763b2-96a3-496e-ba22-494912d5fbae"
      },
      "execution_count": null,
      "outputs": [
        {
          "output_type": "stream",
          "name": "stdout",
          "text": [
            "[1, 100, 200, 2, 3]\n"
          ]
        }
      ]
    },
    {
      "cell_type": "code",
      "source": [
        "a=[1,2,3]\n",
        "a.pop()\n",
        "#a.pop()\n",
        "print(a)"
      ],
      "metadata": {
        "colab": {
          "base_uri": "https://localhost:8080/"
        },
        "id": "7DtH46F0j8fB",
        "outputId": "1dae6aa5-7a1c-4bed-9b17-4b355d5ad17a"
      },
      "execution_count": null,
      "outputs": [
        {
          "output_type": "stream",
          "name": "stdout",
          "text": [
            "[1, 2]\n"
          ]
        }
      ]
    },
    {
      "cell_type": "code",
      "source": [
        "a=[1,2,3]\n",
        "a.pop(1)\n",
        "#a.pop()\n",
        "print(a)"
      ],
      "metadata": {
        "colab": {
          "base_uri": "https://localhost:8080/"
        },
        "id": "PYeKyfGRkKDy",
        "outputId": "18255d2c-9f85-4480-83ff-a6127166250c"
      },
      "execution_count": null,
      "outputs": [
        {
          "output_type": "stream",
          "name": "stdout",
          "text": [
            "[1, 3]\n"
          ]
        }
      ]
    },
    {
      "cell_type": "code",
      "source": [
        "a=[1,2,3,4,3,5,3]\n",
        "a.remove(3)\n",
        "print(a)\n",
        "a.remove(3)\n",
        "print(a)"
      ],
      "metadata": {
        "colab": {
          "base_uri": "https://localhost:8080/"
        },
        "id": "jSZjfVeEkNze",
        "outputId": "b8c9f606-9070-4ca7-eeae-fb49bb3bc591"
      },
      "execution_count": null,
      "outputs": [
        {
          "output_type": "stream",
          "name": "stdout",
          "text": [
            "[1, 2, 4, 3, 5, 3]\n",
            "[1, 2, 4, 5, 3]\n"
          ]
        }
      ]
    },
    {
      "cell_type": "code",
      "source": [
        "a=[1,2,3,4,3,5,3]\n",
        "a.index(3)"
      ],
      "metadata": {
        "colab": {
          "base_uri": "https://localhost:8080/"
        },
        "id": "0gqBESiBkavf",
        "outputId": "e7e7ad28-fe49-43dc-d437-4428cd6e4c92"
      },
      "execution_count": null,
      "outputs": [
        {
          "output_type": "execute_result",
          "data": {
            "text/plain": [
              "2"
            ]
          },
          "metadata": {},
          "execution_count": 22
        }
      ]
    },
    {
      "cell_type": "code",
      "source": [
        "a=[1,2,3,4,3,5,3]\n",
        "a.count(2)"
      ],
      "metadata": {
        "colab": {
          "base_uri": "https://localhost:8080/"
        },
        "id": "TCpVJ8D-kwlX",
        "outputId": "94cbf0d2-ae46-4846-8715-63866c9e3fd0"
      },
      "execution_count": null,
      "outputs": [
        {
          "output_type": "execute_result",
          "data": {
            "text/plain": [
              "1"
            ]
          },
          "metadata": {},
          "execution_count": 23
        }
      ]
    },
    {
      "cell_type": "code",
      "source": [
        "a=[1,2,3,4,3,5,3]\n",
        "a.reverse()\n",
        "print(a)"
      ],
      "metadata": {
        "colab": {
          "base_uri": "https://localhost:8080/"
        },
        "id": "Z_p5nPr7k4ky",
        "outputId": "101061e2-281d-4313-da5b-47be58768ed6"
      },
      "execution_count": null,
      "outputs": [
        {
          "output_type": "stream",
          "name": "stdout",
          "text": [
            "[3, 5, 3, 4, 3, 2, 1]\n"
          ]
        }
      ]
    },
    {
      "cell_type": "code",
      "source": [
        "a=[1,2,3,2,7,4,5]\n",
        "a.sort()\n",
        "print(a)"
      ],
      "metadata": {
        "colab": {
          "base_uri": "https://localhost:8080/"
        },
        "id": "VbQx9_2ck7U3",
        "outputId": "eac283ac-f8ee-4920-84a5-1d509d3cd554"
      },
      "execution_count": null,
      "outputs": [
        {
          "output_type": "stream",
          "name": "stdout",
          "text": [
            "[1, 2, 2, 3, 4, 5, 7]\n"
          ]
        }
      ]
    },
    {
      "cell_type": "code",
      "source": [
        "a=[1,2,3,2,7,4,5]\n",
        "a.sort(reverse=True)\n",
        "print(a)"
      ],
      "metadata": {
        "colab": {
          "base_uri": "https://localhost:8080/"
        },
        "id": "JOoLKOdNlFH1",
        "outputId": "a673ca05-d537-4291-c0a9-82ffa0894a4a"
      },
      "execution_count": null,
      "outputs": [
        {
          "output_type": "stream",
          "name": "stdout",
          "text": [
            "[7, 5, 4, 3, 2, 2, 1]\n"
          ]
        }
      ]
    },
    {
      "cell_type": "code",
      "source": [
        "a=[1,2,3]\n",
        "a.clear()\n",
        "print(a)\n"
      ],
      "metadata": {
        "colab": {
          "base_uri": "https://localhost:8080/"
        },
        "id": "wOFvRk2hlJn6",
        "outputId": "bb40526f-b7cd-4d1f-8b07-f4f81b4b1834"
      },
      "execution_count": null,
      "outputs": [
        {
          "output_type": "stream",
          "name": "stdout",
          "text": [
            "[]\n"
          ]
        }
      ]
    },
    {
      "cell_type": "code",
      "source": [
        "a=[1,2,3]\n",
        "b=a\n",
        "b[1]=10\n",
        "print(b)\n",
        "print(a)"
      ],
      "metadata": {
        "colab": {
          "base_uri": "https://localhost:8080/"
        },
        "id": "HrOyZnn3lOVV",
        "outputId": "2dfb5978-092d-4840-9bb4-7dca228f95a9"
      },
      "execution_count": null,
      "outputs": [
        {
          "output_type": "stream",
          "name": "stdout",
          "text": [
            "[1, 10, 3]\n",
            "[1, 10, 3]\n"
          ]
        }
      ]
    },
    {
      "cell_type": "code",
      "source": [
        "a=[1,2,3]\n",
        "b=a.copy()\n",
        "b[1]=10\n",
        "print(b)\n",
        "print(a)"
      ],
      "metadata": {
        "colab": {
          "base_uri": "https://localhost:8080/"
        },
        "id": "eMh68-qdlWz6",
        "outputId": "24d488f3-f54d-434f-9629-c96bd8abacee"
      },
      "execution_count": null,
      "outputs": [
        {
          "output_type": "stream",
          "name": "stdout",
          "text": [
            "[1, 10, 3]\n",
            "[1, 2, 3]\n"
          ]
        }
      ]
    },
    {
      "cell_type": "code",
      "source": [
        "a=[1,2,3]\n",
        "b=a.copy()\n",
        "a is b"
      ],
      "metadata": {
        "colab": {
          "base_uri": "https://localhost:8080/"
        },
        "id": "HwGKXQ3ylkak",
        "outputId": "da598cea-cc1a-48de-d6c0-394925e768b8"
      },
      "execution_count": null,
      "outputs": [
        {
          "output_type": "execute_result",
          "data": {
            "text/plain": [
              "False"
            ]
          },
          "metadata": {},
          "execution_count": 32
        }
      ]
    },
    {
      "cell_type": "code",
      "source": [
        "a=[1,2,3]\n",
        "print(min(a))\n",
        "print(max(a))\n",
        "print(sum(a))\n",
        "print(round(1.515611391,3))"
      ],
      "metadata": {
        "colab": {
          "base_uri": "https://localhost:8080/"
        },
        "id": "a8lIqSHnltuu",
        "outputId": "abe836c3-432f-4bff-f841-8db6461305fb"
      },
      "execution_count": null,
      "outputs": [
        {
          "output_type": "stream",
          "name": "stdout",
          "text": [
            "1\n",
            "3\n",
            "6\n",
            "1.516\n"
          ]
        }
      ]
    },
    {
      "cell_type": "code",
      "source": [
        "a = [i for i in range(5)] #range()\n",
        "print(a)\n"
      ],
      "metadata": {
        "colab": {
          "base_uri": "https://localhost:8080/"
        },
        "id": "tboHZ1LQl8ym",
        "outputId": "6db0e0ba-b381-4428-de52-6fffec522b2d"
      },
      "execution_count": null,
      "outputs": [
        {
          "output_type": "stream",
          "name": "stdout",
          "text": [
            "[0, 1, 2, 3, 4]\n"
          ]
        }
      ]
    },
    {
      "cell_type": "code",
      "source": [
        "a=[i+5 for i in range(5)]\n",
        "print(a)"
      ],
      "metadata": {
        "colab": {
          "base_uri": "https://localhost:8080/"
        },
        "id": "7z5oYa_4rU0u",
        "outputId": "13966a7a-018d-4f10-dd0d-0e7d0b4d597c"
      },
      "execution_count": null,
      "outputs": [
        {
          "output_type": "stream",
          "name": "stdout",
          "text": [
            "[5, 6, 7, 8, 9]\n"
          ]
        }
      ]
    },
    {
      "cell_type": "code",
      "source": [
        "a=[i*2 for i in range(5)]\n",
        "print(a)"
      ],
      "metadata": {
        "colab": {
          "base_uri": "https://localhost:8080/"
        },
        "id": "1APNn85Xrevu",
        "outputId": "d96c15c8-9faf-4a45-8dcb-50814e18e1d6"
      },
      "execution_count": null,
      "outputs": [
        {
          "output_type": "stream",
          "name": "stdout",
          "text": [
            "[0, 2, 4, 6, 8]\n"
          ]
        }
      ]
    },
    {
      "cell_type": "code",
      "source": [
        "a=[i**2 for i in range(5)]\n",
        "print(a)"
      ],
      "metadata": {
        "colab": {
          "base_uri": "https://localhost:8080/"
        },
        "id": "XcfmhIl1r1I6",
        "outputId": "2b99e01f-aeea-44b7-d5bb-770581d8afbb"
      },
      "execution_count": null,
      "outputs": [
        {
          "output_type": "stream",
          "name": "stdout",
          "text": [
            "[0, 1, 4, 9, 16]\n"
          ]
        }
      ]
    },
    {
      "cell_type": "code",
      "source": [
        "a = [i-j for i in range(1,5) for j in range(1,5)]"
      ],
      "metadata": {
        "id": "3i1MDthar6YW"
      },
      "execution_count": null,
      "outputs": []
    },
    {
      "cell_type": "code",
      "source": [
        "a=[]\n",
        "for i in range(1,5):\n",
        "    for j in range(1,5):\n",
        "        a+=[i-j]\n",
        "print(a)"
      ],
      "metadata": {
        "colab": {
          "base_uri": "https://localhost:8080/"
        },
        "id": "sc3WtzgLsFjV",
        "outputId": "f3fd9400-a649-428a-a089-629949f167d1"
      },
      "execution_count": null,
      "outputs": [
        {
          "output_type": "stream",
          "name": "stdout",
          "text": [
            "[0, -1, -2, -3, 1, 0, -1, -2, 2, 1, 0, -1, 3, 2, 1, 0]\n"
          ]
        }
      ]
    },
    {
      "cell_type": "code",
      "source": [
        "a=[i for i in range(10) if i%2==0 ] # range(10) 안의\n",
        "print(a)"
      ],
      "metadata": {
        "colab": {
          "base_uri": "https://localhost:8080/"
        },
        "id": "ygJcdWUysQB5",
        "outputId": "cfbd941b-beff-45b0-c06c-8f424731af15"
      },
      "execution_count": null,
      "outputs": [
        {
          "output_type": "stream",
          "name": "stdout",
          "text": [
            "[0, 2, 4, 6, 8]\n"
          ]
        }
      ]
    },
    {
      "cell_type": "code",
      "source": [
        "a=[]\n",
        "\n",
        "for i in range(10):\n",
        "    if i%2==0:\n",
        "        a+=[i]\n",
        "print(a)"
      ],
      "metadata": {
        "colab": {
          "base_uri": "https://localhost:8080/"
        },
        "id": "GpsjBkdasz8T",
        "outputId": "f89000dc-51ea-49a1-a7b9-d1faa10c45cd"
      },
      "execution_count": null,
      "outputs": [
        {
          "output_type": "stream",
          "name": "stdout",
          "text": [
            "[0, 2, 4, 6, 8]\n"
          ]
        }
      ]
    },
    {
      "cell_type": "code",
      "source": [
        "a=[i for i in range(10) if i>=5 ] # range(10) 안의\n",
        "print(a)"
      ],
      "metadata": {
        "colab": {
          "base_uri": "https://localhost:8080/"
        },
        "id": "DTPCZjmds85J",
        "outputId": "b4204030-0d30-4b9e-9566-4a19381e45ef"
      },
      "execution_count": null,
      "outputs": [
        {
          "output_type": "stream",
          "name": "stdout",
          "text": [
            "[5, 6, 7, 8, 9]\n"
          ]
        }
      ]
    },
    {
      "cell_type": "code",
      "source": [
        "a= [[1,2,3],[4,6]] # a=[\"하나\",\"둘\"]\n",
        "print(a,\"len(a)=\",len(a))\n",
        "b=[[1,2,3],[4,5,6]]\n",
        "print(b)"
      ],
      "metadata": {
        "colab": {
          "base_uri": "https://localhost:8080/"
        },
        "id": "L577pIdrtMm-",
        "outputId": "e78d7892-cd82-4a16-c8e5-0696daf648db"
      },
      "execution_count": null,
      "outputs": [
        {
          "output_type": "stream",
          "name": "stdout",
          "text": [
            "[[1, 2, 3], [4, 6]] len(a)= 2\n",
            "[[1, 2, 3], [4, 5, 6]]\n"
          ]
        }
      ]
    },
    {
      "cell_type": "code",
      "source": [
        "a=[[1,2,3],[4,6]]\n",
        "print(a[0])\n",
        "print(a[1])\n",
        "print(a[0][0],a[0][1],a[0][2])\n",
        "a[1][1]=500"
      ],
      "metadata": {
        "colab": {
          "base_uri": "https://localhost:8080/"
        },
        "id": "53qzcVxut-vy",
        "outputId": "51b82fbe-3009-4686-accc-172b61b73078"
      },
      "execution_count": null,
      "outputs": [
        {
          "output_type": "stream",
          "name": "stdout",
          "text": [
            "[1, 2, 3]\n",
            "[4, 6]\n",
            "1 2 3\n"
          ]
        }
      ]
    },
    {
      "cell_type": "code",
      "source": [
        "a=[[1,2,3],[4,5,6]]\n",
        "\n",
        "for i in a:\n",
        "    print(i)\n",
        "print()\n",
        "for x,y,z in a:\n",
        "    print(x,y,z)\n",
        "\n",
        "for i in a:\n",
        "    for j in i:\n",
        "        print(j,end=\" \")\n",
        "    print()\n",
        "print()\n",
        "\n",
        "for i in range(len(a)):\n",
        "    for j in range(len(a[i])):\n",
        "        print(a[i][j], end=\"\")\n",
        "    print()"
      ],
      "metadata": {
        "colab": {
          "base_uri": "https://localhost:8080/"
        },
        "id": "cdQRx1VKuFwu",
        "outputId": "3b53a010-7209-42fb-f074-cd7eaff73cfd"
      },
      "execution_count": null,
      "outputs": [
        {
          "output_type": "stream",
          "name": "stdout",
          "text": [
            "[1, 2, 3]\n",
            "[4, 5, 6]\n",
            "\n",
            "1 2 3\n",
            "4 5 6\n",
            "1 2 3 \n",
            "4 5 6 \n",
            "\n",
            "123\n",
            "456\n"
          ]
        }
      ]
    },
    {
      "cell_type": "code",
      "source": [
        "a=[]\n",
        "for i in range(3):\n",
        "    line=[]\n",
        "    for i in range(2):\n",
        "        line += [0]\n",
        "    a +=[line]\n",
        "print(a)"
      ],
      "metadata": {
        "colab": {
          "base_uri": "https://localhost:8080/"
        },
        "id": "Yxd5miq7ugSk",
        "outputId": "8a3ba240-e3df-4b0c-cacc-ffc8de226230"
      },
      "execution_count": null,
      "outputs": [
        {
          "output_type": "stream",
          "name": "stdout",
          "text": [
            "[[0, 0], [0, 0], [0, 0]]\n"
          ]
        }
      ]
    },
    {
      "cell_type": "code",
      "source": [
        "a=[ [0 for i in range(2)] for j in range(3)]\n",
        "print(a)"
      ],
      "metadata": {
        "colab": {
          "base_uri": "https://localhost:8080/"
        },
        "id": "uAvWuNDQ-qnx",
        "outputId": "3aedd883-e109-4cbb-97bd-ef0c67d584b6"
      },
      "execution_count": null,
      "outputs": [
        {
          "output_type": "stream",
          "name": "stdout",
          "text": [
            "[[0, 0], [0, 0], [0, 0]]\n"
          ]
        }
      ]
    },
    {
      "cell_type": "code",
      "source": [
        "[[0]*2 for i in range(3)]"
      ],
      "metadata": {
        "colab": {
          "base_uri": "https://localhost:8080/"
        },
        "id": "Y54S3BtJ-8cL",
        "outputId": "64e98cf6-dba2-43f9-8ebc-877dd35b1c0b"
      },
      "execution_count": null,
      "outputs": [
        {
          "output_type": "execute_result",
          "data": {
            "text/plain": [
              "[[0, 0], [0, 0], [0, 0]]"
            ]
          },
          "metadata": {},
          "execution_count": 63
        }
      ]
    },
    {
      "cell_type": "code",
      "source": [
        "a=[3,1,3,2]\n",
        "b=[]\n",
        "for i in a:\n",
        "    line=[]\n",
        "    for j in range(i):\n",
        "        line+=[0]\n",
        "    b+=[line]\n",
        "print(b)\n"
      ],
      "metadata": {
        "colab": {
          "base_uri": "https://localhost:8080/"
        },
        "id": "kqqJrVb1_ocX",
        "outputId": "082c01d4-713a-4bd5-9f50-7268c33e718f"
      },
      "execution_count": null,
      "outputs": [
        {
          "output_type": "stream",
          "name": "stdout",
          "text": [
            "[[0, 0, 0], [0], [0, 0, 0], [0, 0]]\n"
          ]
        }
      ]
    },
    {
      "cell_type": "code",
      "source": [
        "a=[3,1,3,2]\n",
        "b=[[0]*i for i in a]\n",
        "print(b)"
      ],
      "metadata": {
        "colab": {
          "base_uri": "https://localhost:8080/"
        },
        "id": "KVMp_tUzADKM",
        "outputId": "44ac6ae1-9c00-408f-ce6c-641b7bcd3ddb"
      },
      "execution_count": null,
      "outputs": [
        {
          "output_type": "stream",
          "name": "stdout",
          "text": [
            "[[0, 0, 0], [0], [0, 0, 0], [0, 0]]\n"
          ]
        }
      ]
    },
    {
      "cell_type": "code",
      "source": [
        "a=[[1,2],[3,4]]\n",
        "b=a.copy()\n",
        "b[0][0]=100\n",
        "print(a,b)"
      ],
      "metadata": {
        "colab": {
          "base_uri": "https://localhost:8080/"
        },
        "id": "1Yb6cEKlAO_2",
        "outputId": "bf9f2427-dbbd-4299-efc7-847d2d4be5f7"
      },
      "execution_count": null,
      "outputs": [
        {
          "output_type": "stream",
          "name": "stdout",
          "text": [
            "[[100, 2], [3, 4]] [[100, 2], [3, 4]]\n"
          ]
        }
      ]
    },
    {
      "cell_type": "code",
      "source": [
        "import copy\n",
        "a=[[1,2],[3,4]]\n",
        "n=copy.deepcopy(a)\n",
        "b[0][0]=100\n",
        "print(a,b)"
      ],
      "metadata": {
        "colab": {
          "base_uri": "https://localhost:8080/"
        },
        "id": "5LVQelh7Aevk",
        "outputId": "fdb87538-cbcf-4fb2-f8cb-3b8d2b0fc96a"
      },
      "execution_count": null,
      "outputs": [
        {
          "output_type": "stream",
          "name": "stdout",
          "text": [
            "[[1, 2], [3, 4]] [[100, 2], [3, 4]]\n"
          ]
        }
      ]
    },
    {
      "cell_type": "code",
      "source": [
        "print([i for i in range(3) for j in range(3)])\n",
        "a=[]\n",
        "for i in range(3):\n",
        "    for j in range(3):\n",
        "        a += [i]\n",
        "print(a)"
      ],
      "metadata": {
        "colab": {
          "base_uri": "https://localhost:8080/"
        },
        "id": "u2UfbFkRAoSq",
        "outputId": "21fd9c81-dbf3-4f94-cc76-a746a2202bc9"
      },
      "execution_count": null,
      "outputs": [
        {
          "output_type": "stream",
          "name": "stdout",
          "text": [
            "[0, 0, 0, 1, 1, 1, 2, 2, 2]\n",
            "[0, 0, 0, 1, 1, 1, 2, 2, 2]\n"
          ]
        }
      ]
    },
    {
      "cell_type": "code",
      "source": [
        "print([[i for i in range(3)] for j in range(3)])\n",
        "a=[]\n",
        "for i in range(3):\n",
        "    for j in range(3):\n",
        "        a += [i]\n",
        "print(a)"
      ],
      "metadata": {
        "colab": {
          "base_uri": "https://localhost:8080/"
        },
        "id": "pyPrYSQPA7mM",
        "outputId": "1c8807f8-59f0-4422-eb6b-8659e9a4f130"
      },
      "execution_count": null,
      "outputs": [
        {
          "output_type": "stream",
          "name": "stdout",
          "text": [
            "[[0, 1, 2], [0, 1, 2], [0, 1, 2]]\n",
            "[0, 0, 0, 1, 1, 1, 2, 2, 2]\n"
          ]
        }
      ]
    },
    {
      "cell_type": "code",
      "source": [
        "a=1\n",
        "b=2\n",
        "c=\"ㅋㅋ\"\n",
        "\n",
        "print(\"a=\",a,\"b=\",b,\"c=\",c)"
      ],
      "metadata": {
        "colab": {
          "base_uri": "https://localhost:8080/"
        },
        "id": "fMdO_k71BGrY",
        "outputId": "bfd914c0-7b37-453a-ae77-bf65777fe528"
      },
      "execution_count": null,
      "outputs": [
        {
          "output_type": "stream",
          "name": "stdout",
          "text": [
            "a= 1 b= 2 c= ㅋㅋ\n"
          ]
        }
      ]
    },
    {
      "cell_type": "code",
      "source": [
        "a=1\n",
        "b=2\n",
        "c=\"ㅋㅋ\"\n",
        "\n",
        "print(\"a={}, b={}, c={}\".format(a,b,c))"
      ],
      "metadata": {
        "colab": {
          "base_uri": "https://localhost:8080/"
        },
        "id": "EokswA1fBkzN",
        "outputId": "80babfc9-2a96-4a91-dbba-41e89ae92071"
      },
      "execution_count": null,
      "outputs": [
        {
          "output_type": "stream",
          "name": "stdout",
          "text": [
            "a=1, b=2, c=ㅋㅋ\n"
          ]
        }
      ]
    },
    {
      "cell_type": "code",
      "source": [
        "a=1\n",
        "b=2\n",
        "c=\"ㅋㅋ\"\n",
        "\n",
        "print(\"a={0}, b={2}, c={1}\".format(a,b,c))"
      ],
      "metadata": {
        "colab": {
          "base_uri": "https://localhost:8080/"
        },
        "id": "Ft08-826ByJk",
        "outputId": "102485e7-28c0-4b8e-97d8-fae938853de9"
      },
      "execution_count": null,
      "outputs": [
        {
          "output_type": "stream",
          "name": "stdout",
          "text": [
            "a=1, b=ㅋㅋ, c=2\n"
          ]
        }
      ]
    },
    {
      "cell_type": "code",
      "source": [
        "a=1\n",
        "b=2\n",
        "c=\"ㅋㅋ\"\n",
        "\n",
        "print(\"a={num1}, b={num2}, c={str1}\".format(str1=c,num1=a,num2=b))"
      ],
      "metadata": {
        "colab": {
          "base_uri": "https://localhost:8080/"
        },
        "id": "AqRjLMEkB_Yv",
        "outputId": "0129923e-9e53-4714-90c5-e8f901091036"
      },
      "execution_count": null,
      "outputs": [
        {
          "output_type": "stream",
          "name": "stdout",
          "text": [
            "a=1, b=2, c=ㅋㅋ\n"
          ]
        }
      ]
    },
    {
      "cell_type": "code",
      "source": [
        "a=1\n",
        "b=2\n",
        "c=\"ㅋㅋ\"\n",
        "\n",
        "print(f\"a={a}, b={b}, c={c}\")\n",
        "print(f\"a={a}, b={b}, c={c}\")"
      ],
      "metadata": {
        "colab": {
          "base_uri": "https://localhost:8080/"
        },
        "id": "a1r2ixLiCEUt",
        "outputId": "15aefa98-6243-4636-a915-3c051b5fc0ca"
      },
      "execution_count": null,
      "outputs": [
        {
          "output_type": "stream",
          "name": "stdout",
          "text": [
            "a=1, b=2, c=ㅋㅋ\n",
            "a=1, b=2, c=ㅋㅋ\n"
          ]
        }
      ]
    },
    {
      "cell_type": "code",
      "source": [
        "import os\n",
        "folder_name=\"saved\"\n",
        "if not os.path.exists(folder_name):\n",
        "    os.makedirs(folder_name)\n",
        "\n",
        "with open(\"saved/Hello.txt\",\"w\") as f:\n",
        "    f.write(\"Hello world\\n\")\n",
        "    f.write(\"Hello world!2\\n\")\n",
        "    f.write(\"Hello world!3\\n\")\n",
        "\n"
      ],
      "metadata": {
        "id": "0J2PiwmNCUN7"
      },
      "execution_count": null,
      "outputs": []
    },
    {
      "cell_type": "code",
      "source": [
        "with open(\"saved/Hello.txt\",\"r\") as f:\n",
        "    for i in range(3):\n",
        "        s=f.readline()\n",
        "        print(s)"
      ],
      "metadata": {
        "colab": {
          "base_uri": "https://localhost:8080/"
        },
        "id": "f3JNb-lrrnZe",
        "outputId": "c8b864ad-6edf-4f5c-dfa4-84ebc9b70ec4"
      },
      "execution_count": null,
      "outputs": [
        {
          "output_type": "stream",
          "name": "stdout",
          "text": [
            "Hello world\n",
            "\n",
            "Hello world!2\n",
            "\n",
            "Hello world!3\n",
            "\n"
          ]
        }
      ]
    },
    {
      "cell_type": "code",
      "source": [
        "with open(\"saved/Hello.txt\",\"r\") as f:\n",
        "    line=None\n",
        "    while line !=\"\":\n",
        "        line= f.readline()\n",
        "        print(line, end=\"\")"
      ],
      "metadata": {
        "colab": {
          "base_uri": "https://localhost:8080/"
        },
        "id": "1Xugva6Dsv2U",
        "outputId": "2ed88c0a-6f51-4576-9229-4b417c0d9c44"
      },
      "execution_count": null,
      "outputs": [
        {
          "output_type": "stream",
          "name": "stdout",
          "text": [
            "Hello world\n",
            "Hello world!2\n",
            "Hello world!3\n"
          ]
        }
      ]
    },
    {
      "cell_type": "code",
      "source": [
        "def f(x):\n",
        "    return x**2\n",
        "f(-2) #function call"
      ],
      "metadata": {
        "colab": {
          "base_uri": "https://localhost:8080/"
        },
        "id": "yNRFd2lKMusk",
        "outputId": "67eac8cd-b1f8-4869-d705-574762345487"
      },
      "execution_count": null,
      "outputs": [
        {
          "output_type": "execute_result",
          "data": {
            "text/plain": [
              "4"
            ]
          },
          "metadata": {},
          "execution_count": 12
        }
      ]
    },
    {
      "cell_type": "code",
      "source": [
        "def say():\n",
        "    print(\"hello \")\n",
        "say()"
      ],
      "metadata": {
        "colab": {
          "base_uri": "https://localhost:8080/"
        },
        "id": "dnuLUUKQNAIa",
        "outputId": "1c5b7c85-2594-44a7-962f-f34c4954be33"
      },
      "execution_count": null,
      "outputs": [
        {
          "output_type": "stream",
          "name": "stdout",
          "text": [
            "hello \n"
          ]
        }
      ]
    },
    {
      "cell_type": "code",
      "source": [
        "def add(a,b):\n",
        "    print(a+b)\n",
        "add(1,2)"
      ],
      "metadata": {
        "colab": {
          "base_uri": "https://localhost:8080/"
        },
        "id": "oQVA6YfUNSKe",
        "outputId": "08841a43-c808-42de-c9ed-78e9a9bbc94b"
      },
      "execution_count": null,
      "outputs": [
        {
          "output_type": "stream",
          "name": "stdout",
          "text": [
            "3\n"
          ]
        }
      ]
    },
    {
      "cell_type": "code",
      "source": [
        "def add(a,b):\n",
        "    return a+b\n",
        "c = add(1,2)\n",
        "print(c)"
      ],
      "metadata": {
        "colab": {
          "base_uri": "https://localhost:8080/"
        },
        "id": "BpeztFuYNaZ1",
        "outputId": "7ee271a4-b399-4fbe-8bfc-6eec9eaae616"
      },
      "execution_count": null,
      "outputs": [
        {
          "output_type": "stream",
          "name": "stdout",
          "text": [
            "3\n"
          ]
        }
      ]
    },
    {
      "cell_type": "code",
      "source": [
        "def add(a,b):\n",
        "    c=a+b\n",
        "    d=c**2\n",
        "    return c\n",
        "print(add(1,2))\n",
        "print(c) #런타임 다시 시작 이후 실행 -> a,b,c 변수명은 함수 안에서만 쓰인 것\n",
        "#print(a)\n",
        "\n"
      ],
      "metadata": {
        "colab": {
          "base_uri": "https://localhost:8080/",
          "height": 270
        },
        "id": "WgxyorCDNiTc",
        "outputId": "23afc6b9-bece-4b73-9ba4-eef47647a597"
      },
      "execution_count": null,
      "outputs": [
        {
          "output_type": "stream",
          "name": "stdout",
          "text": [
            "3\n"
          ]
        },
        {
          "output_type": "error",
          "ename": "NameError",
          "evalue": "name 'c' is not defined",
          "traceback": [
            "\u001b[0;31m---------------------------------------------------------------------------\u001b[0m",
            "\u001b[0;31mNameError\u001b[0m                                 Traceback (most recent call last)",
            "\u001b[0;32m<ipython-input-2-60108caf127a>\u001b[0m in \u001b[0;36m<cell line: 6>\u001b[0;34m()\u001b[0m\n\u001b[1;32m      4\u001b[0m     \u001b[0;32mreturn\u001b[0m \u001b[0mc\u001b[0m\u001b[0;34m\u001b[0m\u001b[0;34m\u001b[0m\u001b[0m\n\u001b[1;32m      5\u001b[0m \u001b[0mprint\u001b[0m\u001b[0;34m(\u001b[0m\u001b[0madd\u001b[0m\u001b[0;34m(\u001b[0m\u001b[0;36m1\u001b[0m\u001b[0;34m,\u001b[0m\u001b[0;36m2\u001b[0m\u001b[0;34m)\u001b[0m\u001b[0;34m)\u001b[0m\u001b[0;34m\u001b[0m\u001b[0;34m\u001b[0m\u001b[0m\n\u001b[0;32m----> 6\u001b[0;31m \u001b[0mprint\u001b[0m\u001b[0;34m(\u001b[0m\u001b[0mc\u001b[0m\u001b[0;34m)\u001b[0m \u001b[0;31m#런타임 다시 시작 이후 실행 -> a,b,c 변수명은 함수 안에서만 쓰인 것\u001b[0m\u001b[0;34m\u001b[0m\u001b[0;34m\u001b[0m\u001b[0m\n\u001b[0m\u001b[1;32m      7\u001b[0m \u001b[0;31m#print(a)\u001b[0m\u001b[0;34m\u001b[0m\u001b[0;34m\u001b[0m\u001b[0m\n\u001b[1;32m      8\u001b[0m \u001b[0;34m\u001b[0m\u001b[0m\n",
            "\u001b[0;31mNameError\u001b[0m: name 'c' is not defined"
          ]
        }
      ]
    },
    {
      "cell_type": "code",
      "source": [
        "def add_sub(a,b):\n",
        "    c=a+b\n",
        "    d=a-b\n",
        "    return c,d\n",
        "\n",
        "x=add_sub(10,20)\n",
        "print(x)"
      ],
      "metadata": {
        "colab": {
          "base_uri": "https://localhost:8080/"
        },
        "id": "F7JyMT9WPCco",
        "outputId": "0fea6136-6f23-4b8b-f0c2-1ce1bc766f07"
      },
      "execution_count": null,
      "outputs": [
        {
          "output_type": "stream",
          "name": "stdout",
          "text": [
            "(30, -10)\n"
          ]
        }
      ]
    },
    {
      "cell_type": "code",
      "source": [
        "def add(a,b):\n",
        "    return a+b\n",
        "def mul(a,b):\n",
        "    return a*b\n",
        "def show_addmul(a,b):\n",
        "    print(add(a,b))\n",
        "    print(mul(a,b))\n",
        "show_addmul(10,20)"
      ],
      "metadata": {
        "colab": {
          "base_uri": "https://localhost:8080/"
        },
        "id": "JRjdDwfKPSRB",
        "outputId": "45b0ebfc-b5fc-4d1b-b540-5ba6cde0c371"
      },
      "execution_count": null,
      "outputs": [
        {
          "output_type": "stream",
          "name": "stdout",
          "text": [
            "30\n",
            "200\n"
          ]
        }
      ]
    },
    {
      "cell_type": "code",
      "source": [
        "x=(10,20)\n",
        "print(x)\n",
        "print(*x)\n",
        "show_addmul(*x)"
      ],
      "metadata": {
        "colab": {
          "base_uri": "https://localhost:8080/"
        },
        "id": "-BqoOFhJPnMc",
        "outputId": "ee90e08b-fe19-4e2a-c44c-2dbfcc01d254"
      },
      "execution_count": null,
      "outputs": [
        {
          "output_type": "stream",
          "name": "stdout",
          "text": [
            "(10, 20)\n",
            "10 20\n",
            "30\n",
            "200\n"
          ]
        }
      ]
    },
    {
      "cell_type": "code",
      "source": [
        "def my_func(*a):\n",
        "    print(f\"a 에는 {a}가있다. 다립은 {type(a)}라고 한다\")\n",
        "\n",
        "my_func(12,3,4,5)"
      ],
      "metadata": {
        "colab": {
          "base_uri": "https://localhost:8080/"
        },
        "id": "iLkGLADRa-Km",
        "outputId": "239d0fd6-9ba1-4a3b-85dd-ceb1c09ca185"
      },
      "execution_count": null,
      "outputs": [
        {
          "output_type": "stream",
          "name": "stdout",
          "text": [
            "a 에는 (12, 3, 4, 5)가있다. 다립은 <class 'tuple'>라고 한다\n"
          ]
        }
      ]
    },
    {
      "cell_type": "code",
      "source": [
        "def my_func(*args): #args:arguments\n",
        "    print(f\"a 에는 {args}가있다. 다립은 {type(args)}라고 한다\")\n",
        "    for i in args:\n",
        "        print(i)\n",
        "my_func(12,3,4,5)"
      ],
      "metadata": {
        "colab": {
          "base_uri": "https://localhost:8080/"
        },
        "id": "udJok1uHb8mz",
        "outputId": "d459a286-f914-488f-f79a-01e33f45f2c7"
      },
      "execution_count": null,
      "outputs": [
        {
          "output_type": "stream",
          "name": "stdout",
          "text": [
            "a 에는 (12, 3, 4, 5)가있다. 다립은 <class 'tuple'>라고 한다\n",
            "12\n",
            "3\n",
            "4\n",
            "5\n"
          ]
        }
      ]
    },
    {
      "cell_type": "code",
      "source": [
        "def my_func(*args):\n",
        "    for i in args:\n",
        "        print(i)\n",
        "my_func(\"구독자1\")"
      ],
      "metadata": {
        "colab": {
          "base_uri": "https://localhost:8080/"
        },
        "id": "gUtv5AtnceP8",
        "outputId": "296cb526-13fc-47a9-913c-3a201f9ecc2f"
      },
      "execution_count": null,
      "outputs": [
        {
          "output_type": "stream",
          "name": "stdout",
          "text": [
            "구독자1\n"
          ]
        }
      ]
    },
    {
      "cell_type": "code",
      "source": [
        "def introduce(name,age,address):\n",
        "    print(f\"이름은 {name}이고 나이는 {age}살이고 사는 데는 {address}다\")\n",
        "\n",
        "introduce(\"혁펜\",100,\"한국\")\n",
        "introduce(name=\"혁펜\",age=100,address=\"한국\")\n",
        "\n",
        "name= \"혁펜\"\n",
        "address=\"한국\"\n",
        "age=100\n",
        "introduce(name=name,address=address, age=age)\n",
        "\n"
      ],
      "metadata": {
        "colab": {
          "base_uri": "https://localhost:8080/"
        },
        "id": "Jwe8z3Tmc3Rz",
        "outputId": "5d77f4e7-c896-4327-ab5d-a6c13600c6bc"
      },
      "execution_count": null,
      "outputs": [
        {
          "output_type": "stream",
          "name": "stdout",
          "text": [
            "이름은 혁펜이고 나이는 100살이고 사는 데는 한국다\n",
            "이름은 혁펜이고 나이는 100살이고 사는 데는 한국다\n",
            "이름은 혁펜이고 나이는 100살이고 사는 데는 한국다\n"
          ]
        }
      ]
    },
    {
      "cell_type": "code",
      "source": [
        "def introduce1(name,age,address):\n",
        "    print(f\"이름은 {name}이고 나이는 {age}살이고 사는 데는 {address}다\")\n",
        "\n",
        "def introduce2(name,age=\"비밀\",address=\"비밀\"):\n",
        "    print(f\"이름은 {name}이고 나이는 {age}살이고 사는 데는 {address}다\")\n",
        "\n",
        "introduce2(name=\"혁펜\",age=100)\n",
        "introduce2(name=\"혁펜\")\n",
        "introduce2(age)"
      ],
      "metadata": {
        "colab": {
          "base_uri": "https://localhost:8080/"
        },
        "id": "JXVVUU0NdCpo",
        "outputId": "4741127b-733f-49d7-99a2-a6cdd0b6e9a8"
      },
      "execution_count": null,
      "outputs": [
        {
          "output_type": "stream",
          "name": "stdout",
          "text": [
            "이름은 혁펜이고 나이는 100살이고 사는 데는 비밀다\n",
            "이름은 혁펜이고 나이는 비밀살이고 사는 데는 비밀다\n"
          ]
        }
      ]
    },
    {
      "cell_type": "code",
      "source": [
        "def introduce4(name=\"비밀\",age=\"비밀\",address=\"비밀\"):\n",
        "    print(f\"이름은 {name}이고 나이는 {age}살이고 사는 데는 {address}다\")\n",
        "\n",
        "introduce4()"
      ],
      "metadata": {
        "colab": {
          "base_uri": "https://localhost:8080/"
        },
        "id": "EljuX5DseN9U",
        "outputId": "8ee50b46-0264-4f4c-8aed-906405feed9c"
      },
      "execution_count": null,
      "outputs": [
        {
          "output_type": "stream",
          "name": "stdout",
          "text": [
            "이름은 비밀이고 나이는 비밀살이고 사는 데는 비밀다\n"
          ]
        }
      ]
    },
    {
      "cell_type": "code",
      "source": [
        "d={\"name\":\"혁펜\",\"age\":100, \"address\":\"한국\"}\n",
        "print(*d)\n",
        "introduce4(*d)\n",
        "print({**d})\n",
        "introduce4(**d)"
      ],
      "metadata": {
        "colab": {
          "base_uri": "https://localhost:8080/"
        },
        "id": "SHe7LVsce_nc",
        "outputId": "286adefd-0979-4ef1-cc8d-947ad513bd38"
      },
      "execution_count": null,
      "outputs": [
        {
          "output_type": "stream",
          "name": "stdout",
          "text": [
            "name age address\n",
            "이름은 name이고 나이는 age살이고 사는 데는 address다\n",
            "{'name': '혁펜', 'age': 100, 'address': '한국'}\n",
            "이름은 혁펜이고 나이는 100살이고 사는 데는 한국다\n"
          ]
        }
      ]
    },
    {
      "cell_type": "code",
      "source": [
        "def my_func(**kwargs):\n",
        "    print(f\"k 에는 {kwargs}가 들어있다, 타입은 {type(kwargs)}라고 한다\")\n",
        "\n",
        "my_func(name=\"혁펜\")\n",
        "my_func(name=\"혁펜\",age=100,address=\"한국\")"
      ],
      "metadata": {
        "colab": {
          "base_uri": "https://localhost:8080/"
        },
        "id": "guLbDjPbfRgF",
        "outputId": "fcd9ae81-3bf5-4ce6-9130-4813aac005c2"
      },
      "execution_count": null,
      "outputs": [
        {
          "output_type": "stream",
          "name": "stdout",
          "text": [
            "k 에는 {'name': '혁펜'}가 들어있다, 타입은 <class 'dict'>라고 한다\n",
            "k 에는 {'name': '혁펜', 'age': 100, 'address': '한국'}가 들어있다, 타입은 <class 'dict'>라고 한다\n"
          ]
        }
      ]
    },
    {
      "cell_type": "code",
      "source": [
        "def introduce(**kwargs):\n",
        "    if \"name\"in kwargs:\n",
        "        print(\"이름은\",kwargs[\"name\"],\"입니다\")\n",
        "    if \"age\" in kwargs:\n",
        "        print(\"이름은\",kwargs[\"name\"],\"입니다\")\n",
        "    if \"address\" in kwargs:\n",
        "        print(\"사는 곳은\", kwargs[\"address\"], \"입니다\")\n",
        "\n",
        "introduce(name=\"혁펜\", age=100, address=\"한국\")\n",
        "introduce(name=\"혁펜\")"
      ],
      "metadata": {
        "colab": {
          "base_uri": "https://localhost:8080/"
        },
        "id": "c1Z78ApNq5tm",
        "outputId": "8820205a-f596-4586-c273-bce133bcb5cf"
      },
      "execution_count": null,
      "outputs": [
        {
          "output_type": "stream",
          "name": "stdout",
          "text": [
            "이름은 혁펜 입니다\n",
            "이름은 혁펜 입니다\n",
            "사는 곳은 한국 입니다\n",
            "이름은 혁펜 입니다\n"
          ]
        }
      ]
    },
    {
      "cell_type": "code",
      "source": [
        "def say(): #이런걸 재귀 함수라고 함\n",
        "    print(\"Hello World!\")\n",
        "    say()\n",
        "\n"
      ],
      "metadata": {
        "id": "QShFn89psD6I"
      },
      "execution_count": null,
      "outputs": []
    },
    {
      "cell_type": "code",
      "source": [
        "def say(count):\n",
        "    if count ==0:\n",
        "        return\n",
        "    print(\"Hello World\")\n",
        "    count-=1\n",
        "    say(count)\n",
        "\n",
        "say(3)"
      ],
      "metadata": {
        "colab": {
          "base_uri": "https://localhost:8080/"
        },
        "id": "FtxIFV1tswMA",
        "outputId": "04632824-0ea6-49f0-a0c0-0e6f72b38668"
      },
      "execution_count": null,
      "outputs": [
        {
          "output_type": "stream",
          "name": "stdout",
          "text": [
            "Hello World\n",
            "Hello World\n",
            "Hello World\n"
          ]
        }
      ]
    },
    {
      "cell_type": "markdown",
      "source": [
        "##로컬변수와 글로벌변수"
      ],
      "metadata": {
        "id": "9jzrPsUAcNvn"
      }
    },
    {
      "cell_type": "code",
      "source": [
        "EPOCH = 2\n",
        "BATCH = 5 #글로벌변수\n",
        "\n",
        "def train(weight):#weight는 매개변수\n",
        "    x = 1 # x는 로컬변수\n",
        "    for i in range(EPOCH):\n",
        "        for j in range(BATCH):\n",
        "            print(f\"{i}번째 EPOnch이며 {j}번째 batch입니다\")\n",
        "            weight +=1\n",
        "    return weight\n",
        "\n",
        "train(0)"
      ],
      "metadata": {
        "colab": {
          "base_uri": "https://localhost:8080/"
        },
        "id": "GAp96Hd6s4b-",
        "outputId": "f2120322-2dad-431e-bc7f-4fa1e1bf2b75"
      },
      "execution_count": null,
      "outputs": [
        {
          "output_type": "stream",
          "name": "stdout",
          "text": [
            "0번째 EPOnch이며 0번째 batch입니다\n",
            "0번째 EPOnch이며 1번째 batch입니다\n",
            "0번째 EPOnch이며 2번째 batch입니다\n",
            "0번째 EPOnch이며 3번째 batch입니다\n",
            "0번째 EPOnch이며 4번째 batch입니다\n",
            "1번째 EPOnch이며 0번째 batch입니다\n",
            "1번째 EPOnch이며 1번째 batch입니다\n",
            "1번째 EPOnch이며 2번째 batch입니다\n",
            "1번째 EPOnch이며 3번째 batch입니다\n",
            "1번째 EPOnch이며 4번째 batch입니다\n"
          ]
        },
        {
          "output_type": "execute_result",
          "data": {
            "text/plain": [
              "10"
            ]
          },
          "metadata": {},
          "execution_count": 1
        }
      ]
    },
    {
      "cell_type": "code",
      "source": [
        "def f():\n",
        "    global x # 안에서 글로벌 변수를 만들 수 있다\n",
        "    x=20\n",
        "    print(x)\n",
        "f()\n",
        "print(x)"
      ],
      "metadata": {
        "colab": {
          "base_uri": "https://localhost:8080/"
        },
        "id": "96MIx_RadcWa",
        "outputId": "9c792dfc-9a8c-4ffb-ba5b-0b281291334d"
      },
      "execution_count": null,
      "outputs": [
        {
          "output_type": "stream",
          "name": "stdout",
          "text": [
            "20\n",
            "20\n"
          ]
        }
      ]
    },
    {
      "cell_type": "code",
      "source": [
        "x=10\n",
        "def f():\n",
        "    print(x)\n",
        "    x=100\n",
        "    # print(x)\n",
        "f()\n",
        "print(x)"
      ],
      "metadata": {
        "colab": {
          "base_uri": "https://localhost:8080/",
          "height": 359
        },
        "id": "JTVWRdacd5lR",
        "outputId": "92f8d3f5-0b6a-4054-af31-12f506853961"
      },
      "execution_count": null,
      "outputs": [
        {
          "output_type": "error",
          "ename": "UnboundLocalError",
          "evalue": "local variable 'x' referenced before assignment",
          "traceback": [
            "\u001b[0;31m---------------------------------------------------------------------------\u001b[0m",
            "\u001b[0;31mUnboundLocalError\u001b[0m                         Traceback (most recent call last)",
            "\u001b[0;32m<ipython-input-3-4ca059353e24>\u001b[0m in \u001b[0;36m<cell line: 6>\u001b[0;34m()\u001b[0m\n\u001b[1;32m      4\u001b[0m     \u001b[0mx\u001b[0m\u001b[0;34m=\u001b[0m\u001b[0;36m100\u001b[0m\u001b[0;34m\u001b[0m\u001b[0;34m\u001b[0m\u001b[0m\n\u001b[1;32m      5\u001b[0m     \u001b[0;31m# print(x)\u001b[0m\u001b[0;34m\u001b[0m\u001b[0;34m\u001b[0m\u001b[0m\n\u001b[0;32m----> 6\u001b[0;31m \u001b[0mf\u001b[0m\u001b[0;34m(\u001b[0m\u001b[0;34m)\u001b[0m\u001b[0;34m\u001b[0m\u001b[0;34m\u001b[0m\u001b[0m\n\u001b[0m\u001b[1;32m      7\u001b[0m \u001b[0mprint\u001b[0m\u001b[0;34m(\u001b[0m\u001b[0mx\u001b[0m\u001b[0;34m)\u001b[0m\u001b[0;34m\u001b[0m\u001b[0;34m\u001b[0m\u001b[0m\n",
            "\u001b[0;32m<ipython-input-3-4ca059353e24>\u001b[0m in \u001b[0;36mf\u001b[0;34m()\u001b[0m\n\u001b[1;32m      1\u001b[0m \u001b[0mx\u001b[0m\u001b[0;34m=\u001b[0m\u001b[0;36m10\u001b[0m\u001b[0;34m\u001b[0m\u001b[0;34m\u001b[0m\u001b[0m\n\u001b[1;32m      2\u001b[0m \u001b[0;32mdef\u001b[0m \u001b[0mf\u001b[0m\u001b[0;34m(\u001b[0m\u001b[0;34m)\u001b[0m\u001b[0;34m:\u001b[0m\u001b[0;34m\u001b[0m\u001b[0;34m\u001b[0m\u001b[0m\n\u001b[0;32m----> 3\u001b[0;31m     \u001b[0mprint\u001b[0m\u001b[0;34m(\u001b[0m\u001b[0mx\u001b[0m\u001b[0;34m)\u001b[0m\u001b[0;34m\u001b[0m\u001b[0;34m\u001b[0m\u001b[0m\n\u001b[0m\u001b[1;32m      4\u001b[0m     \u001b[0mx\u001b[0m\u001b[0;34m=\u001b[0m\u001b[0;36m100\u001b[0m\u001b[0;34m\u001b[0m\u001b[0;34m\u001b[0m\u001b[0m\n\u001b[1;32m      5\u001b[0m     \u001b[0;31m# print(x)\u001b[0m\u001b[0;34m\u001b[0m\u001b[0;34m\u001b[0m\u001b[0m\n",
            "\u001b[0;31mUnboundLocalError\u001b[0m: local variable 'x' referenced before assignment"
          ]
        }
      ]
    },
    {
      "cell_type": "code",
      "source": [
        "x=10\n",
        "def f():\n",
        "    global x\n",
        "    x=20\n",
        "    print(x)\n",
        "\n",
        "f()\n",
        "print(x)"
      ],
      "metadata": {
        "colab": {
          "base_uri": "https://localhost:8080/"
        },
        "id": "OhWsNf7bebpq",
        "outputId": "ac889ce8-b488-4b51-8f10-e288275d9bc9"
      },
      "execution_count": null,
      "outputs": [
        {
          "output_type": "stream",
          "name": "stdout",
          "text": [
            "20\n",
            "20\n"
          ]
        }
      ]
    },
    {
      "cell_type": "code",
      "source": [
        "def plus_ten(x):\n",
        "    return x+10\n",
        "plus_ten(10)"
      ],
      "metadata": {
        "colab": {
          "base_uri": "https://localhost:8080/"
        },
        "id": "DWu0HAW8euJS",
        "outputId": "87eabe46-b96a-4b37-9520-f82dc347016a"
      },
      "execution_count": null,
      "outputs": [
        {
          "output_type": "execute_result",
          "data": {
            "text/plain": [
              "20"
            ]
          },
          "metadata": {},
          "execution_count": 1
        }
      ]
    },
    {
      "cell_type": "code",
      "source": [
        "plus_ten=lambda x: x+10 # 입력이 x, 출력이 x+10\n",
        "plus_ten(10)"
      ],
      "metadata": {
        "colab": {
          "base_uri": "https://localhost:8080/",
          "height": 199
        },
        "id": "0CGT9tM3yrVj",
        "outputId": "e8a6b198-21b6-48b8-a622-ecea414b0ab1"
      },
      "execution_count": null,
      "outputs": [
        {
          "output_type": "error",
          "ename": "NameError",
          "evalue": "name 'plus' is not defined",
          "traceback": [
            "\u001b[0;31m---------------------------------------------------------------------------\u001b[0m",
            "\u001b[0;31mNameError\u001b[0m                                 Traceback (most recent call last)",
            "\u001b[0;32m<ipython-input-2-9de033654c02>\u001b[0m in \u001b[0;36m<cell line: 2>\u001b[0;34m()\u001b[0m\n\u001b[1;32m      1\u001b[0m \u001b[0mplus_ten\u001b[0m\u001b[0;34m=\u001b[0m\u001b[0;32mlambda\u001b[0m \u001b[0mx\u001b[0m\u001b[0;34m:\u001b[0m \u001b[0mx\u001b[0m\u001b[0;34m+\u001b[0m\u001b[0;36m10\u001b[0m \u001b[0;31m# 입력이 x, 출력이 x+10\u001b[0m\u001b[0;34m\u001b[0m\u001b[0;34m\u001b[0m\u001b[0m\n\u001b[0;32m----> 2\u001b[0;31m \u001b[0mplus\u001b[0m\u001b[0;34m+\u001b[0m\u001b[0mten\u001b[0m\u001b[0;34m(\u001b[0m\u001b[0;36m10\u001b[0m\u001b[0;34m)\u001b[0m\u001b[0;34m\u001b[0m\u001b[0;34m\u001b[0m\u001b[0m\n\u001b[0m",
            "\u001b[0;31mNameError\u001b[0m: name 'plus' is not defined"
          ]
        }
      ]
    },
    {
      "cell_type": "code",
      "source": [
        "(lambda x: x+10)(10)"
      ],
      "metadata": {
        "colab": {
          "base_uri": "https://localhost:8080/"
        },
        "id": "fS8MXbNzy-Hv",
        "outputId": "44546e30-cec8-44b6-f282-f60b5134adeb"
      },
      "execution_count": null,
      "outputs": [
        {
          "output_type": "execute_result",
          "data": {
            "text/plain": [
              "20"
            ]
          },
          "metadata": {},
          "execution_count": 3
        }
      ]
    },
    {
      "cell_type": "code",
      "source": [
        "def plus_ten(x):\n",
        "    return x+10\n",
        "list(map(plus_ten, [1,2,3]))\n",
        "# 넣을 녀석들(list)을 넣어주면 여러번 call 해서 값을 얻는다\n",
        "print(list(map(lambda x:x+10, [1,2,3])))"
      ],
      "metadata": {
        "colab": {
          "base_uri": "https://localhost:8080/"
        },
        "id": "hkxg9g48zFrc",
        "outputId": "22c7f576-a386-4f13-adcc-f5eb74a7e336"
      },
      "execution_count": null,
      "outputs": [
        {
          "output_type": "stream",
          "name": "stdout",
          "text": [
            "[11, 12, 13]\n"
          ]
        }
      ]
    },
    {
      "cell_type": "code",
      "source": [
        "f = lambda a,b: a+b\n",
        "f(10,20)"
      ],
      "metadata": {
        "colab": {
          "base_uri": "https://localhost:8080/"
        },
        "id": "k8roBArXz7L4",
        "outputId": "8249d195-5ab6-4243-af79-6f4879f00c5e"
      },
      "execution_count": null,
      "outputs": [
        {
          "output_type": "execute_result",
          "data": {
            "text/plain": [
              "30"
            ]
          },
          "metadata": {},
          "execution_count": 6
        }
      ]
    },
    {
      "cell_type": "code",
      "source": [
        "f = lambda a,b:a+b\n",
        "list(map(f,[1,2,3],[2,3,4]))"
      ],
      "metadata": {
        "colab": {
          "base_uri": "https://localhost:8080/"
        },
        "id": "N4iJ_aNg0Dwu",
        "outputId": "20a66e18-f2e2-4230-9a52-94ec244b206b"
      },
      "execution_count": null,
      "outputs": [
        {
          "output_type": "execute_result",
          "data": {
            "text/plain": [
              "[3, 5, 7]"
            ]
          },
          "metadata": {},
          "execution_count": 7
        }
      ]
    },
    {
      "cell_type": "code",
      "source": [
        "def add_1(a,b):\n",
        "    c=1\n",
        "    return a+b+c\n",
        "print(add_1(10,20))"
      ],
      "metadata": {
        "colab": {
          "base_uri": "https://localhost:8080/"
        },
        "id": "u0OXHQBt0Tic",
        "outputId": "d413322b-0980-4301-eab4-a616f8f7d7fb"
      },
      "execution_count": null,
      "outputs": [
        {
          "output_type": "stream",
          "name": "stdout",
          "text": [
            "31\n"
          ]
        }
      ]
    },
    {
      "cell_type": "code",
      "source": [
        "def add_mul(a,b):\n",
        "    return a+b, a*b\n",
        "\n",
        "add_mul(10,20)\n",
        "\n",
        "(lambda a,b:a+b)(10,20)\n"
      ],
      "metadata": {
        "colab": {
          "base_uri": "https://localhost:8080/"
        },
        "id": "Z-62VoIX0i5J",
        "outputId": "cad4cef4-687d-40ac-aacb-01a6d706b78b"
      },
      "execution_count": null,
      "outputs": [
        {
          "output_type": "execute_result",
          "data": {
            "text/plain": [
              "30"
            ]
          },
          "metadata": {},
          "execution_count": 9
        }
      ]
    },
    {
      "cell_type": "code",
      "source": [
        "def func(x):\n",
        "    if x%2 == 0:\n",
        "        return 2*x\n",
        "    else:\n",
        "        return x\n",
        "list(map(func,[1,2,3,4]))\n",
        "\n",
        "f = lambda x:2*x if x%2==0 else x\n",
        "print(list(map(func,[1,2,3,4])))\n"
      ],
      "metadata": {
        "colab": {
          "base_uri": "https://localhost:8080/"
        },
        "id": "Fn3qQnzc1mUT",
        "outputId": "0bd8881f-2e97-4746-a065-7fa20cd0e196"
      },
      "execution_count": null,
      "outputs": [
        {
          "output_type": "execute_result",
          "data": {
            "text/plain": [
              "[1, 2, 3, 2]"
            ]
          },
          "metadata": {},
          "execution_count": 10
        }
      ]
    },
    {
      "cell_type": "code",
      "source": [
        "# 로봇을 만든다고 해보자 ->로봇의 키가 몇이고 몸무게가 몇이고, 손을 흔들며 인사를 한다.\n",
        "# 클래스는 좀 큰 변수를 만든다고 봐야... a=1 은 숫자 한 개 들어간 변수\n",
        "# a에 숫자 한 개도 넣고 리스트도 넣고 그것들을 가지고 기능을 하는 함수를\n",
        "#객체 지향 프로그래밍\n",
        "\n",
        "class Robot:\n",
        "    def greeting(self): # 메서드(method): 클래스 내부의 함수, 첫 번째 매개변수는 무조건 self\n",
        "        print(\"Hello\")\n",
        "\n",
        "bot1 = Robot() #Robot 이라는 클래스에 해당하는 instance 만들기(실체화), 나중에는 입력도 넣을거라 () 붙여야함\n",
        "bot1.greeting() #쩜은 '이놈이 가지고 있는\"정도의 의미"
      ],
      "metadata": {
        "colab": {
          "base_uri": "https://localhost:8080/"
        },
        "id": "xvWBnv0915Kq",
        "outputId": "f27357b5-0994-4a96-eb47-5c7889c5478e"
      },
      "execution_count": null,
      "outputs": [
        {
          "output_type": "stream",
          "name": "stdout",
          "text": [
            "Hello\n"
          ]
        }
      ]
    },
    {
      "cell_type": "code",
      "source": [
        "a=[1,2,3] #인스턴스 생성\n",
        "a.append(4) # a라는 이름의 인스턴스 append 라는 이름의 method를 실행한다.\n",
        "print(type(a))"
      ],
      "metadata": {
        "colab": {
          "base_uri": "https://localhost:8080/"
        },
        "id": "0uB_oPVgGgY1",
        "outputId": "0556b251-e9b1-49be-b2d4-a544b6276852"
      },
      "execution_count": null,
      "outputs": [
        {
          "output_type": "stream",
          "name": "stdout",
          "text": [
            "<class 'list'>\n"
          ]
        }
      ]
    },
    {
      "cell_type": "code",
      "source": [
        "class Robot:\n",
        "    def __init__(self): #initialize 라서 init, 인스턴스 생성 즉시 이 함수로 들어옴\n",
        "    # 이 함수명은 약속된 이름이다 (special method)\n",
        "        print(\"__init__으로 들어옴\")\n",
        "\n",
        "bot1 = Robot() #인스턴스 만드는 동시에 __init__ 함수 실행"
      ],
      "metadata": {
        "colab": {
          "base_uri": "https://localhost:8080/"
        },
        "id": "pKTVVtGQGuLF",
        "outputId": "787df78d-0b23-4256-f64e-ffc1c7269b88"
      },
      "execution_count": null,
      "outputs": [
        {
          "output_type": "stream",
          "name": "stdout",
          "text": [
            "__init__으로 들어옴\n"
          ]
        }
      ]
    },
    {
      "cell_type": "code",
      "source": [
        "class Robot:\n",
        "    def __init__(self):\n",
        "        self.sentence=\"안녕\"\n",
        "        #self는 만들어진 인스턴스 자기자신 자체를 가리킴.\n",
        "        #self.무엇은 self 내부의 것(변수,함수)를 가리킴\n",
        "        #클래스 내부의 변수는 속성(attribute)이라고 한다.\n",
        "\n",
        "    def greeting(self):\n",
        "        print(self.sentence)\n",
        "\n",
        "bot1 = Robot()\n",
        "bot1.greeting()"
      ],
      "metadata": {
        "colab": {
          "base_uri": "https://localhost:8080/"
        },
        "id": "A3fTblsIHZ-b",
        "outputId": "ff65063e-4b53-4cca-f333-5bb7757fb120"
      },
      "execution_count": null,
      "outputs": [
        {
          "output_type": "stream",
          "name": "stdout",
          "text": [
            "안녕\n"
          ]
        }
      ]
    },
    {
      "cell_type": "code",
      "source": [
        "class Robot:\n",
        "    def __init__(self, height, sentence): #밖에서 넘어오는 매개변수는 무조건 self 뒤에\n",
        "        self.height = height\n",
        "        self.sentence = sentence\n",
        "    def greeting(self):\n",
        "        print(self.sentence)\n",
        "        print(f\"제 키는{self.height}이에요\")\n",
        "\n",
        "bot1 = Robot(180, \"안녕\")\n",
        "bot1.greeting()\n",
        "\n",
        "print(bot1.height)\n",
        "print(bot1.sentence)\n",
        "bot1.height -=10\n",
        "bot1.greeting()\n",
        "\n",
        "\n",
        "bot2 = Robot(160,\"하이\")"
      ],
      "metadata": {
        "colab": {
          "base_uri": "https://localhost:8080/"
        },
        "id": "mssWZHh0WNi0",
        "outputId": "1fcb9515-1b98-4a0f-fe8a-19b2dc97f74d"
      },
      "execution_count": null,
      "outputs": [
        {
          "output_type": "stream",
          "name": "stdout",
          "text": [
            "안녕\n",
            "제 키는180이에요\n",
            "180\n",
            "안녕\n",
            "안녕\n",
            "제 키는170이에요\n"
          ]
        }
      ]
    },
    {
      "cell_type": "code",
      "source": [
        "class Robot:\n",
        "    def __init__(self, height, sentence): #밖에서 넘어오는 매개변수는 무조건 self 뒤에\n",
        "        self.__height = height #비공개로 만들고 싶은 속성은 앞에 밑줄 두 개\n",
        "        self.sentence = sentence\n",
        "    def greeting(self):\n",
        "        print(self.sentence)\n",
        "        self.__height-=10 #클래스 내부에서는 변형 가능\n",
        "        print(f\"제 키는{self.__height}이에요\")\n",
        "\n",
        "bot1 = Robot(180,\"hi\")\n",
        "bot1.greeting()\n",
        "#error! self.height는 밖에서 접근이 안된다..!\n",
        "bot1.sentence =\"ㅋ\"\n",
        "print(bot1.sentence)"
      ],
      "metadata": {
        "colab": {
          "base_uri": "https://localhost:8080/"
        },
        "id": "crzA0KezXVEv",
        "outputId": "697ab8eb-f809-4953-a128-b8ffc66a2929"
      },
      "execution_count": null,
      "outputs": [
        {
          "output_type": "stream",
          "name": "stdout",
          "text": [
            "hi\n",
            "제 키는170이에요\n",
            "ㅋ\n"
          ]
        }
      ]
    },
    {
      "cell_type": "code",
      "source": [
        "#상속 -> 효율화\n",
        "class Robot: # 부모 클래스\n",
        "    def greeting(self):\n",
        "        print(\"안녕하세요\")\n",
        "\n",
        "class Study_bot(Robot): #자식 클래스, Robot 클래스를 상속 받음 -> Robot이 가지는 함수 사용 가능!\n",
        "    def study(self):\n",
        "        print(\"열심열심!!\")\n",
        "\n",
        "bot = Study_bot()\n",
        "bot.greeting()\n",
        "bot.study()\n",
        "\n",
        "\n"
      ],
      "metadata": {
        "id": "QiUH5YZ8jzTW",
        "colab": {
          "base_uri": "https://localhost:8080/"
        },
        "outputId": "e9cdb408-c6c2-4e39-a79c-1e686f00112c"
      },
      "execution_count": null,
      "outputs": [
        {
          "output_type": "stream",
          "name": "stdout",
          "text": [
            "안녕하세요\n",
            "열심열심!!\n"
          ]
        }
      ]
    },
    {
      "cell_type": "code",
      "source": [
        "# 메서드 오버라이딩 (overriding)\n",
        "class Robot:\n",
        "    def greeting(self):\n",
        "        print(\"안녕하세요\")\n",
        "\n",
        "class Study_bot(Robot):\n",
        "    def greeting(self):\n",
        "        print(\"공부하는 로봇입니다\")\n",
        "\n",
        "bot1 = Study_bot()\n",
        "bot1.greeting()"
      ],
      "metadata": {
        "colab": {
          "base_uri": "https://localhost:8080/"
        },
        "id": "Czjh5OK5PTpr",
        "outputId": "a1c31384-d95b-4570-bab7-dba323f07a42"
      },
      "execution_count": null,
      "outputs": [
        {
          "output_type": "stream",
          "name": "stdout",
          "text": [
            "공부하는 로봇입니다\n"
          ]
        }
      ]
    },
    {
      "cell_type": "code",
      "source": [
        "# 메서드 오버라이딩 (overriding)\n",
        "class Robot:\n",
        "    def greeting(self):\n",
        "        print(\"로봇입니다\")\n",
        "\n",
        "class Study_bot(Robot):\n",
        "    def greeting(self):\n",
        "        super().greeting() # super()가 부모클래스를 가리킴 #부모의 것을 이렇게 사용하는 것 가능\n",
        "        print(\"공부하는 로봇입니다\") #부모의 원래 기능은 유지, 거기에 덧붙이고 싶을 때 오버라이딩 사용 가능\n",
        "\n",
        "bot1 = Study_bot()\n",
        "bot1.greeting()"
      ],
      "metadata": {
        "colab": {
          "base_uri": "https://localhost:8080/"
        },
        "id": "hSgobdVQQNIq",
        "outputId": "646af1e6-d6b1-4273-e11b-797910e38bfc"
      },
      "execution_count": null,
      "outputs": [
        {
          "output_type": "stream",
          "name": "stdout",
          "text": [
            "로봇입니다\n",
            "공부하는 로봇입니다\n"
          ]
        }
      ]
    },
    {
      "cell_type": "code",
      "source": [
        "class Robot:\n",
        "    def func1(self):\n",
        "        print(\"부모 클래스의 func1 실행\")\n",
        "        self.money = 100\n",
        "\n",
        "class study_bot(Robot):\n",
        "    def func2(self):\n",
        "        print(\"자식 클래스의 func2 실행\")\n",
        "        self.book = 10\n",
        "\n",
        "bot1 = Study_bot()\n",
        "bot1.func1() #부모 함수를 실행해야 부모의 속성도 가져오게 된다.\n",
        "bot1.func2()\n",
        "print(bot1.book)\n",
        "print(bot1.money)"
      ],
      "metadata": {
        "colab": {
          "base_uri": "https://localhost:8080/",
          "height": 216
        },
        "id": "9WdOHdphQ7bZ",
        "outputId": "728a66cb-9b2a-46d7-c049-fff137feb8b2"
      },
      "execution_count": null,
      "outputs": [
        {
          "output_type": "error",
          "ename": "AttributeError",
          "evalue": "'Study_bot' object has no attribute 'func1'",
          "traceback": [
            "\u001b[0;31m---------------------------------------------------------------------------\u001b[0m",
            "\u001b[0;31mAttributeError\u001b[0m                            Traceback (most recent call last)",
            "\u001b[0;32m<ipython-input-6-331efef729ba>\u001b[0m in \u001b[0;36m<cell line: 11>\u001b[0;34m()\u001b[0m\n\u001b[1;32m      9\u001b[0m         \u001b[0mself\u001b[0m\u001b[0;34m.\u001b[0m\u001b[0mbook\u001b[0m \u001b[0;34m=\u001b[0m \u001b[0;36m10\u001b[0m\u001b[0;34m\u001b[0m\u001b[0;34m\u001b[0m\u001b[0m\n\u001b[1;32m     10\u001b[0m \u001b[0mbot1\u001b[0m \u001b[0;34m=\u001b[0m \u001b[0mStudy_bot\u001b[0m\u001b[0;34m(\u001b[0m\u001b[0;34m)\u001b[0m\u001b[0;34m\u001b[0m\u001b[0;34m\u001b[0m\u001b[0m\n\u001b[0;32m---> 11\u001b[0;31m \u001b[0mbot1\u001b[0m\u001b[0;34m.\u001b[0m\u001b[0mfunc1\u001b[0m\u001b[0;34m(\u001b[0m\u001b[0;34m)\u001b[0m\u001b[0;34m\u001b[0m\u001b[0;34m\u001b[0m\u001b[0m\n\u001b[0m\u001b[1;32m     12\u001b[0m \u001b[0mbot1\u001b[0m\u001b[0;34m.\u001b[0m\u001b[0mfunc2\u001b[0m\u001b[0;34m(\u001b[0m\u001b[0;34m)\u001b[0m\u001b[0;34m\u001b[0m\u001b[0;34m\u001b[0m\u001b[0m\n\u001b[1;32m     13\u001b[0m \u001b[0mprint\u001b[0m\u001b[0;34m(\u001b[0m\u001b[0mbot1\u001b[0m\u001b[0;34m.\u001b[0m\u001b[0mbook\u001b[0m\u001b[0;34m)\u001b[0m\u001b[0;34m\u001b[0m\u001b[0;34m\u001b[0m\u001b[0m\n",
            "\u001b[0;31mAttributeError\u001b[0m: 'Study_bot' object has no attribute 'func1'"
          ]
        }
      ]
    },
    {
      "cell_type": "code",
      "source": [
        "#딥러닝 코드에선 아래와 같은 코드를 많이 보게 됨.\n",
        "class Robot:\n",
        "    def __init__(self):\n",
        "        print(\"부모 클래스의 init 실행\")\n",
        "        self.money = 100\n",
        "\n",
        "class study_bot(Robot):\n",
        "    def func2(self):\n",
        "        print(\"자식 클래스의 init 실행\")\n",
        "        self.book = 10\n",
        "\n",
        "\n",
        "\n",
        "bot1 = Study_bot()\n",
        "bot1.func2()\n",
        "print(bot1.book)\n",
        "print(bot1.money)"
      ],
      "metadata": {
        "colab": {
          "base_uri": "https://localhost:8080/",
          "height": 198
        },
        "id": "cIju35osRqSY",
        "outputId": "727a6cdc-d4d1-49c2-a283-2b104478c8d4"
      },
      "execution_count": null,
      "outputs": [
        {
          "output_type": "error",
          "ename": "NameError",
          "evalue": "name 'Study_bot' is not defined",
          "traceback": [
            "\u001b[0;31m---------------------------------------------------------------------------\u001b[0m",
            "\u001b[0;31mNameError\u001b[0m                                 Traceback (most recent call last)",
            "\u001b[0;32m<ipython-input-2-2aeeef728603>\u001b[0m in \u001b[0;36m<cell line: 14>\u001b[0;34m()\u001b[0m\n\u001b[1;32m     12\u001b[0m \u001b[0;34m\u001b[0m\u001b[0m\n\u001b[1;32m     13\u001b[0m \u001b[0;34m\u001b[0m\u001b[0m\n\u001b[0;32m---> 14\u001b[0;31m \u001b[0mbot1\u001b[0m \u001b[0;34m=\u001b[0m \u001b[0mStudy_bot\u001b[0m\u001b[0;34m(\u001b[0m\u001b[0;34m)\u001b[0m\u001b[0;34m\u001b[0m\u001b[0;34m\u001b[0m\u001b[0m\n\u001b[0m\u001b[1;32m     15\u001b[0m \u001b[0mbot1\u001b[0m\u001b[0;34m.\u001b[0m\u001b[0mfunc2\u001b[0m\u001b[0;34m(\u001b[0m\u001b[0;34m)\u001b[0m\u001b[0;34m\u001b[0m\u001b[0;34m\u001b[0m\u001b[0m\n",
            "\u001b[0;31mNameError\u001b[0m: name 'Study_bot' is not defined"
          ]
        }
      ]
    },
    {
      "cell_type": "code",
      "source": [
        "class Robot:\n",
        "    def greeting(self):\n",
        "        print(\"로봇입니다\")\n",
        "\n",
        "class Life:\n",
        "    def eat(self):\n",
        "        print(\"냠냠\")\n",
        "\n",
        "class Study_bot(Robot, Life):\n",
        "    def study(self):\n",
        "        print(\"열심열심!\")\n",
        "\n",
        "bot1 = Study_bot()\n",
        "bot1.greeting()\n",
        "bot1.eat()\n",
        "bot1.study()"
      ],
      "metadata": {
        "colab": {
          "base_uri": "https://localhost:8080/"
        },
        "id": "nInmeyAOSJlQ",
        "outputId": "ae4e2497-856d-4b2b-cf66-8128553a1af5"
      },
      "execution_count": null,
      "outputs": [
        {
          "output_type": "stream",
          "name": "stdout",
          "text": [
            "로봇입니다\n",
            "냠냠\n",
            "열심열심!\n"
          ]
        }
      ]
    },
    {
      "cell_type": "code",
      "source": [],
      "metadata": {
        "id": "ECRzpDRjipdS"
      },
      "execution_count": null,
      "outputs": []
    }
  ]
}